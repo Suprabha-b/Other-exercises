{
  "cells": [
    {
      "cell_type": "code",
      "execution_count": null,
      "metadata": {
        "cellView": "form",
        "id": "X53vZqc7PxCA"
      },
      "outputs": [],
      "source": [
        "#@title Copyright 2023 Google LLC. Double-click here for license information.\n",
        "# Licensed under the Apache License, Version 2.0 (the \"License\");\n",
        "# you may not use this file except in compliance with the License.\n",
        "# You may obtain a copy of the License at\n",
        "#\n",
        "# https://www.apache.org/licenses/LICENSE-2.0\n",
        "#\n",
        "# Unless required by applicable law or agreed to in writing, software\n",
        "# distributed under the License is distributed on an \"AS IS\" BASIS,\n",
        "# WITHOUT WARRANTIES OR CONDITIONS OF ANY KIND, either express or implied.\n",
        "# See the License for the specific language governing permissions and\n",
        "# limitations under the License."
      ]
    },
    {
      "cell_type": "markdown",
      "metadata": {
        "id": "mWCXBrPgQD0P"
      },
      "source": [
        "# Colabs\n",
        "\n",
        "Machine Learning Crash Course uses Colaboratories (Colabs) for all programming exercises. Colab is Google's implementation of [Jupyter Notebook](https://jupyter.org/). For more information about Colabs and how to use them, go to [Welcome to Colaboratory](https://research.google.com/colaboratory).\n",
        "\n",
        "# Linear Regression\n",
        "In this Colab you will use a real dataset to train a model to predict the fare of a taxi ride in Chicago, Illinois.\n",
        "\n",
        "## Learning Objectives\n",
        "After completing this Colab, you'll be able to:\n",
        "\n",
        "  * Read a .csv file into a [pandas](https://developers.google.com/machine-learning/glossary/#pandas) DataFrame.\n",
        "  * Explore a [dataset](https://developers.google.com/machine-learning/glossary/#data_set) with Python visualization libraries.\n",
        "  * Experiment with different [features](https://developers.google.com/machine-learning/glossary/#feature) to build a linear regression model.\n",
        "  * Tune the model's [hyperparameters](https://developers.google.com/machine-learning/glossary/#hyperparameter).\n",
        "  * Compare training runs using [root mean squared error](https://developers.google.com/machine-learning/glossary/#root-mean-squared-error-rmse) and [loss curves](https://developers.google.com/machine-learning/glossary/#loss-curve).\n",
        "\n",
        "## Dataset Description\n",
        "The [dataset for this exercise](https://storage.mtls.cloud.google.com/mlcc-nextgen-internal/chicago_taxi_train.csv) is derived from the [City of Chicago Taxi Trips dataset](https://data.cityofchicago.org/Transportation/Taxi-Trips/wrvz-psew). The data for this exercise is a subset of the Taxi Trips data, and focuses on a two-day period in May of 2022."
      ]
    },
    {
      "cell_type": "markdown",
      "metadata": {
        "id": "bBJQc5TgRrFx"
      },
      "source": [
        "# Part 1 - Setup Exercise\n",
        "\n",
        "\n",
        "---\n",
        "\n"
      ]
    },
    {
      "cell_type": "markdown",
      "metadata": {
        "id": "V9pkosc63-63"
      },
      "source": [
        "## Load required modules\n",
        "\n",
        "This exercise depends on several Python libraries to help with data manipulation, machine learning tasks, and data visualization.\n",
        "\n",
        "**Instructions**\n",
        "1. Run the **Load dependencies** code cell (below)."
      ]
    },
    {
      "cell_type": "code",
      "execution_count": 1,
      "metadata": {
        "cellView": "form",
        "id": "wHBXW8ob16z3"
      },
      "outputs": [],
      "source": [
        "#@title Code - Load dependencies\n",
        "\n",
        "#general\n",
        "import io\n",
        "\n",
        "# data\n",
        "import numpy as np\n",
        "import pandas as pd\n",
        "\n",
        "# machine learning\n",
        "import keras\n",
        "\n",
        "# data visualization\n",
        "import plotly.express as px\n",
        "from plotly.subplots import make_subplots\n",
        "import plotly.graph_objects as go\n",
        "import seaborn as sns"
      ]
    },
    {
      "cell_type": "markdown",
      "metadata": {
        "id": "sgR4YRjj5T-b"
      },
      "source": [
        "## Load the dataset\n",
        "\n",
        "\n",
        "The following code cell loads the dataset and creates a pandas DataFrame.\n",
        "\n",
        "You can think of a DataFrame like a spreadsheet with rows and columns. The rows represent individual data examples, and the columns represent the attributes associated with each example."
      ]
    },
    {
      "cell_type": "code",
      "execution_count": 2,
      "metadata": {
        "id": "abmswn6USJjQ"
      },
      "outputs": [],
      "source": [
        "# @title\n",
        "chicago_taxi_dataset = pd.read_csv(\"https://download.mlcc.google.com/mledu-datasets/chicago_taxi_train.csv\")"
      ]
    },
    {
      "cell_type": "code",
      "execution_count": 3,
      "metadata": {},
      "outputs": [
        {
          "data": {
            "text/html": [
              "<div>\n",
              "<style scoped>\n",
              "    .dataframe tbody tr th:only-of-type {\n",
              "        vertical-align: middle;\n",
              "    }\n",
              "\n",
              "    .dataframe tbody tr th {\n",
              "        vertical-align: top;\n",
              "    }\n",
              "\n",
              "    .dataframe thead th {\n",
              "        text-align: right;\n",
              "    }\n",
              "</style>\n",
              "<table border=\"1\" class=\"dataframe\">\n",
              "  <thead>\n",
              "    <tr style=\"text-align: right;\">\n",
              "      <th></th>\n",
              "      <th>TRIP_START_TIMESTAMP</th>\n",
              "      <th>TRIP_END_TIMESTAMP</th>\n",
              "      <th>TRIP_START_HOUR</th>\n",
              "      <th>TRIP_SECONDS</th>\n",
              "      <th>TRIP_MILES</th>\n",
              "      <th>TRIP_SPEED</th>\n",
              "      <th>PICKUP_CENSUS_TRACT</th>\n",
              "      <th>DROPOFF_CENSUS_TRACT</th>\n",
              "      <th>PICKUP_COMMUNITY_AREA</th>\n",
              "      <th>DROPOFF_COMMUNITY_AREA</th>\n",
              "      <th>FARE</th>\n",
              "      <th>TIPS</th>\n",
              "      <th>TIP_RATE</th>\n",
              "      <th>TOLLS</th>\n",
              "      <th>EXTRAS</th>\n",
              "      <th>TRIP_TOTAL</th>\n",
              "      <th>PAYMENT_TYPE</th>\n",
              "      <th>COMPANY</th>\n",
              "    </tr>\n",
              "  </thead>\n",
              "  <tbody>\n",
              "    <tr>\n",
              "      <th>0</th>\n",
              "      <td>05/17/2022 7:15:00 AM</td>\n",
              "      <td>05/17/2022 7:45:00 AM</td>\n",
              "      <td>7.25</td>\n",
              "      <td>2341</td>\n",
              "      <td>2.57</td>\n",
              "      <td>4.0</td>\n",
              "      <td>NaN</td>\n",
              "      <td>NaN</td>\n",
              "      <td>NaN</td>\n",
              "      <td>17.0</td>\n",
              "      <td>31.99</td>\n",
              "      <td>2.0</td>\n",
              "      <td>6.3</td>\n",
              "      <td>0.0</td>\n",
              "      <td>0.0</td>\n",
              "      <td>33.99</td>\n",
              "      <td>Mobile</td>\n",
              "      <td>Flash Cab</td>\n",
              "    </tr>\n",
              "    <tr>\n",
              "      <th>1</th>\n",
              "      <td>05/17/2022 5:15:00 PM</td>\n",
              "      <td>05/17/2022 5:30:00 PM</td>\n",
              "      <td>17.25</td>\n",
              "      <td>1074</td>\n",
              "      <td>1.18</td>\n",
              "      <td>4.0</td>\n",
              "      <td>NaN</td>\n",
              "      <td>1.703108e+10</td>\n",
              "      <td>NaN</td>\n",
              "      <td>8.0</td>\n",
              "      <td>9.75</td>\n",
              "      <td>3.0</td>\n",
              "      <td>27.9</td>\n",
              "      <td>0.0</td>\n",
              "      <td>1.0</td>\n",
              "      <td>14.25</td>\n",
              "      <td>Credit Card</td>\n",
              "      <td>Flash Cab</td>\n",
              "    </tr>\n",
              "    <tr>\n",
              "      <th>2</th>\n",
              "      <td>05/17/2022 5:15:00 PM</td>\n",
              "      <td>05/17/2022 5:30:00 PM</td>\n",
              "      <td>17.25</td>\n",
              "      <td>1173</td>\n",
              "      <td>1.29</td>\n",
              "      <td>4.0</td>\n",
              "      <td>1.703132e+10</td>\n",
              "      <td>1.703108e+10</td>\n",
              "      <td>32.0</td>\n",
              "      <td>8.0</td>\n",
              "      <td>10.25</td>\n",
              "      <td>0.0</td>\n",
              "      <td>0.0</td>\n",
              "      <td>0.0</td>\n",
              "      <td>0.0</td>\n",
              "      <td>10.25</td>\n",
              "      <td>Cash</td>\n",
              "      <td>Sun Taxi</td>\n",
              "    </tr>\n",
              "    <tr>\n",
              "      <th>3</th>\n",
              "      <td>05/17/2022 6:00:00 PM</td>\n",
              "      <td>05/17/2022 7:00:00 PM</td>\n",
              "      <td>18.00</td>\n",
              "      <td>3360</td>\n",
              "      <td>3.70</td>\n",
              "      <td>4.0</td>\n",
              "      <td>1.703132e+10</td>\n",
              "      <td>1.703124e+10</td>\n",
              "      <td>32.0</td>\n",
              "      <td>24.0</td>\n",
              "      <td>23.75</td>\n",
              "      <td>0.0</td>\n",
              "      <td>0.0</td>\n",
              "      <td>0.0</td>\n",
              "      <td>1.0</td>\n",
              "      <td>24.75</td>\n",
              "      <td>Cash</td>\n",
              "      <td>Choice Taxi Association</td>\n",
              "    </tr>\n",
              "    <tr>\n",
              "      <th>4</th>\n",
              "      <td>05/17/2022 5:00:00 PM</td>\n",
              "      <td>05/17/2022 5:30:00 PM</td>\n",
              "      <td>17.00</td>\n",
              "      <td>1044</td>\n",
              "      <td>1.15</td>\n",
              "      <td>4.0</td>\n",
              "      <td>1.703132e+10</td>\n",
              "      <td>1.703108e+10</td>\n",
              "      <td>32.0</td>\n",
              "      <td>8.0</td>\n",
              "      <td>10.00</td>\n",
              "      <td>0.0</td>\n",
              "      <td>0.0</td>\n",
              "      <td>0.0</td>\n",
              "      <td>0.0</td>\n",
              "      <td>10.00</td>\n",
              "      <td>Cash</td>\n",
              "      <td>Flash Cab</td>\n",
              "    </tr>\n",
              "  </tbody>\n",
              "</table>\n",
              "</div>"
            ],
            "text/plain": [
              "    TRIP_START_TIMESTAMP     TRIP_END_TIMESTAMP  TRIP_START_HOUR  \\\n",
              "0  05/17/2022 7:15:00 AM  05/17/2022 7:45:00 AM             7.25   \n",
              "1  05/17/2022 5:15:00 PM  05/17/2022 5:30:00 PM            17.25   \n",
              "2  05/17/2022 5:15:00 PM  05/17/2022 5:30:00 PM            17.25   \n",
              "3  05/17/2022 6:00:00 PM  05/17/2022 7:00:00 PM            18.00   \n",
              "4  05/17/2022 5:00:00 PM  05/17/2022 5:30:00 PM            17.00   \n",
              "\n",
              "   TRIP_SECONDS  TRIP_MILES  TRIP_SPEED  PICKUP_CENSUS_TRACT  \\\n",
              "0          2341        2.57         4.0                  NaN   \n",
              "1          1074        1.18         4.0                  NaN   \n",
              "2          1173        1.29         4.0         1.703132e+10   \n",
              "3          3360        3.70         4.0         1.703132e+10   \n",
              "4          1044        1.15         4.0         1.703132e+10   \n",
              "\n",
              "   DROPOFF_CENSUS_TRACT  PICKUP_COMMUNITY_AREA  DROPOFF_COMMUNITY_AREA   FARE  \\\n",
              "0                   NaN                    NaN                    17.0  31.99   \n",
              "1          1.703108e+10                    NaN                     8.0   9.75   \n",
              "2          1.703108e+10                   32.0                     8.0  10.25   \n",
              "3          1.703124e+10                   32.0                    24.0  23.75   \n",
              "4          1.703108e+10                   32.0                     8.0  10.00   \n",
              "\n",
              "   TIPS  TIP_RATE  TOLLS  EXTRAS  TRIP_TOTAL PAYMENT_TYPE  \\\n",
              "0   2.0       6.3    0.0     0.0       33.99       Mobile   \n",
              "1   3.0      27.9    0.0     1.0       14.25  Credit Card   \n",
              "2   0.0       0.0    0.0     0.0       10.25         Cash   \n",
              "3   0.0       0.0    0.0     1.0       24.75         Cash   \n",
              "4   0.0       0.0    0.0     0.0       10.00         Cash   \n",
              "\n",
              "                   COMPANY  \n",
              "0                Flash Cab  \n",
              "1                Flash Cab  \n",
              "2                 Sun Taxi  \n",
              "3  Choice Taxi Association  \n",
              "4                Flash Cab  "
            ]
          },
          "execution_count": 3,
          "metadata": {},
          "output_type": "execute_result"
        }
      ],
      "source": [
        "chicago_taxi_dataset.head()"
      ]
    },
    {
      "cell_type": "code",
      "execution_count": 5,
      "metadata": {},
      "outputs": [
        {
          "data": {
            "text/plain": [
              "570492"
            ]
          },
          "execution_count": 5,
          "metadata": {},
          "output_type": "execute_result"
        }
      ],
      "source": [
        "chicago_taxi_dataset.size"
      ]
    },
    {
      "cell_type": "markdown",
      "metadata": {
        "id": "iKE0s1hNQ4H9"
      },
      "source": [
        "## Update the dataframe\n",
        "\n",
        "The following code cell updates the DataFrame to use only specific columns from the dataset.\n",
        "\n",
        "Notice that that output shows just a sample of the dataset, but there should be enough information for you to identify the features associated with the dataset, and have a look at the actual data for a few examples."
      ]
    },
    {
      "cell_type": "code",
      "execution_count": 6,
      "metadata": {
        "cellView": "form",
        "id": "YuLz6IgGP2LE"
      },
      "outputs": [
        {
          "name": "stdout",
          "output_type": "stream",
          "text": [
            "Read dataset completed successfully.\n",
            "Total number of rows: 31694\n",
            "\n",
            "\n"
          ]
        },
        {
          "data": {
            "text/html": [
              "<div>\n",
              "<style scoped>\n",
              "    .dataframe tbody tr th:only-of-type {\n",
              "        vertical-align: middle;\n",
              "    }\n",
              "\n",
              "    .dataframe tbody tr th {\n",
              "        vertical-align: top;\n",
              "    }\n",
              "\n",
              "    .dataframe thead th {\n",
              "        text-align: right;\n",
              "    }\n",
              "</style>\n",
              "<table border=\"1\" class=\"dataframe\">\n",
              "  <thead>\n",
              "    <tr style=\"text-align: right;\">\n",
              "      <th></th>\n",
              "      <th>TRIP_MILES</th>\n",
              "      <th>TRIP_SECONDS</th>\n",
              "      <th>FARE</th>\n",
              "      <th>COMPANY</th>\n",
              "      <th>PAYMENT_TYPE</th>\n",
              "      <th>TIP_RATE</th>\n",
              "    </tr>\n",
              "  </thead>\n",
              "  <tbody>\n",
              "    <tr>\n",
              "      <th>0</th>\n",
              "      <td>2.57</td>\n",
              "      <td>2341</td>\n",
              "      <td>31.99</td>\n",
              "      <td>Flash Cab</td>\n",
              "      <td>Mobile</td>\n",
              "      <td>6.3</td>\n",
              "    </tr>\n",
              "    <tr>\n",
              "      <th>1</th>\n",
              "      <td>1.18</td>\n",
              "      <td>1074</td>\n",
              "      <td>9.75</td>\n",
              "      <td>Flash Cab</td>\n",
              "      <td>Credit Card</td>\n",
              "      <td>27.9</td>\n",
              "    </tr>\n",
              "    <tr>\n",
              "      <th>2</th>\n",
              "      <td>1.29</td>\n",
              "      <td>1173</td>\n",
              "      <td>10.25</td>\n",
              "      <td>Sun Taxi</td>\n",
              "      <td>Cash</td>\n",
              "      <td>0.0</td>\n",
              "    </tr>\n",
              "    <tr>\n",
              "      <th>3</th>\n",
              "      <td>3.70</td>\n",
              "      <td>3360</td>\n",
              "      <td>23.75</td>\n",
              "      <td>Choice Taxi Association</td>\n",
              "      <td>Cash</td>\n",
              "      <td>0.0</td>\n",
              "    </tr>\n",
              "    <tr>\n",
              "      <th>4</th>\n",
              "      <td>1.15</td>\n",
              "      <td>1044</td>\n",
              "      <td>10.00</td>\n",
              "      <td>Flash Cab</td>\n",
              "      <td>Cash</td>\n",
              "      <td>0.0</td>\n",
              "    </tr>\n",
              "    <tr>\n",
              "      <th>...</th>\n",
              "      <td>...</td>\n",
              "      <td>...</td>\n",
              "      <td>...</td>\n",
              "      <td>...</td>\n",
              "      <td>...</td>\n",
              "      <td>...</td>\n",
              "    </tr>\n",
              "    <tr>\n",
              "      <th>195</th>\n",
              "      <td>1.13</td>\n",
              "      <td>821</td>\n",
              "      <td>9.00</td>\n",
              "      <td>Blue Ribbon Taxi Association</td>\n",
              "      <td>Mobile</td>\n",
              "      <td>22.9</td>\n",
              "    </tr>\n",
              "    <tr>\n",
              "      <th>196</th>\n",
              "      <td>0.57</td>\n",
              "      <td>414</td>\n",
              "      <td>6.00</td>\n",
              "      <td>Flash Cab</td>\n",
              "      <td>Cash</td>\n",
              "      <td>0.0</td>\n",
              "    </tr>\n",
              "    <tr>\n",
              "      <th>197</th>\n",
              "      <td>1.22</td>\n",
              "      <td>886</td>\n",
              "      <td>9.00</td>\n",
              "      <td>City Service</td>\n",
              "      <td>Cash</td>\n",
              "      <td>0.0</td>\n",
              "    </tr>\n",
              "    <tr>\n",
              "      <th>198</th>\n",
              "      <td>1.68</td>\n",
              "      <td>1219</td>\n",
              "      <td>9.00</td>\n",
              "      <td>Sun Taxi</td>\n",
              "      <td>Mobile</td>\n",
              "      <td>23.0</td>\n",
              "    </tr>\n",
              "    <tr>\n",
              "      <th>199</th>\n",
              "      <td>0.71</td>\n",
              "      <td>515</td>\n",
              "      <td>6.50</td>\n",
              "      <td>Sun Taxi</td>\n",
              "      <td>Credit Card</td>\n",
              "      <td>18.2</td>\n",
              "    </tr>\n",
              "  </tbody>\n",
              "</table>\n",
              "<p>200 rows × 6 columns</p>\n",
              "</div>"
            ],
            "text/plain": [
              "     TRIP_MILES  TRIP_SECONDS   FARE                       COMPANY  \\\n",
              "0          2.57          2341  31.99                     Flash Cab   \n",
              "1          1.18          1074   9.75                     Flash Cab   \n",
              "2          1.29          1173  10.25                      Sun Taxi   \n",
              "3          3.70          3360  23.75       Choice Taxi Association   \n",
              "4          1.15          1044  10.00                     Flash Cab   \n",
              "..          ...           ...    ...                           ...   \n",
              "195        1.13           821   9.00  Blue Ribbon Taxi Association   \n",
              "196        0.57           414   6.00                     Flash Cab   \n",
              "197        1.22           886   9.00                  City Service   \n",
              "198        1.68          1219   9.00                      Sun Taxi   \n",
              "199        0.71           515   6.50                      Sun Taxi   \n",
              "\n",
              "    PAYMENT_TYPE  TIP_RATE  \n",
              "0         Mobile       6.3  \n",
              "1    Credit Card      27.9  \n",
              "2           Cash       0.0  \n",
              "3           Cash       0.0  \n",
              "4           Cash       0.0  \n",
              "..           ...       ...  \n",
              "195       Mobile      22.9  \n",
              "196         Cash       0.0  \n",
              "197         Cash       0.0  \n",
              "198       Mobile      23.0  \n",
              "199  Credit Card      18.2  \n",
              "\n",
              "[200 rows x 6 columns]"
            ]
          },
          "execution_count": 6,
          "metadata": {},
          "output_type": "execute_result"
        }
      ],
      "source": [
        "#@title Code - Read dataset\n",
        "\n",
        "# Updates dataframe to use specific columns.\n",
        "training_df = chicago_taxi_dataset[['TRIP_MILES', 'TRIP_SECONDS', 'FARE', 'COMPANY', 'PAYMENT_TYPE', 'TIP_RATE']]\n",
        "\n",
        "print('Read dataset completed successfully.')\n",
        "print('Total number of rows: {0}\\n\\n'.format(len(training_df.index)))\n",
        "training_df.head(200)"
      ]
    },
    {
      "cell_type": "code",
      "execution_count": 8,
      "metadata": {},
      "outputs": [
        {
          "data": {
            "text/plain": [
              "(RangeIndex(start=0, stop=31694, step=1), 190164)"
            ]
          },
          "execution_count": 8,
          "metadata": {},
          "output_type": "execute_result"
        }
      ],
      "source": [
        "training_df.index, training_df.size"
      ]
    },
    {
      "cell_type": "markdown",
      "metadata": {
        "id": "RUL471vSR28O"
      },
      "source": [
        "# Part 2 - Dataset Exploration\n",
        "\n",
        "\n",
        "---\n",
        "\n"
      ]
    },
    {
      "cell_type": "markdown",
      "metadata": {
        "id": "7mhqzPIS9nFv"
      },
      "source": [
        "## View dataset statistics\n",
        "\n",
        "A large part of most machine learning projects is getting to know your data. In this step, you will use the ``DataFrame.describe`` method to view descriptive statistics about the dataset and answer some important questions about the data.\n",
        "\n",
        "**Instructions**\n",
        "1. Run the **View dataset statistics** code cell.\n",
        "1. Inspect the output and answer these questions:\n",
        "  * What is the maximum fare?\n",
        "  * What is the mean distance across all trips?\n",
        "  * How many cab companies are in the dataset?\n",
        "  * What is the most frequent payment type?\n",
        "  * Are any features missing data?\n",
        "1. Run the code **View answers to dataset statistics** code cell to check your answers.\n",
        "\n",
        "\n",
        "You might be wondering why there are groups of `NaN` (not a number) values listed in the output. When working with data in Python, you may see this value if the result of a calculation can not be computed or if there is missing information. For example, in the taxi dataset `PAYMENT_TYPE` and `COMPANY` are non-numeric, categorical features; numeric information such as mean and max do not make sense for categorical features so the output displays `NaN`."
      ]
    },
    {
      "cell_type": "code",
      "execution_count": 9,
      "metadata": {
        "cellView": "form",
        "id": "pkuQNjgoAKYt"
      },
      "outputs": [
        {
          "name": "stdout",
          "output_type": "stream",
          "text": [
            "Total number of rows: 31694\n",
            "\n",
            "\n"
          ]
        },
        {
          "data": {
            "text/html": [
              "<div>\n",
              "<style scoped>\n",
              "    .dataframe tbody tr th:only-of-type {\n",
              "        vertical-align: middle;\n",
              "    }\n",
              "\n",
              "    .dataframe tbody tr th {\n",
              "        vertical-align: top;\n",
              "    }\n",
              "\n",
              "    .dataframe thead th {\n",
              "        text-align: right;\n",
              "    }\n",
              "</style>\n",
              "<table border=\"1\" class=\"dataframe\">\n",
              "  <thead>\n",
              "    <tr style=\"text-align: right;\">\n",
              "      <th></th>\n",
              "      <th>TRIP_MILES</th>\n",
              "      <th>TRIP_SECONDS</th>\n",
              "      <th>FARE</th>\n",
              "      <th>COMPANY</th>\n",
              "      <th>PAYMENT_TYPE</th>\n",
              "      <th>TIP_RATE</th>\n",
              "    </tr>\n",
              "  </thead>\n",
              "  <tbody>\n",
              "    <tr>\n",
              "      <th>count</th>\n",
              "      <td>31694.000000</td>\n",
              "      <td>31694.000000</td>\n",
              "      <td>31694.000000</td>\n",
              "      <td>31694</td>\n",
              "      <td>31694</td>\n",
              "      <td>31694.000000</td>\n",
              "    </tr>\n",
              "    <tr>\n",
              "      <th>unique</th>\n",
              "      <td>NaN</td>\n",
              "      <td>NaN</td>\n",
              "      <td>NaN</td>\n",
              "      <td>31</td>\n",
              "      <td>7</td>\n",
              "      <td>NaN</td>\n",
              "    </tr>\n",
              "    <tr>\n",
              "      <th>top</th>\n",
              "      <td>NaN</td>\n",
              "      <td>NaN</td>\n",
              "      <td>NaN</td>\n",
              "      <td>Flash Cab</td>\n",
              "      <td>Credit Card</td>\n",
              "      <td>NaN</td>\n",
              "    </tr>\n",
              "    <tr>\n",
              "      <th>freq</th>\n",
              "      <td>NaN</td>\n",
              "      <td>NaN</td>\n",
              "      <td>NaN</td>\n",
              "      <td>7887</td>\n",
              "      <td>14142</td>\n",
              "      <td>NaN</td>\n",
              "    </tr>\n",
              "    <tr>\n",
              "      <th>mean</th>\n",
              "      <td>8.289463</td>\n",
              "      <td>1319.796397</td>\n",
              "      <td>23.905210</td>\n",
              "      <td>NaN</td>\n",
              "      <td>NaN</td>\n",
              "      <td>12.965785</td>\n",
              "    </tr>\n",
              "    <tr>\n",
              "      <th>std</th>\n",
              "      <td>7.265672</td>\n",
              "      <td>928.932873</td>\n",
              "      <td>16.970022</td>\n",
              "      <td>NaN</td>\n",
              "      <td>NaN</td>\n",
              "      <td>15.517765</td>\n",
              "    </tr>\n",
              "    <tr>\n",
              "      <th>min</th>\n",
              "      <td>0.500000</td>\n",
              "      <td>60.000000</td>\n",
              "      <td>3.250000</td>\n",
              "      <td>NaN</td>\n",
              "      <td>NaN</td>\n",
              "      <td>0.000000</td>\n",
              "    </tr>\n",
              "    <tr>\n",
              "      <th>25%</th>\n",
              "      <td>1.720000</td>\n",
              "      <td>548.000000</td>\n",
              "      <td>9.000000</td>\n",
              "      <td>NaN</td>\n",
              "      <td>NaN</td>\n",
              "      <td>0.000000</td>\n",
              "    </tr>\n",
              "    <tr>\n",
              "      <th>50%</th>\n",
              "      <td>5.920000</td>\n",
              "      <td>1081.000000</td>\n",
              "      <td>18.750000</td>\n",
              "      <td>NaN</td>\n",
              "      <td>NaN</td>\n",
              "      <td>12.200000</td>\n",
              "    </tr>\n",
              "    <tr>\n",
              "      <th>75%</th>\n",
              "      <td>14.500000</td>\n",
              "      <td>1888.000000</td>\n",
              "      <td>38.750000</td>\n",
              "      <td>NaN</td>\n",
              "      <td>NaN</td>\n",
              "      <td>20.800000</td>\n",
              "    </tr>\n",
              "    <tr>\n",
              "      <th>max</th>\n",
              "      <td>68.120000</td>\n",
              "      <td>7140.000000</td>\n",
              "      <td>159.250000</td>\n",
              "      <td>NaN</td>\n",
              "      <td>NaN</td>\n",
              "      <td>648.600000</td>\n",
              "    </tr>\n",
              "  </tbody>\n",
              "</table>\n",
              "</div>"
            ],
            "text/plain": [
              "          TRIP_MILES  TRIP_SECONDS          FARE    COMPANY PAYMENT_TYPE  \\\n",
              "count   31694.000000  31694.000000  31694.000000      31694        31694   \n",
              "unique           NaN           NaN           NaN         31            7   \n",
              "top              NaN           NaN           NaN  Flash Cab  Credit Card   \n",
              "freq             NaN           NaN           NaN       7887        14142   \n",
              "mean        8.289463   1319.796397     23.905210        NaN          NaN   \n",
              "std         7.265672    928.932873     16.970022        NaN          NaN   \n",
              "min         0.500000     60.000000      3.250000        NaN          NaN   \n",
              "25%         1.720000    548.000000      9.000000        NaN          NaN   \n",
              "50%         5.920000   1081.000000     18.750000        NaN          NaN   \n",
              "75%        14.500000   1888.000000     38.750000        NaN          NaN   \n",
              "max        68.120000   7140.000000    159.250000        NaN          NaN   \n",
              "\n",
              "            TIP_RATE  \n",
              "count   31694.000000  \n",
              "unique           NaN  \n",
              "top              NaN  \n",
              "freq             NaN  \n",
              "mean       12.965785  \n",
              "std        15.517765  \n",
              "min         0.000000  \n",
              "25%         0.000000  \n",
              "50%        12.200000  \n",
              "75%        20.800000  \n",
              "max       648.600000  "
            ]
          },
          "execution_count": 9,
          "metadata": {},
          "output_type": "execute_result"
        }
      ],
      "source": [
        "#@title Code - View dataset statistics\n",
        "\n",
        "print('Total number of rows: {0}\\n\\n'.format(len(training_df.index)))\n",
        "training_df.describe(include='all')"
      ]
    },
    {
      "cell_type": "code",
      "execution_count": 11,
      "metadata": {},
      "outputs": [
        {
          "data": {
            "text/html": [
              "<div>\n",
              "<style scoped>\n",
              "    .dataframe tbody tr th:only-of-type {\n",
              "        vertical-align: middle;\n",
              "    }\n",
              "\n",
              "    .dataframe tbody tr th {\n",
              "        vertical-align: top;\n",
              "    }\n",
              "\n",
              "    .dataframe thead th {\n",
              "        text-align: right;\n",
              "    }\n",
              "</style>\n",
              "<table border=\"1\" class=\"dataframe\">\n",
              "  <thead>\n",
              "    <tr style=\"text-align: right;\">\n",
              "      <th></th>\n",
              "      <th>TRIP_MILES</th>\n",
              "      <th>TRIP_SECONDS</th>\n",
              "      <th>FARE</th>\n",
              "      <th>TIP_RATE</th>\n",
              "    </tr>\n",
              "  </thead>\n",
              "  <tbody>\n",
              "    <tr>\n",
              "      <th>count</th>\n",
              "      <td>31694.000000</td>\n",
              "      <td>31694.000000</td>\n",
              "      <td>31694.000000</td>\n",
              "      <td>31694.000000</td>\n",
              "    </tr>\n",
              "    <tr>\n",
              "      <th>mean</th>\n",
              "      <td>8.289463</td>\n",
              "      <td>1319.796397</td>\n",
              "      <td>23.905210</td>\n",
              "      <td>12.965785</td>\n",
              "    </tr>\n",
              "    <tr>\n",
              "      <th>std</th>\n",
              "      <td>7.265672</td>\n",
              "      <td>928.932873</td>\n",
              "      <td>16.970022</td>\n",
              "      <td>15.517765</td>\n",
              "    </tr>\n",
              "    <tr>\n",
              "      <th>min</th>\n",
              "      <td>0.500000</td>\n",
              "      <td>60.000000</td>\n",
              "      <td>3.250000</td>\n",
              "      <td>0.000000</td>\n",
              "    </tr>\n",
              "    <tr>\n",
              "      <th>25%</th>\n",
              "      <td>1.720000</td>\n",
              "      <td>548.000000</td>\n",
              "      <td>9.000000</td>\n",
              "      <td>0.000000</td>\n",
              "    </tr>\n",
              "    <tr>\n",
              "      <th>50%</th>\n",
              "      <td>5.920000</td>\n",
              "      <td>1081.000000</td>\n",
              "      <td>18.750000</td>\n",
              "      <td>12.200000</td>\n",
              "    </tr>\n",
              "    <tr>\n",
              "      <th>75%</th>\n",
              "      <td>14.500000</td>\n",
              "      <td>1888.000000</td>\n",
              "      <td>38.750000</td>\n",
              "      <td>20.800000</td>\n",
              "    </tr>\n",
              "    <tr>\n",
              "      <th>max</th>\n",
              "      <td>68.120000</td>\n",
              "      <td>7140.000000</td>\n",
              "      <td>159.250000</td>\n",
              "      <td>648.600000</td>\n",
              "    </tr>\n",
              "  </tbody>\n",
              "</table>\n",
              "</div>"
            ],
            "text/plain": [
              "         TRIP_MILES  TRIP_SECONDS          FARE      TIP_RATE\n",
              "count  31694.000000  31694.000000  31694.000000  31694.000000\n",
              "mean       8.289463   1319.796397     23.905210     12.965785\n",
              "std        7.265672    928.932873     16.970022     15.517765\n",
              "min        0.500000     60.000000      3.250000      0.000000\n",
              "25%        1.720000    548.000000      9.000000      0.000000\n",
              "50%        5.920000   1081.000000     18.750000     12.200000\n",
              "75%       14.500000   1888.000000     38.750000     20.800000\n",
              "max       68.120000   7140.000000    159.250000    648.600000"
            ]
          },
          "execution_count": 11,
          "metadata": {},
          "output_type": "execute_result"
        }
      ],
      "source": [
        "training_df.describe() # default is include = None, means columns with only numeric type values are shown"
      ]
    },
    {
      "cell_type": "code",
      "execution_count": 12,
      "metadata": {
        "cellView": "form",
        "id": "VQ9R5o7CcFzY"
      },
      "outputs": [
        {
          "name": "stdout",
          "output_type": "stream",
          "text": [
            "What is the maximum fare? \t\t\t\tAnswer: $159.25\n",
            "What is the mean distance across all trips? \t\tAnswer: 8.2895 miles\n",
            "How many cab companies are in the dataset? \t\tAnswer: 31\n",
            "What is the most frequent payment type? \t\tAnswer: Credit Card\n",
            "Are any features missing data? \t\t\t\tAnswer: No\n"
          ]
        }
      ],
      "source": [
        "#@title Double-click or run to view answers about dataset statistics\n",
        "\n",
        "answer = '''\n",
        "What is the maximum fare? \t\t\t\t              Answer: $159.25\n",
        "What is the mean distance across all trips? \t\tAnswer: 8.2895 miles\n",
        "How many cab companies are in the dataset? \t\t  Answer: 31\n",
        "What is the most frequent payment type? \t\t    Answer: Credit Card\n",
        "Are any features missing data? \t\t\t\t          Answer: No\n",
        "'''\n",
        "\n",
        "# You should be able to find the answers to the questions about the dataset\n",
        "# by inspecting the table output after running the DataFrame describe method.\n",
        "#\n",
        "# Run this code cell to verify your answers.\n",
        "\n",
        "# What is the maximum fare?\n",
        "max_fare = training_df['FARE'].max()\n",
        "print(\"What is the maximum fare? \\t\\t\\t\\tAnswer: ${fare:.2f}\".format(fare = max_fare))\n",
        "\n",
        "# What is the mean distance across all trips?\n",
        "mean_distance = training_df['TRIP_MILES'].mean()\n",
        "print(\"What is the mean distance across all trips? \\t\\tAnswer: {mean:.4f} miles\".format(mean = mean_distance))\n",
        "\n",
        "# How many cab companies are in the dataset?\n",
        "num_unique_companies =  training_df['COMPANY'].nunique()\n",
        "print(\"How many cab companies are in the dataset? \\t\\tAnswer: {number}\".format(number = num_unique_companies))\n",
        "\n",
        "# What is the most frequent payment type?\n",
        "most_freq_payment_type = training_df['PAYMENT_TYPE'].value_counts().idxmax()\n",
        "print(\"What is the most frequent payment type? \\t\\tAnswer: {type}\".format(type = most_freq_payment_type))\n",
        "\n",
        "# Are any features missing data?\n",
        "missing_values = training_df.isnull().sum().sum()\n",
        "print(\"Are any features missing data? \\t\\t\\t\\tAnswer:\", \"No\" if missing_values == 0 else \"Yes\")\n"
      ]
    },
    {
      "cell_type": "code",
      "execution_count": 15,
      "metadata": {},
      "outputs": [
        {
          "data": {
            "text/plain": [
              "(68.12, 7140, 159.25, 'U Taxicab', 'Unknown', 648.6)"
            ]
          },
          "execution_count": 15,
          "metadata": {},
          "output_type": "execute_result"
        }
      ],
      "source": [
        "training_df['TRIP_MILES'].max(), training_df['TRIP_SECONDS'].max(), training_df['FARE'].max(), training_df['COMPANY'].max(), training_df['PAYMENT_TYPE'].max(), training_df['TIP_RATE'].max()"
      ]
    },
    {
      "cell_type": "code",
      "execution_count": 18,
      "metadata": {},
      "outputs": [
        {
          "data": {
            "text/plain": [
              "(8.289462674323214, 1319.796396794346, 23.905209818893166, 12.965785322142994)"
            ]
          },
          "execution_count": 18,
          "metadata": {},
          "output_type": "execute_result"
        }
      ],
      "source": [
        "training_df['TRIP_MILES'].mean(), training_df['TRIP_SECONDS'].mean(), training_df['FARE'].mean(), training_df['TIP_RATE'].mean() # training_df['COMPANY'].mean(), training_df['PAYMENT_TYPE'].mean() given an error"
      ]
    },
    {
      "cell_type": "code",
      "execution_count": 19,
      "metadata": {},
      "outputs": [
        {
          "data": {
            "text/plain": [
              "(2602, 3740, 1597, 31, 7, 506)"
            ]
          },
          "execution_count": 19,
          "metadata": {},
          "output_type": "execute_result"
        }
      ],
      "source": [
        "training_df['TRIP_MILES'].nunique(), training_df['TRIP_SECONDS'].nunique(), training_df['FARE'].nunique(), training_df['COMPANY'].nunique(), training_df['PAYMENT_TYPE'].nunique(), training_df['TIP_RATE'].nunique()"
      ]
    },
    {
      "cell_type": "code",
      "execution_count": 20,
      "metadata": {},
      "outputs": [
        {
          "data": {
            "text/plain": [
              "(TRIP_MILES\n",
              " 0.90     293\n",
              " 0.80     290\n",
              " 1.00     283\n",
              " 1.10     280\n",
              " 1.20     264\n",
              "         ... \n",
              " 27.32      1\n",
              " 22.02      1\n",
              " 26.77      1\n",
              " 20.39      1\n",
              " 36.70      1\n",
              " Name: count, Length: 2602, dtype: int64,\n",
              " TRIP_SECONDS\n",
              " 420     423\n",
              " 480     406\n",
              " 360     386\n",
              " 540     373\n",
              " 300     360\n",
              "        ... \n",
              " 5864      1\n",
              " 1994      1\n",
              " 4154      1\n",
              " 2964      1\n",
              " 4467      1\n",
              " Name: count, Length: 3740, dtype: int64,\n",
              " FARE\n",
              " 9.00      1490\n",
              " 6.50       542\n",
              " 6.75       533\n",
              " 6.00       514\n",
              " 5.75       505\n",
              "           ... \n",
              " 16.33        1\n",
              " 19.02        1\n",
              " 13.95        1\n",
              " 21.41        1\n",
              " 120.25       1\n",
              " Name: count, Length: 1597, dtype: int64,\n",
              " COMPANY\n",
              " Flash Cab                               7887\n",
              " Taxi Affiliation Services               4371\n",
              " Sun Taxi                                4024\n",
              " City Service                            3199\n",
              " Chicago Independents                    1800\n",
              " Medallion Leasin                        1390\n",
              " Taxicab Insurance Agency, LLC           1365\n",
              " Globe Taxi                              1309\n",
              " Taxicab Insurance Agency Llc            1167\n",
              " Star North Taxi Management Llc          1096\n",
              " Blue Ribbon Taxi Association             919\n",
              " Choice Taxi Association                  752\n",
              " Top Cab Affiliation                      721\n",
              " 24 Seven Taxi                            708\n",
              " U Taxicab                                424\n",
              " Patriot Taxi Dba Peace Taxi Associat     131\n",
              " Chicago Taxicab                          128\n",
              " Koam Taxi Association                     43\n",
              " 312 Medallion Management Corp             40\n",
              " Blue Ribbon Taxi Association Inc.         39\n",
              " Petani Cab Corp                           39\n",
              " KOAM Taxi Association                     28\n",
              " Metro Jet Taxi A.                         24\n",
              " Top Cab                                   21\n",
              " Setare Inc                                15\n",
              " 6574 - Babylon Express Inc.               14\n",
              " 4787 - 56058 Reny Cab Co                  10\n",
              " 3556 - 36214 RC Andrews Cab               10\n",
              " 4623 - 27290 Jay Kim                      10\n",
              " 2733 - 74600 Benny Jona                    6\n",
              " 4053 - 40193 Adwar H. Nikola               4\n",
              " Name: count, dtype: int64,\n",
              " PAYMENT_TYPE\n",
              " Credit Card    14142\n",
              " Cash            8770\n",
              " Mobile          4041\n",
              " Prcard          3504\n",
              " Unknown         1206\n",
              " No Charge         16\n",
              " Dispute           15\n",
              " Name: count, dtype: int64,\n",
              " TIP_RATE\n",
              " 0.0      14291\n",
              " 20.2      3106\n",
              " 23.0      1505\n",
              " 20.3       798\n",
              " 25.3       617\n",
              "          ...  \n",
              " 57.6         1\n",
              " 106.8        1\n",
              " 38.4         1\n",
              " 61.7         1\n",
              " 45.2         1\n",
              " Name: count, Length: 506, dtype: int64)"
            ]
          },
          "execution_count": 20,
          "metadata": {},
          "output_type": "execute_result"
        }
      ],
      "source": [
        "training_df['TRIP_MILES'].value_counts(), training_df['TRIP_SECONDS'].value_counts(), training_df['FARE'].value_counts(), training_df['COMPANY'].value_counts(), training_df['PAYMENT_TYPE'].value_counts(), training_df['TIP_RATE'].value_counts()"
      ]
    },
    {
      "cell_type": "code",
      "execution_count": 22,
      "metadata": {},
      "outputs": [
        {
          "data": {
            "text/plain": [
              "(0.9, 420, 9.0, 'Flash Cab', 'Credit Card', 0.0)"
            ]
          },
          "execution_count": 22,
          "metadata": {},
          "output_type": "execute_result"
        }
      ],
      "source": [
        "training_df['TRIP_MILES'].value_counts().idxmax(), training_df['TRIP_SECONDS'].value_counts().idxmax(), training_df['FARE'].value_counts().idxmax(), training_df['COMPANY'].value_counts().idxmax(), training_df['PAYMENT_TYPE'].value_counts().idxmax(), training_df['TIP_RATE'].value_counts().idxmax()"
      ]
    },
    {
      "cell_type": "markdown",
      "metadata": {
        "id": "-StQ4-wbBpIP"
      },
      "source": [
        "## Generate a correlation matrix\n",
        "\n",
        "An important part of machine learning is determining which [features](https://developers.google.com/machine-learning/glossary/#feature) correlate with the [label](https://developers.google.com/machine-learning/glossary/#label). If you have ever taken a taxi ride before, your experience is probably telling you that the fare is typically associated with the distance traveled and the duration of the trip. But, is there a way for you to learn more about how well these features correlate to the fare (label)?\n",
        "\n",
        "In this step, you will use a **correlation matrix** to identify features whose values correlate well with the label. Correlation values have the following meanings:\n",
        "\n",
        "  * **`1.0`**: perfect positive correlation; that is, when one attribute rises, the other attribute rises.\n",
        "  * **`-1.0`**: perfect negative correlation; that is, when one attribute rises, the other attribute falls.\n",
        "  * **`0.0`**: no correlation; the two columns [are not linearly related](https://en.wikipedia.org/wiki/Correlation_and_dependence#/media/File:Correlation_examples2.svg).\n",
        "\n",
        "In general, the higher the absolute value of a correlation value, the greater its predictive power.\n",
        "\n",
        "**Instructions**\n",
        "\n",
        "1. Inspect the code in the **View correlation matrix** code cell.\n",
        "1. Run the **View correlation matrix** code cell and inspect the output.\n",
        "1. **Check your understanding** by answering these questions:\n",
        "  * Which feature correlates most strongly to the label FARE?\n",
        "  * Which feature correlates least strongly to the label FARE?\n"
      ]
    },
    {
      "cell_type": "code",
      "execution_count": 13,
      "metadata": {
        "cellView": "form",
        "id": "-1kFmfdFDVmv"
      },
      "outputs": [
        {
          "data": {
            "text/html": [
              "<div>\n",
              "<style scoped>\n",
              "    .dataframe tbody tr th:only-of-type {\n",
              "        vertical-align: middle;\n",
              "    }\n",
              "\n",
              "    .dataframe tbody tr th {\n",
              "        vertical-align: top;\n",
              "    }\n",
              "\n",
              "    .dataframe thead th {\n",
              "        text-align: right;\n",
              "    }\n",
              "</style>\n",
              "<table border=\"1\" class=\"dataframe\">\n",
              "  <thead>\n",
              "    <tr style=\"text-align: right;\">\n",
              "      <th></th>\n",
              "      <th>TRIP_MILES</th>\n",
              "      <th>TRIP_SECONDS</th>\n",
              "      <th>FARE</th>\n",
              "      <th>TIP_RATE</th>\n",
              "    </tr>\n",
              "  </thead>\n",
              "  <tbody>\n",
              "    <tr>\n",
              "      <th>TRIP_MILES</th>\n",
              "      <td>1.000000</td>\n",
              "      <td>0.800855</td>\n",
              "      <td>0.975344</td>\n",
              "      <td>-0.049594</td>\n",
              "    </tr>\n",
              "    <tr>\n",
              "      <th>TRIP_SECONDS</th>\n",
              "      <td>0.800855</td>\n",
              "      <td>1.000000</td>\n",
              "      <td>0.830292</td>\n",
              "      <td>-0.084294</td>\n",
              "    </tr>\n",
              "    <tr>\n",
              "      <th>FARE</th>\n",
              "      <td>0.975344</td>\n",
              "      <td>0.830292</td>\n",
              "      <td>1.000000</td>\n",
              "      <td>-0.070979</td>\n",
              "    </tr>\n",
              "    <tr>\n",
              "      <th>TIP_RATE</th>\n",
              "      <td>-0.049594</td>\n",
              "      <td>-0.084294</td>\n",
              "      <td>-0.070979</td>\n",
              "      <td>1.000000</td>\n",
              "    </tr>\n",
              "  </tbody>\n",
              "</table>\n",
              "</div>"
            ],
            "text/plain": [
              "              TRIP_MILES  TRIP_SECONDS      FARE  TIP_RATE\n",
              "TRIP_MILES      1.000000      0.800855  0.975344 -0.049594\n",
              "TRIP_SECONDS    0.800855      1.000000  0.830292 -0.084294\n",
              "FARE            0.975344      0.830292  1.000000 -0.070979\n",
              "TIP_RATE       -0.049594     -0.084294 -0.070979  1.000000"
            ]
          },
          "execution_count": 13,
          "metadata": {},
          "output_type": "execute_result"
        }
      ],
      "source": [
        "#@title Code - View correlation matrix\n",
        "training_df.corr(numeric_only = True)"
      ]
    },
    {
      "cell_type": "code",
      "execution_count": 14,
      "metadata": {
        "cellView": "form",
        "id": "ExPq1h6wIzvR"
      },
      "outputs": [
        {
          "name": "stdout",
          "output_type": "stream",
          "text": [
            "\n",
            "The feature with the strongest correlation to the FARE is TRIP_MILES.\n",
            "As you might expect, TRIP_MILES looks like a good feature to start with to train\n",
            "the model. Also, notice that the feature TRIP_SECONDS has a strong correlation\n",
            "with fare too.\n",
            "\n",
            "The feature with the weakest correlation to the FARE is TIP_RATE.\n"
          ]
        }
      ],
      "source": [
        "#@title Double-click to view answers about the correlation matrix\n",
        "\n",
        "# Which feature correlates most strongly to the label FARE?\n",
        "# ---------------------------------------------------------\n",
        "answer = '''\n",
        "The feature with the strongest correlation to the FARE is TRIP_MILES.\n",
        "As you might expect, TRIP_MILES looks like a good feature to start with to train\n",
        "the model. Also, notice that the feature TRIP_SECONDS has a strong correlation\n",
        "with fare too.\n",
        "'''\n",
        "print(answer)\n",
        "\n",
        "\n",
        "# Which feature correlates least strongly to the label FARE?\n",
        "# -----------------------------------------------------------\n",
        "answer = '''The feature with the weakest correlation to the FARE is TIP_RATE.'''\n",
        "print(answer)"
      ]
    },
    {
      "cell_type": "markdown",
      "metadata": {
        "id": "rqklIw96G7JA"
      },
      "source": [
        "## Visualize relationships in dataset\n",
        "\n",
        "Sometimes it is helpful to visualize relationships between features in a dataset; one way to do this is with a pair plot. A **pair plot** generates a grid of pairwise plots to visualize the relationship of each feature with all other features all in one place.\n",
        "\n",
        "**Instructions**\n",
        "1. Run the **View pair plot** code cell."
      ]
    },
    {
      "cell_type": "code",
      "execution_count": 23,
      "metadata": {
        "cellView": "form",
        "id": "ph0FE7ZxHY36"
      },
      "outputs": [
        {
          "name": "stderr",
          "output_type": "stream",
          "text": [
            "c:\\Users\\pobit\\anaconda3\\Lib\\site-packages\\seaborn\\_oldcore.py:1119: FutureWarning: use_inf_as_na option is deprecated and will be removed in a future version. Convert inf values to NaN before operating instead.\n",
            "  with pd.option_context('mode.use_inf_as_na', True):\n",
            "c:\\Users\\pobit\\anaconda3\\Lib\\site-packages\\seaborn\\_oldcore.py:1119: FutureWarning: use_inf_as_na option is deprecated and will be removed in a future version. Convert inf values to NaN before operating instead.\n",
            "  with pd.option_context('mode.use_inf_as_na', True):\n",
            "c:\\Users\\pobit\\anaconda3\\Lib\\site-packages\\seaborn\\_oldcore.py:1119: FutureWarning: use_inf_as_na option is deprecated and will be removed in a future version. Convert inf values to NaN before operating instead.\n",
            "  with pd.option_context('mode.use_inf_as_na', True):\n"
          ]
        },
        {
          "data": {
            "text/plain": [
              "<seaborn.axisgrid.PairGrid at 0x23c82956ed0>"
            ]
          },
          "execution_count": 23,
          "metadata": {},
          "output_type": "execute_result"
        },
        {
          "data": {
            "image/png": "[encoded data removed]",
            "text/plain": [
              "<Figure size 750x750 with 12 Axes>"
            ]
          },
          "metadata": {},
          "output_type": "display_data"
        }
      ],
      "source": [
        "#@title Code - View pairplot\n",
        "sns.pairplot(training_df, x_vars=[\"FARE\", \"TRIP_MILES\", \"TRIP_SECONDS\"], y_vars=[\"FARE\", \"TRIP_MILES\", \"TRIP_SECONDS\"])"
      ]
    },
    {
      "cell_type": "code",
      "execution_count": 24,
      "metadata": {},
      "outputs": [
        {
          "name": "stderr",
          "output_type": "stream",
          "text": [
            "c:\\Users\\pobit\\anaconda3\\Lib\\site-packages\\seaborn\\_oldcore.py:1119: FutureWarning: use_inf_as_na option is deprecated and will be removed in a future version. Convert inf values to NaN before operating instead.\n",
            "  with pd.option_context('mode.use_inf_as_na', True):\n",
            "c:\\Users\\pobit\\anaconda3\\Lib\\site-packages\\seaborn\\_oldcore.py:1119: FutureWarning: use_inf_as_na option is deprecated and will be removed in a future version. Convert inf values to NaN before operating instead.\n",
            "  with pd.option_context('mode.use_inf_as_na', True):\n",
            "c:\\Users\\pobit\\anaconda3\\Lib\\site-packages\\seaborn\\_oldcore.py:1119: FutureWarning: use_inf_as_na option is deprecated and will be removed in a future version. Convert inf values to NaN before operating instead.\n",
            "  with pd.option_context('mode.use_inf_as_na', True):\n"
          ]
        },
        {
          "data": {
            "text/plain": [
              "<seaborn.axisgrid.PairGrid at 0x23c8319dad0>"
            ]
          },
          "execution_count": 24,
          "metadata": {},
          "output_type": "execute_result"
        },
        {
          "data": {
            "image/png": "[encoded data removed]",
            "text/plain": [
              "<Figure size 750x750 with 12 Axes>"
            ]
          },
          "metadata": {},
          "output_type": "display_data"
        }
      ],
      "source": [
        "sns.pairplot(training_df, x_vars=[\"COMPANY\", \"PAYMENT_TYPE\", \"TIP_RATE\"], y_vars=[\"COMPANY\", \"PAYMENT_TYPE\", \"TIP_RATE\"])"
      ]
    },
    {
      "cell_type": "markdown",
      "metadata": {
        "id": "zrereRcYR9KG"
      },
      "source": [
        "# Part 3 - Train Model\n",
        "\n",
        "\n",
        "---\n",
        "\n"
      ]
    },
    {
      "cell_type": "markdown",
      "metadata": {
        "id": "PfRhSs_RR2VI"
      },
      "source": [
        "## Define functions to view model information\n",
        "\n",
        "To help visualize the results of each training run you will generate two plots at the end of each experiment:\n",
        "\n",
        "* a scatter plot of the features vs. the label with a line showing the output of the trained model\n",
        "* a loss curve\n",
        "\n",
        "For this exercise, the plotting functions are provided for you. Unless you are interested, it is not important for you to understand how these plotting functions work.\n",
        "\n",
        "**Instructions**\n",
        "1. Run the **Define plotting functions** code cell."
      ]
    },
    {
      "cell_type": "code",
      "execution_count": 43,
      "metadata": {},
      "outputs": [
        {
          "data": {
            "text/plain": [
              "TRIP_MILES                                1.4\n",
              "TRIP_SECONDS                              780\n",
              "FARE                                      8.5\n",
              "COMPANY         Taxicab Insurance Agency, LLC\n",
              "PAYMENT_TYPE                      Credit Card\n",
              "Name: 819, dtype: object"
            ]
          },
          "execution_count": 43,
          "metadata": {},
          "output_type": "execute_result"
        }
      ],
      "source": [
        "training_df.iloc[819, :-1]"
      ]
    },
    {
      "cell_type": "code",
      "execution_count": 28,
      "metadata": {},
      "outputs": [
        {
          "data": {
            "text/html": [
              "<div>\n",
              "<style scoped>\n",
              "    .dataframe tbody tr th:only-of-type {\n",
              "        vertical-align: middle;\n",
              "    }\n",
              "\n",
              "    .dataframe tbody tr th {\n",
              "        vertical-align: top;\n",
              "    }\n",
              "\n",
              "    .dataframe thead th {\n",
              "        text-align: right;\n",
              "    }\n",
              "</style>\n",
              "<table border=\"1\" class=\"dataframe\">\n",
              "  <thead>\n",
              "    <tr style=\"text-align: right;\">\n",
              "      <th></th>\n",
              "      <th>TRIP_MILES</th>\n",
              "      <th>TRIP_SECONDS</th>\n",
              "      <th>FARE</th>\n",
              "      <th>COMPANY</th>\n",
              "      <th>PAYMENT_TYPE</th>\n",
              "      <th>TIP_RATE</th>\n",
              "    </tr>\n",
              "  </thead>\n",
              "  <tbody>\n",
              "    <tr>\n",
              "      <th>24410</th>\n",
              "      <td>9.40</td>\n",
              "      <td>1184</td>\n",
              "      <td>25.50</td>\n",
              "      <td>Flash Cab</td>\n",
              "      <td>Prcard</td>\n",
              "      <td>0.0</td>\n",
              "    </tr>\n",
              "    <tr>\n",
              "      <th>24872</th>\n",
              "      <td>17.53</td>\n",
              "      <td>2157</td>\n",
              "      <td>43.25</td>\n",
              "      <td>Sun Taxi</td>\n",
              "      <td>Cash</td>\n",
              "      <td>0.0</td>\n",
              "    </tr>\n",
              "    <tr>\n",
              "      <th>27974</th>\n",
              "      <td>17.34</td>\n",
              "      <td>1781</td>\n",
              "      <td>42.25</td>\n",
              "      <td>Sun Taxi</td>\n",
              "      <td>Credit Card</td>\n",
              "      <td>9.5</td>\n",
              "    </tr>\n",
              "    <tr>\n",
              "      <th>30890</th>\n",
              "      <td>17.30</td>\n",
              "      <td>1349</td>\n",
              "      <td>43.00</td>\n",
              "      <td>Globe Taxi</td>\n",
              "      <td>Credit Card</td>\n",
              "      <td>20.1</td>\n",
              "    </tr>\n",
              "    <tr>\n",
              "      <th>1942</th>\n",
              "      <td>0.68</td>\n",
              "      <td>319</td>\n",
              "      <td>5.50</td>\n",
              "      <td>Star North Taxi Management Llc</td>\n",
              "      <td>Credit Card</td>\n",
              "      <td>30.8</td>\n",
              "    </tr>\n",
              "    <tr>\n",
              "      <th>...</th>\n",
              "      <td>...</td>\n",
              "      <td>...</td>\n",
              "      <td>...</td>\n",
              "      <td>...</td>\n",
              "      <td>...</td>\n",
              "      <td>...</td>\n",
              "    </tr>\n",
              "    <tr>\n",
              "      <th>14534</th>\n",
              "      <td>9.40</td>\n",
              "      <td>2100</td>\n",
              "      <td>28.25</td>\n",
              "      <td>U Taxicab</td>\n",
              "      <td>Unknown</td>\n",
              "      <td>0.0</td>\n",
              "    </tr>\n",
              "    <tr>\n",
              "      <th>819</th>\n",
              "      <td>1.40</td>\n",
              "      <td>780</td>\n",
              "      <td>8.50</td>\n",
              "      <td>Taxicab Insurance Agency, LLC</td>\n",
              "      <td>Credit Card</td>\n",
              "      <td>15.1</td>\n",
              "    </tr>\n",
              "    <tr>\n",
              "      <th>4665</th>\n",
              "      <td>1.04</td>\n",
              "      <td>400</td>\n",
              "      <td>6.50</td>\n",
              "      <td>Flash Cab</td>\n",
              "      <td>Cash</td>\n",
              "      <td>0.0</td>\n",
              "    </tr>\n",
              "    <tr>\n",
              "      <th>29381</th>\n",
              "      <td>18.80</td>\n",
              "      <td>1740</td>\n",
              "      <td>46.00</td>\n",
              "      <td>Taxi Affiliation Services</td>\n",
              "      <td>Credit Card</td>\n",
              "      <td>20.2</td>\n",
              "    </tr>\n",
              "    <tr>\n",
              "      <th>17099</th>\n",
              "      <td>9.80</td>\n",
              "      <td>1860</td>\n",
              "      <td>29.50</td>\n",
              "      <td>Taxicab Insurance Agency, LLC</td>\n",
              "      <td>Cash</td>\n",
              "      <td>0.0</td>\n",
              "    </tr>\n",
              "  </tbody>\n",
              "</table>\n",
              "<p>200 rows × 6 columns</p>\n",
              "</div>"
            ],
            "text/plain": [
              "       TRIP_MILES  TRIP_SECONDS   FARE                         COMPANY  \\\n",
              "24410        9.40          1184  25.50                       Flash Cab   \n",
              "24872       17.53          2157  43.25                        Sun Taxi   \n",
              "27974       17.34          1781  42.25                        Sun Taxi   \n",
              "30890       17.30          1349  43.00                      Globe Taxi   \n",
              "1942         0.68           319   5.50  Star North Taxi Management Llc   \n",
              "...           ...           ...    ...                             ...   \n",
              "14534        9.40          2100  28.25                       U Taxicab   \n",
              "819          1.40           780   8.50   Taxicab Insurance Agency, LLC   \n",
              "4665         1.04           400   6.50                       Flash Cab   \n",
              "29381       18.80          1740  46.00       Taxi Affiliation Services   \n",
              "17099        9.80          1860  29.50   Taxicab Insurance Agency, LLC   \n",
              "\n",
              "      PAYMENT_TYPE  TIP_RATE  \n",
              "24410       Prcard       0.0  \n",
              "24872         Cash       0.0  \n",
              "27974  Credit Card       9.5  \n",
              "30890  Credit Card      20.1  \n",
              "1942   Credit Card      30.8  \n",
              "...            ...       ...  \n",
              "14534      Unknown       0.0  \n",
              "819    Credit Card      15.1  \n",
              "4665          Cash       0.0  \n",
              "29381  Credit Card      20.2  \n",
              "17099         Cash       0.0  \n",
              "\n",
              "[200 rows x 6 columns]"
            ]
          },
          "execution_count": 28,
          "metadata": {},
          "output_type": "execute_result"
        }
      ],
      "source": [
        "df = training_df\n",
        "sample_size = 200\n",
        "random_sample = df.sample(n=sample_size).copy()\n",
        "random_sample"
      ]
    },
    {
      "cell_type": "code",
      "execution_count": 44,
      "metadata": {
        "cellView": "form",
        "id": "EE7nBxoMUtE9"
      },
      "outputs": [
        {
          "name": "stdout",
          "output_type": "stream",
          "text": [
            "SUCCESS: defining plotting functions complete.\n"
          ]
        }
      ],
      "source": [
        "#@title Define plotting functions\n",
        "\n",
        "def make_plots(df, feature_names, label_name, model_output, sample_size=200):\n",
        "\n",
        "  random_sample = df.sample(n=sample_size).copy()\n",
        "  random_sample.reset_index()\n",
        "  weights, bias, epochs, rmse = model_output\n",
        "\n",
        "  is_2d_plot = len(feature_names) == 1 # scatter plot if only 1 feature, surface plot for >1 features\n",
        "  model_plot_type = \"scatter\" if is_2d_plot else \"surface\"\n",
        "  fig = make_subplots(rows=1, cols=2,\n",
        "                      subplot_titles=(\"Loss Curve\", \"Model Plot\"),\n",
        "                      specs=[[{\"type\": \"scatter\"}, {\"type\": model_plot_type}]])\n",
        "\n",
        "  plot_data(random_sample, feature_names, label_name, fig)\n",
        "  plot_model(random_sample, feature_names, weights, bias, fig)\n",
        "  plot_loss_curve(epochs, rmse, fig)\n",
        "\n",
        "  fig.show()\n",
        "  return\n",
        "\n",
        "def plot_data(df, features, label, fig):\n",
        "  if len(features) == 1:\n",
        "    scatter = px.scatter(df, x=features[0], y=label)\n",
        "  else:\n",
        "    scatter = px.scatter_3d(df, x=features[0], y=features[1], z=label)\n",
        "\n",
        "  fig.append_trace(scatter.data[0], row=1, col=2)\n",
        "  if len(features) == 1:\n",
        "    fig.update_xaxes(title_text=features[0], row=1, col=2)\n",
        "    fig.update_yaxes(title_text=label, row=1, col=2)\n",
        "  else:\n",
        "    fig.update_layout(scene1=dict(xaxis_title=features[0], yaxis_title=features[1], zaxis_title=label))\n",
        "\n",
        "  return\n",
        "\n",
        "def plot_model(df, features, weights, bias, fig):\n",
        "  df['FARE_PREDICTED'] = bias[0]\n",
        "\n",
        "  for index, feature in enumerate(features):\n",
        "    df['FARE_PREDICTED'] = df['FARE_PREDICTED'] + weights[index][0] * df[feature]\n",
        "\n",
        "  if len(features) == 1:\n",
        "    model = px.line(df, x=features[0], y='FARE_PREDICTED')\n",
        "    model.update_traces(line_color='#ff0000', line_width=3)\n",
        "  else:\n",
        "    z_name, y_name = \"FARE_PREDICTED\", features[1]\n",
        "    z = [df[z_name].min(), (df[z_name].max() - df[z_name].min()) / 2, df[z_name].max()]\n",
        "    y = [df[y_name].min(), (df[y_name].max() - df[y_name].min()) / 2, df[y_name].max()]\n",
        "    x = []\n",
        "    for i in range(len(y)):\n",
        "      x.append((z[i] - weights[1][0] * y[i] - bias[0]) / weights[0][0])\n",
        "\n",
        "    plane=pd.DataFrame({'x':x, 'y':y, 'z':[z] * 3})\n",
        "\n",
        "    light_yellow = [[0, '#89CFF0'], [1, '#FFDB58']]\n",
        "    model = go.Figure(data=go.Surface(x=plane['x'], y=plane['y'], z=plane['z'],\n",
        "                                      colorscale=light_yellow))\n",
        "\n",
        "  fig.add_trace(model.data[0], row=1, col=2)\n",
        "\n",
        "  return\n",
        "\n",
        "def plot_loss_curve(epochs, rmse, fig):\n",
        "  curve = px.line(x=epochs, y=rmse)\n",
        "  curve.update_traces(line_color='#ff0000', line_width=3)\n",
        "\n",
        "  fig.append_trace(curve.data[0], row=1, col=1)\n",
        "  fig.update_xaxes(title_text=\"Epoch\", row=1, col=1)\n",
        "  fig.update_yaxes(title_text=\"Root Mean Squared Error\", row=1, col=1, range=[rmse.min()*0.8, rmse.max()])\n",
        "\n",
        "  return\n",
        "\n",
        "def model_info(feature_names, label_name, model_output):\n",
        "  weights = model_output[0]\n",
        "  bias = model_output[1]\n",
        "\n",
        "  nl = \"\\n\"\n",
        "  header = \"-\" * 80\n",
        "  banner = header + nl + \"|\" + \"MODEL INFO\".center(78) + \"|\" + nl + header\n",
        "\n",
        "  info = \"\"\n",
        "  equation = label_name + \" = \"\n",
        "\n",
        "  for index, feature in enumerate(feature_names):\n",
        "    info = info + \"Weight for feature[{}]: {:.3f}\\n\".format(feature, weights[index][0])\n",
        "    equation = equation + \"{:.3f} * {} + \".format(weights[index][0], feature)\n",
        "\n",
        "  info = info + \"Bias: {:.3f}\\n\".format(bias[0])\n",
        "  equation = equation + \"{:.3f}\\n\".format(bias[0])\n",
        "\n",
        "  return banner + nl + info + nl + equation\n",
        "\n",
        "print(\"SUCCESS: defining plotting functions complete.\")"
      ]
    },
    {
      "cell_type": "markdown",
      "metadata": {
        "id": "iRluiQhNvTwc"
      },
      "source": [
        "## Define functions to build and train a model\n",
        "\n",
        "The code you need to build and train your model is in the **Define ML functions** code cell. If you would like to explore this code, expand the code cell and take a look.\n",
        "\n",
        "**Instructions**\n",
        "1. Run the **Define ML functions** code cell."
      ]
    },
    {
      "cell_type": "code",
      "execution_count": 45,
      "metadata": {
        "cellView": "form",
        "id": "W6a7dtcCob-n"
      },
      "outputs": [
        {
          "name": "stdout",
          "output_type": "stream",
          "text": [
            "SUCCESS: defining linear regression functions complete.\n"
          ]
        }
      ],
      "source": [
        "#@title Code - Define ML functions\n",
        "\n",
        "def build_model(my_learning_rate, num_features):\n",
        "  \"\"\"Create and compile a simple linear regression model.\"\"\"\n",
        "  # Describe the topography of the model.\n",
        "  # The topography of a simple linear regression model\n",
        "  # is a single node in a single layer.\n",
        "  inputs = keras.Input(shape=(num_features,))\n",
        "  outputs = keras.layers.Dense(units=1)(inputs)\n",
        "  model = keras.Model(inputs=inputs, outputs=outputs)\n",
        "\n",
        "  # Compile the model topography into code that Keras can efficiently\n",
        "  # execute. Configure training to minimize the model's mean squared error.\n",
        "  model.compile(optimizer=keras.optimizers.RMSprop(learning_rate=my_learning_rate),\n",
        "                loss=\"mean_squared_error\",\n",
        "                metrics=[keras.metrics.RootMeanSquaredError()])\n",
        "\n",
        "  return model\n",
        "\n",
        "\n",
        "def train_model(model, df, features, label, epochs, batch_size):\n",
        "  \"\"\"Train the model by feeding it data.\"\"\"\n",
        "\n",
        "  # Feed the model the feature and the label.\n",
        "  # The model will train for the specified number of epochs.\n",
        "  # input_x = df.iloc[:,1:3].values\n",
        "  # df[feature]\n",
        "  history = model.fit(x=features,\n",
        "                      y=label,\n",
        "                      batch_size=batch_size,\n",
        "                      epochs=epochs)\n",
        "\n",
        "  # Gather the trained model's weight and bias.\n",
        "  trained_weight = model.get_weights()[0]\n",
        "  trained_bias = model.get_weights()[1]\n",
        "\n",
        "  # The list of epochs is stored separately from the rest of history.\n",
        "  epochs = history.epoch\n",
        "\n",
        "  # Isolate the error for each epoch.\n",
        "  hist = pd.DataFrame(history.history)\n",
        "\n",
        "  # To track the progression of training, we're going to take a snapshot\n",
        "  # of the model's root mean squared error at each epoch.\n",
        "  rmse = hist[\"root_mean_squared_error\"]\n",
        "\n",
        "  return trained_weight, trained_bias, epochs, rmse\n",
        "\n",
        "\n",
        "def run_experiment(df, feature_names, label_name, learning_rate, epochs, batch_size):\n",
        "\n",
        "  print('INFO: starting training experiment with features={} and label={}\\n'.format(feature_names, label_name))\n",
        "\n",
        "  num_features = len(feature_names)\n",
        "\n",
        "  features = df.loc[:, feature_names].values\n",
        "  label = df[label_name].values\n",
        "\n",
        "  model = build_model(learning_rate, num_features)\n",
        "  model_output = train_model(model, df, features, label, epochs, batch_size)\n",
        "\n",
        "  print('\\nSUCCESS: training experiment complete\\n')\n",
        "  print('{}'.format(model_info(feature_names, label_name, model_output)))\n",
        "  make_plots(df, feature_names, label_name, model_output)\n",
        "\n",
        "  return model\n",
        "\n",
        "print(\"SUCCESS: defining linear regression functions complete.\")"
      ]
    },
    {
      "cell_type": "markdown",
      "metadata": {
        "id": "m3DQCE2OpH4-"
      },
      "source": [
        "## Train a model with one feature\n",
        "\n",
        "In this step you will train a model to predict the cost of the fare using a **single feature**. Earlier, you saw that `TRIP_MILES` (distance) correlates most strongly with the ``FARE``, so let's start with `TRIP_MILES` as the feature for your first training run.\n",
        "\n",
        "**Instructions**\n",
        "\n",
        "1. Run the **Experiment 1** code cell to build your model with one feature.\n",
        "1. Review the output from the training run\n",
        "1. **Check your understanding** by answering these questions:\n",
        "  * How many epochs did it take to converge on the final model?\n",
        "  * How well does the model fit the sample data?\n",
        "\n",
        "During training, you should see the root mean square error (RMSE) in the output. The units for RMSE are the same as the units for the label (dollars). In other words, you can use the RMSE to determine how far off, on average, the predicted fares are in dollars from the observed values."
      ]
    },
    {
      "cell_type": "code",
      "execution_count": 46,
      "metadata": {
        "cellView": "form",
        "id": "F_17Aum6IG1F"
      },
      "outputs": [
        {
          "name": "stdout",
          "output_type": "stream",
          "text": [
            "INFO: starting training experiment with features=['TRIP_MILES'] and label=FARE\n",
            "\n",
            "Epoch 1/20\n",
            "\u001b[1m634/634\u001b[0m \u001b[32m━━━━━━━━━━━━━━━━━━━━\u001b[0m\u001b[37m\u001b[0m \u001b[1m3s\u001b[0m 2ms/step - loss: 748.2786 - root_mean_squared_error: 27.3373\n",
            "Epoch 2/20\n",
            "\u001b[1m634/634\u001b[0m \u001b[32m━━━━━━━━━━━━━━━━━━━━\u001b[0m\u001b[37m\u001b[0m \u001b[1m1s\u001b[0m 2ms/step - loss: 406.4806 - root_mean_squared_error: 20.1380\n",
            "Epoch 3/20\n",
            "\u001b[1m634/634\u001b[0m \u001b[32m━━━━━━━━━━━━━━━━━━━━\u001b[0m\u001b[37m\u001b[0m \u001b[1m1s\u001b[0m 2ms/step - loss: 172.0513 - root_mean_squared_error: 13.0857\n",
            "Epoch 4/20\n",
            "\u001b[1m634/634\u001b[0m \u001b[32m━━━━━━━━━━━━━━━━━━━━\u001b[0m\u001b[37m\u001b[0m \u001b[1m1s\u001b[0m 2ms/step - loss: 48.5624 - root_mean_squared_error: 6.9037\n",
            "Epoch 5/20\n",
            "\u001b[1m634/634\u001b[0m \u001b[32m━━━━━━━━━━━━━━━━━━━━\u001b[0m\u001b[37m\u001b[0m \u001b[1m1s\u001b[0m 2ms/step - loss: 16.2619 - root_mean_squared_error: 4.0275\n",
            "Epoch 6/20\n",
            "\u001b[1m634/634\u001b[0m \u001b[32m━━━━━━━━━━━━━━━━━━━━\u001b[0m\u001b[37m\u001b[0m \u001b[1m1s\u001b[0m 2ms/step - loss: 15.5197 - root_mean_squared_error: 3.9360\n",
            "Epoch 7/20\n",
            "\u001b[1m634/634\u001b[0m \u001b[32m━━━━━━━━━━━━━━━━━━━━\u001b[0m\u001b[37m\u001b[0m \u001b[1m1s\u001b[0m 2ms/step - loss: 14.3925 - root_mean_squared_error: 3.7822\n",
            "Epoch 8/20\n",
            "\u001b[1m634/634\u001b[0m \u001b[32m━━━━━━━━━━━━━━━━━━━━\u001b[0m\u001b[37m\u001b[0m \u001b[1m1s\u001b[0m 2ms/step - loss: 14.6037 - root_mean_squared_error: 3.8129\n",
            "Epoch 9/20\n",
            "\u001b[1m634/634\u001b[0m \u001b[32m━━━━━━━━━━━━━━━━━━━━\u001b[0m\u001b[37m\u001b[0m \u001b[1m1s\u001b[0m 1ms/step - loss: 14.5852 - root_mean_squared_error: 3.8130\n",
            "Epoch 10/20\n",
            "\u001b[1m634/634\u001b[0m \u001b[32m━━━━━━━━━━━━━━━━━━━━\u001b[0m\u001b[37m\u001b[0m \u001b[1m1s\u001b[0m 1ms/step - loss: 13.5944 - root_mean_squared_error: 3.6850\n",
            "Epoch 11/20\n",
            "\u001b[1m634/634\u001b[0m \u001b[32m━━━━━━━━━━━━━━━━━━━━\u001b[0m\u001b[37m\u001b[0m \u001b[1m1s\u001b[0m 1ms/step - loss: 12.2403 - root_mean_squared_error: 3.4853\n",
            "Epoch 12/20\n",
            "\u001b[1m634/634\u001b[0m \u001b[32m━━━━━━━━━━━━━━━━━━━━\u001b[0m\u001b[37m\u001b[0m \u001b[1m1s\u001b[0m 1ms/step - loss: 14.9317 - root_mean_squared_error: 3.8603\n",
            "Epoch 13/20\n",
            "\u001b[1m634/634\u001b[0m \u001b[32m━━━━━━━━━━━━━━━━━━━━\u001b[0m\u001b[37m\u001b[0m \u001b[1m1s\u001b[0m 1ms/step - loss: 14.3817 - root_mean_squared_error: 3.7880\n",
            "Epoch 14/20\n",
            "\u001b[1m634/634\u001b[0m \u001b[32m━━━━━━━━━━━━━━━━━━━━\u001b[0m\u001b[37m\u001b[0m \u001b[1m1s\u001b[0m 1ms/step - loss: 14.6128 - root_mean_squared_error: 3.8204\n",
            "Epoch 15/20\n",
            "\u001b[1m634/634\u001b[0m \u001b[32m━━━━━━━━━━━━━━━━━━━━\u001b[0m\u001b[37m\u001b[0m \u001b[1m1s\u001b[0m 1ms/step - loss: 13.9197 - root_mean_squared_error: 3.7251\n",
            "Epoch 16/20\n",
            "\u001b[1m634/634\u001b[0m \u001b[32m━━━━━━━━━━━━━━━━━━━━\u001b[0m\u001b[37m\u001b[0m \u001b[1m1s\u001b[0m 1ms/step - loss: 13.5494 - root_mean_squared_error: 3.6772\n",
            "Epoch 17/20\n",
            "\u001b[1m634/634\u001b[0m \u001b[32m━━━━━━━━━━━━━━━━━━━━\u001b[0m\u001b[37m\u001b[0m \u001b[1m1s\u001b[0m 1ms/step - loss: 12.4941 - root_mean_squared_error: 3.5248\n",
            "Epoch 18/20\n",
            "\u001b[1m634/634\u001b[0m \u001b[32m━━━━━━━━━━━━━━━━━━━━\u001b[0m\u001b[37m\u001b[0m \u001b[1m1s\u001b[0m 1ms/step - loss: 13.8663 - root_mean_squared_error: 3.7188\n",
            "Epoch 19/20\n",
            "\u001b[1m634/634\u001b[0m \u001b[32m━━━━━━━━━━━━━━━━━━━━\u001b[0m\u001b[37m\u001b[0m \u001b[1m1s\u001b[0m 1ms/step - loss: 13.8595 - root_mean_squared_error: 3.7177\n",
            "Epoch 20/20\n",
            "\u001b[1m634/634\u001b[0m \u001b[32m━━━━━━━━━━━━━━━━━━━━\u001b[0m\u001b[37m\u001b[0m \u001b[1m1s\u001b[0m 2ms/step - loss: 13.5074 - root_mean_squared_error: 3.6663\n",
            "\n",
            "SUCCESS: training experiment complete\n",
            "\n",
            "--------------------------------------------------------------------------------\n",
            "|                                  MODEL INFO                                  |\n",
            "--------------------------------------------------------------------------------\n",
            "Weight for feature[TRIP_MILES]: 2.279\n",
            "Bias: 4.972\n",
            "\n",
            "FARE = 2.279 * TRIP_MILES + 4.972\n",
            "\n"
          ]
        },
        {
          "data": {
            "application/vnd.plotly.v1+json": {
              "config": {
                "plotlyServerURL": "https://plot.ly"
              },
              "data": [
                {
                  "hovertemplate": "TRIP_MILES=%{x}<br>FARE=%{y}<extra></extra>",
                  "legendgroup": "",
                  "marker": {
                    "color": "#636efa",
                    "symbol": "circle"
                  },
                  "mode": "markers",
                  "name": "",
                  "orientation": "v",
                  "showlegend": false,
                  "type": "scatter",
                  "x": [
                    7.2,
                    1,
                    10.39,
                    17.47,
                    2.96,
                    4.57,
                    17.77,
                    1.2,
                    17.38,
                    18,
                    9.27,
                    3.19,
                    15.8,
                    18.09,
                    11.98,
                    11.63,
                    0.62,
                    1.1,
                    0.8,
                    6.78,
                    1.3,
                    17.3,
                    0.86,
                    1.11,
                    8.11,
                    15.35,
                    7.49,
                    18.13,
                    0.95,
                    24.2,
                    1.75,
                    14.68,
                    17.49,
                    1.8,
                    17.73,
                    1.1,
                    19.42,
                    4.56,
                    4.15,
                    2.3,
                    0.87,
                    0.69,
                    0.88,
                    17.99,
                    1.1,
                    28.14,
                    17.89,
                    1.75,
                    17.9,
                    13.4,
                    5.32,
                    3.6,
                    5,
                    1.23,
                    0.9,
                    17.66,
                    0.92,
                    4.59,
                    1.5,
                    17.7,
                    7,
                    1.18,
                    18.16,
                    3.33,
                    4.84,
                    25.7,
                    1.76,
                    17.95,
                    5.57,
                    2.7,
                    7.81,
                    17.2,
                    0.93,
                    17.58,
                    17.6,
                    1.41,
                    3.79,
                    20,
                    2.22,
                    1.52,
                    18.52,
                    10.67,
                    3.28,
                    0.8,
                    3.1,
                    11.2,
                    16.9,
                    3.4,
                    15.1,
                    1.9,
                    5.04,
                    5.33,
                    17.6,
                    13.79,
                    3.49,
                    7,
                    1.94,
                    2.05,
                    17.39,
                    4.17,
                    1.99,
                    19.88,
                    12.3,
                    1.2,
                    11.2,
                    16.07,
                    1.69,
                    17.68,
                    17.66,
                    3.4,
                    1.07,
                    0.9,
                    5.57,
                    6.28,
                    14.98,
                    20.9,
                    10.86,
                    10.41,
                    18.15,
                    9.09,
                    1.8,
                    17.13,
                    18.17,
                    17.41,
                    7.8,
                    0.6,
                    12.5,
                    2.2,
                    3.38,
                    1.77,
                    1.84,
                    11.93,
                    10.54,
                    1.01,
                    11.8,
                    5.75,
                    9.89,
                    19.63,
                    17.51,
                    14.51,
                    4.3,
                    3.5,
                    1.42,
                    9.68,
                    0.83,
                    28.8,
                    3.2,
                    7.95,
                    15.35,
                    15.8,
                    18.1,
                    10.47,
                    19,
                    17.99,
                    8.9,
                    1.03,
                    16,
                    17.3,
                    1.29,
                    0.9,
                    3.69,
                    27.8,
                    3.01,
                    11.12,
                    1.7,
                    0.74,
                    15.84,
                    17.4,
                    15.02,
                    1.1,
                    7.54,
                    13.59,
                    2.86,
                    3.03,
                    1,
                    0.75,
                    1.3,
                    14.76,
                    17.6,
                    16.39,
                    0.91,
                    0.71,
                    14.85,
                    11.38,
                    0.79,
                    3,
                    3.6,
                    19.2,
                    27.3,
                    10,
                    1.8,
                    0.89,
                    1.34,
                    8.11,
                    2.1,
                    0.5,
                    2.7,
                    0.91,
                    0.9,
                    10.85
                  ],
                  "xaxis": "x2",
                  "y": [
                    21.75,
                    7,
                    27.75,
                    43,
                    10.5,
                    14,
                    45.66,
                    6.75,
                    43,
                    45.75,
                    28,
                    11.25,
                    41,
                    46,
                    31.5,
                    30.25,
                    5,
                    6.75,
                    9,
                    20.75,
                    6.75,
                    43.5,
                    6.75,
                    6.25,
                    30.25,
                    39.25,
                    31.25,
                    46.5,
                    5.75,
                    59.75,
                    9,
                    38.25,
                    43.25,
                    10,
                    50.5,
                    6.75,
                    48.5,
                    16.5,
                    14,
                    9.75,
                    9,
                    5.5,
                    5.75,
                    45.25,
                    9,
                    69.5,
                    45.75,
                    8.5,
                    45.5,
                    37,
                    15.5,
                    12.75,
                    15.75,
                    9,
                    5.5,
                    43.25,
                    5.75,
                    15.5,
                    8.25,
                    43.25,
                    28,
                    9,
                    45,
                    14.25,
                    15.5,
                    62,
                    9,
                    44.5,
                    16.25,
                    12,
                    22,
                    42.5,
                    6.75,
                    44,
                    43.75,
                    7,
                    15,
                    41.25,
                    10,
                    8.25,
                    46,
                    30.25,
                    15.43,
                    6,
                    11,
                    31,
                    43.25,
                    11,
                    42.5,
                    8.25,
                    18,
                    17.49,
                    48.75,
                    35.25,
                    12.75,
                    22,
                    9.25,
                    9,
                    44.25,
                    14.68,
                    9,
                    55.14,
                    33.5,
                    6.75,
                    28.75,
                    59.91,
                    8.75,
                    44.25,
                    45.75,
                    12.5,
                    7.5,
                    5.75,
                    16.58,
                    17.75,
                    39.5,
                    52.25,
                    28,
                    27,
                    44.75,
                    26.75,
                    8,
                    46.02,
                    45.25,
                    44.25,
                    22.5,
                    4.75,
                    37,
                    11.75,
                    12.75,
                    9,
                    9,
                    32.5,
                    29.5,
                    6.5,
                    31,
                    16.5,
                    27.5,
                    47.75,
                    44.5,
                    36.5,
                    14.25,
                    7.75,
                    7,
                    27.75,
                    5.5,
                    68.75,
                    11.5,
                    23.75,
                    39.25,
                    41.5,
                    45.25,
                    27.75,
                    65.87,
                    44,
                    24.25,
                    6.25,
                    40,
                    43.25,
                    7.5,
                    6,
                    12.02,
                    45.25,
                    12.5,
                    39,
                    8,
                    5.5,
                    41.25,
                    43.25,
                    40.75,
                    6.75,
                    21.5,
                    35.75,
                    10.75,
                    12.25,
                    6.25,
                    9,
                    6.75,
                    37.75,
                    43.25,
                    41.75,
                    6.25,
                    5.5,
                    38.26,
                    33.26,
                    5.5,
                    10.75,
                    13.25,
                    46,
                    65.75,
                    27.25,
                    8.75,
                    5.75,
                    7,
                    24.75,
                    11.23,
                    4.5,
                    16.75,
                    5.5,
                    6,
                    33.25
                  ],
                  "yaxis": "y2"
                },
                {
                  "hovertemplate": "TRIP_MILES=%{x}<br>FARE_PREDICTED=%{y}<extra></extra>",
                  "legendgroup": "",
                  "line": {
                    "color": "#ff0000",
                    "dash": "solid",
                    "width": 3
                  },
                  "marker": {
                    "symbol": "circle"
                  },
                  "mode": "lines",
                  "name": "",
                  "orientation": "v",
                  "showlegend": false,
                  "type": "scatter",
                  "x": [
                    7.2,
                    1,
                    10.39,
                    17.47,
                    2.96,
                    4.57,
                    17.77,
                    1.2,
                    17.38,
                    18,
                    9.27,
                    3.19,
                    15.8,
                    18.09,
                    11.98,
                    11.63,
                    0.62,
                    1.1,
                    0.8,
                    6.78,
                    1.3,
                    17.3,
                    0.86,
                    1.11,
                    8.11,
                    15.35,
                    7.49,
                    18.13,
                    0.95,
                    24.2,
                    1.75,
                    14.68,
                    17.49,
                    1.8,
                    17.73,
                    1.1,
                    19.42,
                    4.56,
                    4.15,
                    2.3,
                    0.87,
                    0.69,
                    0.88,
                    17.99,
                    1.1,
                    28.14,
                    17.89,
                    1.75,
                    17.9,
                    13.4,
                    5.32,
                    3.6,
                    5,
                    1.23,
                    0.9,
                    17.66,
                    0.92,
                    4.59,
                    1.5,
                    17.7,
                    7,
                    1.18,
                    18.16,
                    3.33,
                    4.84,
                    25.7,
                    1.76,
                    17.95,
                    5.57,
                    2.7,
                    7.81,
                    17.2,
                    0.93,
                    17.58,
                    17.6,
                    1.41,
                    3.79,
                    20,
                    2.22,
                    1.52,
                    18.52,
                    10.67,
                    3.28,
                    0.8,
                    3.1,
                    11.2,
                    16.9,
                    3.4,
                    15.1,
                    1.9,
                    5.04,
                    5.33,
                    17.6,
                    13.79,
                    3.49,
                    7,
                    1.94,
                    2.05,
                    17.39,
                    4.17,
                    1.99,
                    19.88,
                    12.3,
                    1.2,
                    11.2,
                    16.07,
                    1.69,
                    17.68,
                    17.66,
                    3.4,
                    1.07,
                    0.9,
                    5.57,
                    6.28,
                    14.98,
                    20.9,
                    10.86,
                    10.41,
                    18.15,
                    9.09,
                    1.8,
                    17.13,
                    18.17,
                    17.41,
                    7.8,
                    0.6,
                    12.5,
                    2.2,
                    3.38,
                    1.77,
                    1.84,
                    11.93,
                    10.54,
                    1.01,
                    11.8,
                    5.75,
                    9.89,
                    19.63,
                    17.51,
                    14.51,
                    4.3,
                    3.5,
                    1.42,
                    9.68,
                    0.83,
                    28.8,
                    3.2,
                    7.95,
                    15.35,
                    15.8,
                    18.1,
                    10.47,
                    19,
                    17.99,
                    8.9,
                    1.03,
                    16,
                    17.3,
                    1.29,
                    0.9,
                    3.69,
                    27.8,
                    3.01,
                    11.12,
                    1.7,
                    0.74,
                    15.84,
                    17.4,
                    15.02,
                    1.1,
                    7.54,
                    13.59,
                    2.86,
                    3.03,
                    1,
                    0.75,
                    1.3,
                    14.76,
                    17.6,
                    16.39,
                    0.91,
                    0.71,
                    14.85,
                    11.38,
                    0.79,
                    3,
                    3.6,
                    19.2,
                    27.3,
                    10,
                    1.8,
                    0.89,
                    1.34,
                    8.11,
                    2.1,
                    0.5,
                    2.7,
                    0.91,
                    0.9,
                    10.85
                  ],
                  "xaxis": "x2",
                  "y": [
                    21.38302335739136,
                    7.251703500747681,
                    28.653815348148346,
                    44.79087092638016,
                    11.719023971557618,
                    15.388608644008636,
                    45.47464446783066,
                    7.707552528381347,
                    44.585738863945004,
                    45.998870849609375,
                    26.10106079339981,
                    12.243250353336334,
                    40.98453154563904,
                    46.20400291204452,
                    32.277815117836,
                    31.480079319477085,
                    6.3855903482437135,
                    7.479628014564515,
                    6.795854473114014,
                    20.425740399360656,
                    7.9354770421981815,
                    44.40339925289154,
                    6.932609181404114,
                    7.502420465946198,
                    23.457136433124543,
                    39.958871233463285,
                    22.044004447460175,
                    46.295172717571255,
                    7.137741243839264,
                    60.13019070625305,
                    8.961137354373932,
                    38.431776990890505,
                    44.83645582914352,
                    9.075099611282349,
                    45.383474662303925,
                    7.479628014564515,
                    49.23539894580841,
                    15.365816192626951,
                    14.431325685977937,
                    10.214722180366515,
                    6.955401632785797,
                    6.545137507915497,
                    6.97819408416748,
                    45.976078398227685,
                    7.479628014564515,
                    69.11041655063629,
                    45.74815388441086,
                    8.961137354373932,
                    45.77094633579254,
                    35.51434321403504,
                    17.098042497634886,
                    13.177740859985352,
                    16.36868405342102,
                    7.775929882526398,
                    7.023778986930847,
                    45.223927502632144,
                    7.069363889694214,
                    15.434193546772002,
                    8.391326069831848,
                    45.315097308158876,
                    20.92717432975769,
                    7.661967625617981,
                    46.36355007171631,
                    12.562344672679902,
                    16.004004831314084,
                    63.549058413505556,
                    8.983929805755615,
                    45.88490859270096,
                    17.66785378217697,
                    11.126420235633852,
                    22.77336289167404,
                    44.17547473907471,
                    7.092156341075897,
                    45.04158789157867,
                    45.087172794342045,
                    8.186194007396697,
                    13.610797436237336,
                    50.557361125946045,
                    10.03238256931305,
                    8.436910972595214,
                    47.18407832145691,
                    29.29200398683548,
                    12.448382415771484,
                    6.795854473114014,
                    12.038118290901185,
                    30.500003910064695,
                    43.4917011976242,
                    12.721891832351684,
                    39.3890599489212,
                    9.303024125099181,
                    16.459853858947753,
                    17.12083494901657,
                    45.087172794342045,
                    36.403248817920684,
                    12.927023894786835,
                    20.92717432975769,
                    9.394193930625915,
                    9.644910895824431,
                    44.608531315326694,
                    14.476910588741303,
                    9.508156187534333,
                    50.28385170936584,
                    33.00717356204987,
                    7.707552528381347,
                    30.500003910064695,
                    41.59992773294449,
                    8.824382646083832,
                    45.26951240539551,
                    45.223927502632144,
                    12.721891832351684,
                    7.411250660419464,
                    7.023778986930847,
                    17.66785378217697,
                    19.28611783027649,
                    39.115550532341004,
                    52.60868175029754,
                    29.725060563087464,
                    28.69940025091171,
                    46.34075762033462,
                    25.69079666852951,
                    9.075099611282349,
                    44.01592757940292,
                    46.386342523097994,
                    44.65411621809006,
                    22.750570440292357,
                    6.3400054454803465,
                    33.46302258968353,
                    9.986797666549684,
                    12.676306929588318,
                    9.006722257137298,
                    9.166269416809083,
                    32.16385286092758,
                    28.995702118873595,
                    7.274495952129364,
                    31.8675509929657,
                    18.07811790704727,
                    27.514192779064178,
                    49.71404042482376,
                    44.8820407319069,
                    38.044305317401886,
                    14.773212456703186,
                    12.949816346168518,
                    8.208986458778382,
                    27.035551300048827,
                    6.864231827259063,
                    70.6147183418274,
                    12.266042804718019,
                    23.09245721101761,
                    39.958871233463285,
                    40.98453154563904,
                    46.22679536342621,
                    28.836154959201814,
                    48.27811598777771,
                    45.976078398227685,
                    25.257740092277526,
                    7.320080854892731,
                    41.440380573272705,
                    44.40339925289154,
                    7.912684590816498,
                    7.023778986930847,
                    13.382872922420502,
                    68.33547320365906,
                    11.832986228466034,
                    30.317664299011227,
                    8.847175097465515,
                    6.659099764823914,
                    41.07570135116577,
                    44.63132376670837,
                    39.206720337867736,
                    7.479628014564515,
                    22.15796670436859,
                    35.94739979028702,
                    11.491099457740784,
                    11.8785711312294,
                    7.251703500747681,
                    6.681892216205597,
                    7.9354770421981815,
                    38.61411660194397,
                    45.087172794342045,
                    42.32928617715836,
                    7.04657143831253,
                    6.590722410678864,
                    38.81924866437912,
                    30.910268034935,
                    6.77306202173233,
                    11.81019377708435,
                    13.177740859985352,
                    48.73396501541138,
                    67.1958506345749,
                    27.764909744262695,
                    9.075099611282349,
                    7.000986535549163,
                    8.026646847724916,
                    23.457136433124543,
                    9.75887315273285,
                    6.112080931663513,
                    11.126420235633852,
                    7.04657143831253,
                    7.023778986930847,
                    29.70226811170578
                  ],
                  "yaxis": "y2"
                },
                {
                  "hovertemplate": "x=%{x}<br>y=%{y}<extra></extra>",
                  "legendgroup": "",
                  "line": {
                    "color": "#ff0000",
                    "dash": "solid",
                    "width": 3
                  },
                  "marker": {
                    "symbol": "circle"
                  },
                  "mode": "lines",
                  "name": "",
                  "orientation": "v",
                  "showlegend": false,
                  "type": "scatter",
                  "x": [
                    0,
                    1,
                    2,
                    3,
                    4,
                    5,
                    6,
                    7,
                    8,
                    9,
                    10,
                    11,
                    12,
                    13,
                    14,
                    15,
                    16,
                    17,
                    18,
                    19
                  ],
                  "xaxis": "x",
                  "y": [
                    25.620203018188477,
                    18.484745025634766,
                    11.554532051086426,
                    5.742036819458008,
                    4.029150009155273,
                    3.9166533946990967,
                    3.838282823562622,
                    3.7907450199127197,
                    3.766516923904419,
                    3.7543094158172607,
                    3.7492482662200928,
                    3.747276544570923,
                    3.74617338180542,
                    3.7462055683135986,
                    3.746272087097168,
                    3.7452354431152344,
                    3.7460904121398926,
                    3.745537281036377,
                    3.7458770275115967,
                    3.7460713386535645
                  ],
                  "yaxis": "y"
                }
              ],
              "layout": {
                "annotations": [
                  {
                    "font": {
                      "size": 16
                    },
                    "showarrow": false,
                    "text": "Loss Curve",
                    "x": 0.225,
                    "xanchor": "center",
                    "xref": "paper",
                    "y": 1,
                    "yanchor": "bottom",
                    "yref": "paper"
                  },
                  {
                    "font": {
                      "size": 16
                    },
                    "showarrow": false,
                    "text": "Model Plot",
                    "x": 0.775,
                    "xanchor": "center",
                    "xref": "paper",
                    "y": 1,
                    "yanchor": "bottom",
                    "yref": "paper"
                  }
                ],
                "template": {
                  "data": {
                    "bar": [
                      {
                        "error_x": {
                          "color": "#2a3f5f"
                        },
                        "error_y": {
                          "color": "#2a3f5f"
                        },
                        "marker": {
                          "line": {
                            "color": "#E5ECF6",
                            "width": 0.5
                          },
                          "pattern": {
                            "fillmode": "overlay",
                            "size": 10,
                            "solidity": 0.2
                          }
                        },
                        "type": "bar"
                      }
                    ],
                    "barpolar": [
                      {
                        "marker": {
                          "line": {
                            "color": "#E5ECF6",
                            "width": 0.5
                          },
                          "pattern": {
                            "fillmode": "overlay",
                            "size": 10,
                            "solidity": 0.2
                          }
                        },
                        "type": "barpolar"
                      }
                    ],
                    "carpet": [
                      {
                        "aaxis": {
                          "endlinecolor": "#2a3f5f",
                          "gridcolor": "white",
                          "linecolor": "white",
                          "minorgridcolor": "white",
                          "startlinecolor": "#2a3f5f"
                        },
                        "baxis": {
                          "endlinecolor": "#2a3f5f",
                          "gridcolor": "white",
                          "linecolor": "white",
                          "minorgridcolor": "white",
                          "startlinecolor": "#2a3f5f"
                        },
                        "type": "carpet"
                      }
                    ],
                    "choropleth": [
                      {
                        "colorbar": {
                          "outlinewidth": 0,
                          "ticks": ""
                        },
                        "type": "choropleth"
                      }
                    ],
                    "contour": [
                      {
                        "colorbar": {
                          "outlinewidth": 0,
                          "ticks": ""
                        },
                        "colorscale": [
                          [
                            0,
                            "#0d0887"
                          ],
                          [
                            0.1111111111111111,
                            "#46039f"
                          ],
                          [
                            0.2222222222222222,
                            "#7201a8"
                          ],
                          [
                            0.3333333333333333,
                            "#9c179e"
                          ],
                          [
                            0.4444444444444444,
                            "#bd3786"
                          ],
                          [
                            0.5555555555555556,
                            "#d8576b"
                          ],
                          [
                            0.6666666666666666,
                            "#ed7953"
                          ],
                          [
                            0.7777777777777778,
                            "#fb9f3a"
                          ],
                          [
                            0.8888888888888888,
                            "#fdca26"
                          ],
                          [
                            1,
                            "#f0f921"
                          ]
                        ],
                        "type": "contour"
                      }
                    ],
                    "contourcarpet": [
                      {
                        "colorbar": {
                          "outlinewidth": 0,
                          "ticks": ""
                        },
                        "type": "contourcarpet"
                      }
                    ],
                    "heatmap": [
                      {
                        "colorbar": {
                          "outlinewidth": 0,
                          "ticks": ""
                        },
                        "colorscale": [
                          [
                            0,
                            "#0d0887"
                          ],
                          [
                            0.1111111111111111,
                            "#46039f"
                          ],
                          [
                            0.2222222222222222,
                            "#7201a8"
                          ],
                          [
                            0.3333333333333333,
                            "#9c179e"
                          ],
                          [
                            0.4444444444444444,
                            "#bd3786"
                          ],
                          [
                            0.5555555555555556,
                            "#d8576b"
                          ],
                          [
                            0.6666666666666666,
                            "#ed7953"
                          ],
                          [
                            0.7777777777777778,
                            "#fb9f3a"
                          ],
                          [
                            0.8888888888888888,
                            "#fdca26"
                          ],
                          [
                            1,
                            "#f0f921"
                          ]
                        ],
                        "type": "heatmap"
                      }
                    ],
                    "heatmapgl": [
                      {
                        "colorbar": {
                          "outlinewidth": 0,
                          "ticks": ""
                        },
                        "colorscale": [
                          [
                            0,
                            "#0d0887"
                          ],
                          [
                            0.1111111111111111,
                            "#46039f"
                          ],
                          [
                            0.2222222222222222,
                            "#7201a8"
                          ],
                          [
                            0.3333333333333333,
                            "#9c179e"
                          ],
                          [
                            0.4444444444444444,
                            "#bd3786"
                          ],
                          [
                            0.5555555555555556,
                            "#d8576b"
                          ],
                          [
                            0.6666666666666666,
                            "#ed7953"
                          ],
                          [
                            0.7777777777777778,
                            "#fb9f3a"
                          ],
                          [
                            0.8888888888888888,
                            "#fdca26"
                          ],
                          [
                            1,
                            "#f0f921"
                          ]
                        ],
                        "type": "heatmapgl"
                      }
                    ],
                    "histogram": [
                      {
                        "marker": {
                          "pattern": {
                            "fillmode": "overlay",
                            "size": 10,
                            "solidity": 0.2
                          }
                        },
                        "type": "histogram"
                      }
                    ],
                    "histogram2d": [
                      {
                        "colorbar": {
                          "outlinewidth": 0,
                          "ticks": ""
                        },
                        "colorscale": [
                          [
                            0,
                            "#0d0887"
                          ],
                          [
                            0.1111111111111111,
                            "#46039f"
                          ],
                          [
                            0.2222222222222222,
                            "#7201a8"
                          ],
                          [
                            0.3333333333333333,
                            "#9c179e"
                          ],
                          [
                            0.4444444444444444,
                            "#bd3786"
                          ],
                          [
                            0.5555555555555556,
                            "#d8576b"
                          ],
                          [
                            0.6666666666666666,
                            "#ed7953"
                          ],
                          [
                            0.7777777777777778,
                            "#fb9f3a"
                          ],
                          [
                            0.8888888888888888,
                            "#fdca26"
                          ],
                          [
                            1,
                            "#f0f921"
                          ]
                        ],
                        "type": "histogram2d"
                      }
                    ],
                    "histogram2dcontour": [
                      {
                        "colorbar": {
                          "outlinewidth": 0,
                          "ticks": ""
                        },
                        "colorscale": [
                          [
                            0,
                            "#0d0887"
                          ],
                          [
                            0.1111111111111111,
                            "#46039f"
                          ],
                          [
                            0.2222222222222222,
                            "#7201a8"
                          ],
                          [
                            0.3333333333333333,
                            "#9c179e"
                          ],
                          [
                            0.4444444444444444,
                            "#bd3786"
                          ],
                          [
                            0.5555555555555556,
                            "#d8576b"
                          ],
                          [
                            0.6666666666666666,
                            "#ed7953"
                          ],
                          [
                            0.7777777777777778,
                            "#fb9f3a"
                          ],
                          [
                            0.8888888888888888,
                            "#fdca26"
                          ],
                          [
                            1,
                            "#f0f921"
                          ]
                        ],
                        "type": "histogram2dcontour"
                      }
                    ],
                    "mesh3d": [
                      {
                        "colorbar": {
                          "outlinewidth": 0,
                          "ticks": ""
                        },
                        "type": "mesh3d"
                      }
                    ],
                    "parcoords": [
                      {
                        "line": {
                          "colorbar": {
                            "outlinewidth": 0,
                            "ticks": ""
                          }
                        },
                        "type": "parcoords"
                      }
                    ],
                    "pie": [
                      {
                        "automargin": true,
                        "type": "pie"
                      }
                    ],
                    "scatter": [
                      {
                        "fillpattern": {
                          "fillmode": "overlay",
                          "size": 10,
                          "solidity": 0.2
                        },
                        "type": "scatter"
                      }
                    ],
                    "scatter3d": [
                      {
                        "line": {
                          "colorbar": {
                            "outlinewidth": 0,
                            "ticks": ""
                          }
                        },
                        "marker": {
                          "colorbar": {
                            "outlinewidth": 0,
                            "ticks": ""
                          }
                        },
                        "type": "scatter3d"
                      }
                    ],
                    "scattercarpet": [
                      {
                        "marker": {
                          "colorbar": {
                            "outlinewidth": 0,
                            "ticks": ""
                          }
                        },
                        "type": "scattercarpet"
                      }
                    ],
                    "scattergeo": [
                      {
                        "marker": {
                          "colorbar": {
                            "outlinewidth": 0,
                            "ticks": ""
                          }
                        },
                        "type": "scattergeo"
                      }
                    ],
                    "scattergl": [
                      {
                        "marker": {
                          "colorbar": {
                            "outlinewidth": 0,
                            "ticks": ""
                          }
                        },
                        "type": "scattergl"
                      }
                    ],
                    "scattermapbox": [
                      {
                        "marker": {
                          "colorbar": {
                            "outlinewidth": 0,
                            "ticks": ""
                          }
                        },
                        "type": "scattermapbox"
                      }
                    ],
                    "scatterpolar": [
                      {
                        "marker": {
                          "colorbar": {
                            "outlinewidth": 0,
                            "ticks": ""
                          }
                        },
                        "type": "scatterpolar"
                      }
                    ],
                    "scatterpolargl": [
                      {
                        "marker": {
                          "colorbar": {
                            "outlinewidth": 0,
                            "ticks": ""
                          }
                        },
                        "type": "scatterpolargl"
                      }
                    ],
                    "scatterternary": [
                      {
                        "marker": {
                          "colorbar": {
                            "outlinewidth": 0,
                            "ticks": ""
                          }
                        },
                        "type": "scatterternary"
                      }
                    ],
                    "surface": [
                      {
                        "colorbar": {
                          "outlinewidth": 0,
                          "ticks": ""
                        },
                        "colorscale": [
                          [
                            0,
                            "#0d0887"
                          ],
                          [
                            0.1111111111111111,
                            "#46039f"
                          ],
                          [
                            0.2222222222222222,
                            "#7201a8"
                          ],
                          [
                            0.3333333333333333,
                            "#9c179e"
                          ],
                          [
                            0.4444444444444444,
                            "#bd3786"
                          ],
                          [
                            0.5555555555555556,
                            "#d8576b"
                          ],
                          [
                            0.6666666666666666,
                            "#ed7953"
                          ],
                          [
                            0.7777777777777778,
                            "#fb9f3a"
                          ],
                          [
                            0.8888888888888888,
                            "#fdca26"
                          ],
                          [
                            1,
                            "#f0f921"
                          ]
                        ],
                        "type": "surface"
                      }
                    ],
                    "table": [
                      {
                        "cells": {
                          "fill": {
                            "color": "#EBF0F8"
                          },
                          "line": {
                            "color": "white"
                          }
                        },
                        "header": {
                          "fill": {
                            "color": "#C8D4E3"
                          },
                          "line": {
                            "color": "white"
                          }
                        },
                        "type": "table"
                      }
                    ]
                  },
                  "layout": {
                    "annotationdefaults": {
                      "arrowcolor": "#2a3f5f",
                      "arrowhead": 0,
                      "arrowwidth": 1
                    },
                    "autotypenumbers": "strict",
                    "coloraxis": {
                      "colorbar": {
                        "outlinewidth": 0,
                        "ticks": ""
                      }
                    },
                    "colorscale": {
                      "diverging": [
                        [
                          0,
                          "#8e0152"
                        ],
                        [
                          0.1,
                          "#c51b7d"
                        ],
                        [
                          0.2,
                          "#de77ae"
                        ],
                        [
                          0.3,
                          "#f1b6da"
                        ],
                        [
                          0.4,
                          "#fde0ef"
                        ],
                        [
                          0.5,
                          "#f7f7f7"
                        ],
                        [
                          0.6,
                          "#e6f5d0"
                        ],
                        [
                          0.7,
                          "#b8e186"
                        ],
                        [
                          0.8,
                          "#7fbc41"
                        ],
                        [
                          0.9,
                          "#4d9221"
                        ],
                        [
                          1,
                          "#276419"
                        ]
                      ],
                      "sequential": [
                        [
                          0,
                          "#0d0887"
                        ],
                        [
                          0.1111111111111111,
                          "#46039f"
                        ],
                        [
                          0.2222222222222222,
                          "#7201a8"
                        ],
                        [
                          0.3333333333333333,
                          "#9c179e"
                        ],
                        [
                          0.4444444444444444,
                          "#bd3786"
                        ],
                        [
                          0.5555555555555556,
                          "#d8576b"
                        ],
                        [
                          0.6666666666666666,
                          "#ed7953"
                        ],
                        [
                          0.7777777777777778,
                          "#fb9f3a"
                        ],
                        [
                          0.8888888888888888,
                          "#fdca26"
                        ],
                        [
                          1,
                          "#f0f921"
                        ]
                      ],
                      "sequentialminus": [
                        [
                          0,
                          "#0d0887"
                        ],
                        [
                          0.1111111111111111,
                          "#46039f"
                        ],
                        [
                          0.2222222222222222,
                          "#7201a8"
                        ],
                        [
                          0.3333333333333333,
                          "#9c179e"
                        ],
                        [
                          0.4444444444444444,
                          "#bd3786"
                        ],
                        [
                          0.5555555555555556,
                          "#d8576b"
                        ],
                        [
                          0.6666666666666666,
                          "#ed7953"
                        ],
                        [
                          0.7777777777777778,
                          "#fb9f3a"
                        ],
                        [
                          0.8888888888888888,
                          "#fdca26"
                        ],
                        [
                          1,
                          "#f0f921"
                        ]
                      ]
                    },
                    "colorway": [
                      "#636efa",
                      "#EF553B",
                      "#00cc96",
                      "#ab63fa",
                      "#FFA15A",
                      "#19d3f3",
                      "#FF6692",
                      "#B6E880",
                      "#FF97FF",
                      "#FECB52"
                    ],
                    "font": {
                      "color": "#2a3f5f"
                    },
                    "geo": {
                      "bgcolor": "white",
                      "lakecolor": "white",
                      "landcolor": "#E5ECF6",
                      "showlakes": true,
                      "showland": true,
                      "subunitcolor": "white"
                    },
                    "hoverlabel": {
                      "align": "left"
                    },
                    "hovermode": "closest",
                    "mapbox": {
                      "style": "light"
                    },
                    "paper_bgcolor": "white",
                    "plot_bgcolor": "#E5ECF6",
                    "polar": {
                      "angularaxis": {
                        "gridcolor": "white",
                        "linecolor": "white",
                        "ticks": ""
                      },
                      "bgcolor": "#E5ECF6",
                      "radialaxis": {
                        "gridcolor": "white",
                        "linecolor": "white",
                        "ticks": ""
                      }
                    },
                    "scene": {
                      "xaxis": {
                        "backgroundcolor": "#E5ECF6",
                        "gridcolor": "white",
                        "gridwidth": 2,
                        "linecolor": "white",
                        "showbackground": true,
                        "ticks": "",
                        "zerolinecolor": "white"
                      },
                      "yaxis": {
                        "backgroundcolor": "#E5ECF6",
                        "gridcolor": "white",
                        "gridwidth": 2,
                        "linecolor": "white",
                        "showbackground": true,
                        "ticks": "",
                        "zerolinecolor": "white"
                      },
                      "zaxis": {
                        "backgroundcolor": "#E5ECF6",
                        "gridcolor": "white",
                        "gridwidth": 2,
                        "linecolor": "white",
                        "showbackground": true,
                        "ticks": "",
                        "zerolinecolor": "white"
                      }
                    },
                    "shapedefaults": {
                      "line": {
                        "color": "#2a3f5f"
                      }
                    },
                    "ternary": {
                      "aaxis": {
                        "gridcolor": "white",
                        "linecolor": "white",
                        "ticks": ""
                      },
                      "baxis": {
                        "gridcolor": "white",
                        "linecolor": "white",
                        "ticks": ""
                      },
                      "bgcolor": "#E5ECF6",
                      "caxis": {
                        "gridcolor": "white",
                        "linecolor": "white",
                        "ticks": ""
                      }
                    },
                    "title": {
                      "x": 0.05
                    },
                    "xaxis": {
                      "automargin": true,
                      "gridcolor": "white",
                      "linecolor": "white",
                      "ticks": "",
                      "title": {
                        "standoff": 15
                      },
                      "zerolinecolor": "white",
                      "zerolinewidth": 2
                    },
                    "yaxis": {
                      "automargin": true,
                      "gridcolor": "white",
                      "linecolor": "white",
                      "ticks": "",
                      "title": {
                        "standoff": 15
                      },
                      "zerolinecolor": "white",
                      "zerolinewidth": 2
                    }
                  }
                },
                "xaxis": {
                  "anchor": "y",
                  "domain": [
                    0,
                    0.45
                  ],
                  "title": {
                    "text": "Epoch"
                  }
                },
                "xaxis2": {
                  "anchor": "y2",
                  "domain": [
                    0.55,
                    1
                  ],
                  "title": {
                    "text": "TRIP_MILES"
                  }
                },
                "yaxis": {
                  "anchor": "x",
                  "domain": [
                    0,
                    1
                  ],
                  "range": [
                    2.9961883544921877,
                    25.620203018188477
                  ],
                  "title": {
                    "text": "Root Mean Squared Error"
                  }
                },
                "yaxis2": {
                  "anchor": "x2",
                  "domain": [
                    0,
                    1
                  ],
                  "title": {
                    "text": "FARE"
                  }
                }
              }
            }
          },
          "metadata": {},
          "output_type": "display_data"
        }
      ],
      "source": [
        "#@title Code - Experiment 1\n",
        "\n",
        "# The following variables are the hyperparameters.\n",
        "learning_rate = 0.001\n",
        "epochs = 20\n",
        "batch_size = 50\n",
        "\n",
        "# Specify the feature and the label.\n",
        "features = ['TRIP_MILES']\n",
        "label = 'FARE'\n",
        "\n",
        "model_1 = run_experiment(training_df, features, label, learning_rate, epochs, batch_size)"
      ]
    },
    {
      "cell_type": "code",
      "execution_count": 47,
      "metadata": {
        "cellView": "form",
        "id": "y8Qnmb0wZ_pQ"
      },
      "outputs": [
        {
          "name": "stdout",
          "output_type": "stream",
          "text": [
            "\n",
            "Use the loss curve to see where the loss begins to level off during training.\n",
            "\n",
            "With this set of hyperparameters:\n",
            "\n",
            "  learning_rate = 0.001\n",
            "  epochs = 20\n",
            "  batch_size = 50\n",
            "\n",
            "it takes about 5 epochs for the training run to converge to the final model.\n",
            "\n",
            "\n",
            "It appears from the model plot that the model fits the sample data fairly well.\n",
            "\n"
          ]
        }
      ],
      "source": [
        "#@title Double-click to view answers for training model with one feature\n",
        "\n",
        "# How many epochs did it take to converge on the final model?\n",
        "# -----------------------------------------------------------------------------\n",
        "answer = \"\"\"\n",
        "Use the loss curve to see where the loss begins to level off during training.\n",
        "\n",
        "With this set of hyperparameters:\n",
        "\n",
        "  learning_rate = 0.001\n",
        "  epochs = 20\n",
        "  batch_size = 50\n",
        "\n",
        "it takes about 5 epochs for the training run to converge to the final model.\n",
        "\"\"\"\n",
        "print(answer)\n",
        "\n",
        "# How well does the model fit the sample data?\n",
        "# -----------------------------------------------------------------------------\n",
        "answer = '''\n",
        "It appears from the model plot that the model fits the sample data fairly well.\n",
        "'''\n",
        "print(answer)"
      ]
    },
    {
      "cell_type": "markdown",
      "metadata": {
        "id": "MYmWW0a9p1ro"
      },
      "source": [
        "## Experiment with hyperparameters\n",
        "\n",
        "It is common with machine learning to run multiple experiments to find the best set of hyperparmeters to train your model. In this step, try varying the hyperparameters one by one with this set of experiments:\n",
        "\n",
        "* *Experiment 1:* **Increase** the learning rate to **``1``** (batch size at ``50``).\n",
        "* *Experiment 2:* **Decrease** the learning rate to **``0.0001``** (batch size at ``50``).\n",
        "* *Experiment 3:* **Increase** the batch size to **``500``** (learning rate at ``0.001``).\n",
        "\n",
        "**Instructions**\n",
        "1. Update the hyperparameter values in the **Experiment 2** code cell according to the experiment.\n",
        "2. Run the **Experiment 2** code cell.\n",
        "3. After the training run, examine the output and note any differences you see in the loss curve or model output.\n",
        "4. Repeat steps 1 - 3 for each hyperparameter experiment.\n",
        "5. **Check your understanding** by answering these questions:\n",
        "  * How did raising the learning rate impact your ability to train the model?\n",
        "  * How did lowering the learning rate impact your ability to train the model?\n",
        "  * Did changing the batch size effect your training results?\n"
      ]
    },
    {
      "cell_type": "code",
      "execution_count": 48,
      "metadata": {
        "cellView": "form",
        "id": "PdUXEm1xeWcK"
      },
      "outputs": [
        {
          "name": "stdout",
          "output_type": "stream",
          "text": [
            "INFO: starting training experiment with features=['TRIP_MILES'] and label=FARE\n",
            "\n",
            "Epoch 1/20\n",
            "\u001b[1m634/634\u001b[0m \u001b[32m━━━━━━━━━━━━━━━━━━━━\u001b[0m\u001b[37m\u001b[0m \u001b[1m3s\u001b[0m 3ms/step - loss: 343.9038 - root_mean_squared_error: 18.5175\n",
            "Epoch 2/20\n",
            "\u001b[1m634/634\u001b[0m \u001b[32m━━━━━━━━━━━━━━━━━━━━\u001b[0m\u001b[37m\u001b[0m \u001b[1m1s\u001b[0m 2ms/step - loss: 137.3398 - root_mean_squared_error: 11.6872\n",
            "Epoch 3/20\n",
            "\u001b[1m634/634\u001b[0m \u001b[32m━━━━━━━━━━━━━━━━━━━━\u001b[0m\u001b[37m\u001b[0m \u001b[1m1s\u001b[0m 2ms/step - loss: 36.0611 - root_mean_squared_error: 5.9664\n",
            "Epoch 4/20\n",
            "\u001b[1m634/634\u001b[0m \u001b[32m━━━━━━━━━━━━━━━━━━━━\u001b[0m\u001b[37m\u001b[0m \u001b[1m1s\u001b[0m 2ms/step - loss: 17.3728 - root_mean_squared_error: 4.1634\n",
            "Epoch 5/20\n",
            "\u001b[1m634/634\u001b[0m \u001b[32m━━━━━━━━━━━━━━━━━━━━\u001b[0m\u001b[37m\u001b[0m \u001b[1m1s\u001b[0m 2ms/step - loss: 17.0751 - root_mean_squared_error: 4.1261\n",
            "Epoch 6/20\n",
            "\u001b[1m634/634\u001b[0m \u001b[32m━━━━━━━━━━━━━━━━━━━━\u001b[0m\u001b[37m\u001b[0m \u001b[1m1s\u001b[0m 2ms/step - loss: 16.0743 - root_mean_squared_error: 3.9991\n",
            "Epoch 7/20\n",
            "\u001b[1m634/634\u001b[0m \u001b[32m━━━━━━━━━━━━━━━━━━━━\u001b[0m\u001b[37m\u001b[0m \u001b[1m1s\u001b[0m 2ms/step - loss: 14.8640 - root_mean_squared_error: 3.8510\n",
            "Epoch 8/20\n",
            "\u001b[1m634/634\u001b[0m \u001b[32m━━━━━━━━━━━━━━━━━━━━\u001b[0m\u001b[37m\u001b[0m \u001b[1m1s\u001b[0m 1ms/step - loss: 13.9716 - root_mean_squared_error: 3.7353\n",
            "Epoch 9/20\n",
            "\u001b[1m634/634\u001b[0m \u001b[32m━━━━━━━━━━━━━━━━━━━━\u001b[0m\u001b[37m\u001b[0m \u001b[1m1s\u001b[0m 2ms/step - loss: 13.0902 - root_mean_squared_error: 3.6094\n",
            "Epoch 10/20\n",
            "\u001b[1m634/634\u001b[0m \u001b[32m━━━━━━━━━━━━━━━━━━━━\u001b[0m\u001b[37m\u001b[0m \u001b[1m1s\u001b[0m 1ms/step - loss: 15.0340 - root_mean_squared_error: 3.8709\n",
            "Epoch 11/20\n",
            "\u001b[1m634/634\u001b[0m \u001b[32m━━━━━━━━━━━━━━━━━━━━\u001b[0m\u001b[37m\u001b[0m \u001b[1m1s\u001b[0m 1ms/step - loss: 13.7797 - root_mean_squared_error: 3.7085\n",
            "Epoch 12/20\n",
            "\u001b[1m634/634\u001b[0m \u001b[32m━━━━━━━━━━━━━━━━━━━━\u001b[0m\u001b[37m\u001b[0m \u001b[1m1s\u001b[0m 1ms/step - loss: 14.7409 - root_mean_squared_error: 3.8338\n",
            "Epoch 13/20\n",
            "\u001b[1m634/634\u001b[0m \u001b[32m━━━━━━━━━━━━━━━━━━━━\u001b[0m\u001b[37m\u001b[0m \u001b[1m1s\u001b[0m 1ms/step - loss: 13.3369 - root_mean_squared_error: 3.6459\n",
            "Epoch 14/20\n",
            "\u001b[1m634/634\u001b[0m \u001b[32m━━━━━━━━━━━━━━━━━━━━\u001b[0m\u001b[37m\u001b[0m \u001b[1m1s\u001b[0m 2ms/step - loss: 12.9963 - root_mean_squared_error: 3.5900\n",
            "Epoch 15/20\n",
            "\u001b[1m634/634\u001b[0m \u001b[32m━━━━━━━━━━━━━━━━━━━━\u001b[0m\u001b[37m\u001b[0m \u001b[1m1s\u001b[0m 1ms/step - loss: 14.1074 - root_mean_squared_error: 3.7483\n",
            "Epoch 16/20\n",
            "\u001b[1m634/634\u001b[0m \u001b[32m━━━━━━━━━━━━━━━━━━━━\u001b[0m\u001b[37m\u001b[0m \u001b[1m1s\u001b[0m 2ms/step - loss: 13.7339 - root_mean_squared_error: 3.7018\n",
            "Epoch 17/20\n",
            "\u001b[1m634/634\u001b[0m \u001b[32m━━━━━━━━━━━━━━━━━━━━\u001b[0m\u001b[37m\u001b[0m \u001b[1m1s\u001b[0m 1ms/step - loss: 15.1855 - root_mean_squared_error: 3.8903\n",
            "Epoch 18/20\n",
            "\u001b[1m634/634\u001b[0m \u001b[32m━━━━━━━━━━━━━━━━━━━━\u001b[0m\u001b[37m\u001b[0m \u001b[1m1s\u001b[0m 1ms/step - loss: 13.3961 - root_mean_squared_error: 3.6546\n",
            "Epoch 19/20\n",
            "\u001b[1m634/634\u001b[0m \u001b[32m━━━━━━━━━━━━━━━━━━━━\u001b[0m\u001b[37m\u001b[0m \u001b[1m1s\u001b[0m 1ms/step - loss: 14.1823 - root_mean_squared_error: 3.7622\n",
            "Epoch 20/20\n",
            "\u001b[1m634/634\u001b[0m \u001b[32m━━━━━━━━━━━━━━━━━━━━\u001b[0m\u001b[37m\u001b[0m \u001b[1m1s\u001b[0m 1ms/step - loss: 13.7187 - root_mean_squared_error: 3.7010\n",
            "\n",
            "SUCCESS: training experiment complete\n",
            "\n",
            "--------------------------------------------------------------------------------\n",
            "|                                  MODEL INFO                                  |\n",
            "--------------------------------------------------------------------------------\n",
            "Weight for feature[TRIP_MILES]: 2.272\n",
            "Bias: 4.974\n",
            "\n",
            "FARE = 2.272 * TRIP_MILES + 4.974\n",
            "\n"
          ]
        },
        {
          "data": {
            "application/vnd.plotly.v1+json": {
              "config": {
                "plotlyServerURL": "https://plot.ly"
              },
              "data": [
                {
                  "hovertemplate": "TRIP_MILES=%{x}<br>FARE=%{y}<extra></extra>",
                  "legendgroup": "",
                  "marker": {
                    "color": "#636efa",
                    "symbol": "circle"
                  },
                  "mode": "markers",
                  "name": "",
                  "orientation": "v",
                  "showlegend": false,
                  "type": "scatter",
                  "x": [
                    2.97,
                    1.28,
                    1.05,
                    16.2,
                    1.36,
                    1.5,
                    0.68,
                    2.16,
                    4.19,
                    0.94,
                    8.97,
                    1.6,
                    13.84,
                    10.1,
                    4.18,
                    17.08,
                    17.64,
                    1.5,
                    23.52,
                    17.7,
                    0.5,
                    11.21,
                    1.8,
                    4.93,
                    1.09,
                    1.74,
                    4.7,
                    7.48,
                    3.72,
                    15.8,
                    23.52,
                    1.4,
                    0.7,
                    1.2,
                    16.24,
                    12.7,
                    3.63,
                    12.7,
                    0.7,
                    8.8,
                    14.7,
                    23.39,
                    2.05,
                    3.41,
                    6.29,
                    12.02,
                    1.17,
                    1.09,
                    9,
                    17.68,
                    2.03,
                    17.52,
                    17.1,
                    2.15,
                    2.31,
                    17.2,
                    1.84,
                    1.01,
                    0.6,
                    2.56,
                    1.2,
                    11.3,
                    10.62,
                    15.73,
                    13.6,
                    13.81,
                    1.2,
                    19.84,
                    3.86,
                    11.1,
                    1.32,
                    14.97,
                    12.84,
                    9.41,
                    2.38,
                    0.93,
                    11.05,
                    15.35,
                    2.25,
                    4.6,
                    2.56,
                    20.01,
                    1,
                    17.2,
                    1.3,
                    2.5,
                    3.33,
                    14.2,
                    13.72,
                    0.98,
                    0.91,
                    17.5,
                    16.06,
                    16.7,
                    4.33,
                    12.03,
                    1.14,
                    4.92,
                    15.85,
                    11.4,
                    17.73,
                    15.92,
                    0.72,
                    0.5,
                    5.39,
                    1.41,
                    16.4,
                    17.18,
                    0.59,
                    17.32,
                    0.81,
                    17.3,
                    5.7,
                    2.86,
                    4.33,
                    4.9,
                    4.9,
                    16.99,
                    18,
                    3.17,
                    13.57,
                    17.93,
                    11.17,
                    2,
                    2,
                    1.34,
                    18.6,
                    18.01,
                    10.12,
                    1.69,
                    11.14,
                    15,
                    1.45,
                    18.6,
                    3.6,
                    2.42,
                    19.63,
                    0.8,
                    1.63,
                    18.2,
                    0.86,
                    15.4,
                    9.34,
                    1.8,
                    8.4,
                    0.8,
                    1.1,
                    17.35,
                    24.16,
                    20.5,
                    1.8,
                    1.88,
                    1,
                    4.85,
                    10.42,
                    3.8,
                    3.35,
                    21.2,
                    20.8,
                    0.7,
                    11,
                    16.8,
                    1.34,
                    5.6,
                    0.69,
                    0.6,
                    0.6,
                    1.82,
                    0.82,
                    3.2,
                    18.8,
                    1.28,
                    8.9,
                    19.26,
                    2.29,
                    14.1,
                    10.11,
                    0.75,
                    14,
                    0.9,
                    9.8,
                    18.28,
                    30.3,
                    1.9,
                    10.75,
                    4.92,
                    1.72,
                    5.56,
                    16.71,
                    5.32,
                    18.3,
                    15.45,
                    16.9,
                    17.21,
                    4.1,
                    12.39,
                    3.19,
                    7.48,
                    7.57,
                    2.99
                  ],
                  "xaxis": "x2",
                  "y": [
                    10.75,
                    9,
                    6,
                    40.75,
                    9,
                    8.25,
                    5,
                    9.33,
                    12.75,
                    6.5,
                    24.25,
                    7.25,
                    38.25,
                    27.25,
                    13,
                    43.25,
                    44.75,
                    7.5,
                    59.25,
                    44.25,
                    4.5,
                    31.25,
                    8.75,
                    15,
                    9,
                    9.25,
                    18.25,
                    22.25,
                    13.9,
                    39,
                    56.75,
                    6.5,
                    5,
                    7.25,
                    43,
                    34,
                    12.5,
                    32.5,
                    5.5,
                    24.75,
                    36.75,
                    57.25,
                    8.5,
                    10.66,
                    18.25,
                    30.5,
                    7,
                    7.25,
                    24,
                    43.25,
                    8.5,
                    44.25,
                    43.5,
                    9.54,
                    9.5,
                    42.75,
                    9,
                    6.25,
                    4.75,
                    10,
                    6,
                    30.5,
                    28.75,
                    40.25,
                    36,
                    39.5,
                    6.75,
                    48.75,
                    13.75,
                    29.5,
                    7.25,
                    38.25,
                    34.75,
                    28.25,
                    10,
                    6,
                    30.5,
                    39.75,
                    9.53,
                    14.5,
                    9.5,
                    50.25,
                    6.75,
                    43.75,
                    6.5,
                    10,
                    13.59,
                    37.5,
                    34.5,
                    6.25,
                    6,
                    44.5,
                    42.25,
                    42,
                    14,
                    33.75,
                    6.5,
                    16.18,
                    45,
                    29.5,
                    44.5,
                    41.75,
                    5,
                    5,
                    19,
                    7,
                    40.25,
                    45.03,
                    5,
                    43,
                    5.25,
                    45.25,
                    18.25,
                    11.22,
                    13.75,
                    15,
                    15.75,
                    42.5,
                    45.25,
                    12.5,
                    37.67,
                    49.5,
                    29.5,
                    9,
                    9.75,
                    6.5,
                    46,
                    44.5,
                    27.25,
                    9.5,
                    30,
                    40.71,
                    8,
                    45.75,
                    19.5,
                    10.33,
                    50.5,
                    5.5,
                    8,
                    45.75,
                    5.5,
                    39.5,
                    24.17,
                    10.5,
                    26.25,
                    6.25,
                    6.5,
                    44,
                    58.25,
                    50.5,
                    9.25,
                    9.5,
                    9,
                    9,
                    27.75,
                    12.75,
                    11.5,
                    51.25,
                    51,
                    5.25,
                    30.5,
                    41.25,
                    7,
                    17.25,
                    5,
                    5.5,
                    9,
                    9,
                    5.5,
                    13,
                    47.25,
                    8,
                    26.75,
                    48.25,
                    11.25,
                    36.25,
                    27,
                    5.25,
                    36.25,
                    6.25,
                    27.75,
                    47.5,
                    72.75,
                    8.5,
                    32.25,
                    16.74,
                    9,
                    17,
                    41.75,
                    17.25,
                    46.5,
                    42,
                    42.75,
                    43.5,
                    13.75,
                    31.5,
                    10.75,
                    22,
                    24,
                    11.29
                  ],
                  "yaxis": "y2"
                },
                {
                  "hovertemplate": "TRIP_MILES=%{x}<br>FARE_PREDICTED=%{y}<extra></extra>",
                  "legendgroup": "",
                  "line": {
                    "color": "#ff0000",
                    "dash": "solid",
                    "width": 3
                  },
                  "marker": {
                    "symbol": "circle"
                  },
                  "mode": "lines",
                  "name": "",
                  "orientation": "v",
                  "showlegend": false,
                  "type": "scatter",
                  "x": [
                    2.97,
                    1.28,
                    1.05,
                    16.2,
                    1.36,
                    1.5,
                    0.68,
                    2.16,
                    4.19,
                    0.94,
                    8.97,
                    1.6,
                    13.84,
                    10.1,
                    4.18,
                    17.08,
                    17.64,
                    1.5,
                    23.52,
                    17.7,
                    0.5,
                    11.21,
                    1.8,
                    4.93,
                    1.09,
                    1.74,
                    4.7,
                    7.48,
                    3.72,
                    15.8,
                    23.52,
                    1.4,
                    0.7,
                    1.2,
                    16.24,
                    12.7,
                    3.63,
                    12.7,
                    0.7,
                    8.8,
                    14.7,
                    23.39,
                    2.05,
                    3.41,
                    6.29,
                    12.02,
                    1.17,
                    1.09,
                    9,
                    17.68,
                    2.03,
                    17.52,
                    17.1,
                    2.15,
                    2.31,
                    17.2,
                    1.84,
                    1.01,
                    0.6,
                    2.56,
                    1.2,
                    11.3,
                    10.62,
                    15.73,
                    13.6,
                    13.81,
                    1.2,
                    19.84,
                    3.86,
                    11.1,
                    1.32,
                    14.97,
                    12.84,
                    9.41,
                    2.38,
                    0.93,
                    11.05,
                    15.35,
                    2.25,
                    4.6,
                    2.56,
                    20.01,
                    1,
                    17.2,
                    1.3,
                    2.5,
                    3.33,
                    14.2,
                    13.72,
                    0.98,
                    0.91,
                    17.5,
                    16.06,
                    16.7,
                    4.33,
                    12.03,
                    1.14,
                    4.92,
                    15.85,
                    11.4,
                    17.73,
                    15.92,
                    0.72,
                    0.5,
                    5.39,
                    1.41,
                    16.4,
                    17.18,
                    0.59,
                    17.32,
                    0.81,
                    17.3,
                    5.7,
                    2.86,
                    4.33,
                    4.9,
                    4.9,
                    16.99,
                    18,
                    3.17,
                    13.57,
                    17.93,
                    11.17,
                    2,
                    2,
                    1.34,
                    18.6,
                    18.01,
                    10.12,
                    1.69,
                    11.14,
                    15,
                    1.45,
                    18.6,
                    3.6,
                    2.42,
                    19.63,
                    0.8,
                    1.63,
                    18.2,
                    0.86,
                    15.4,
                    9.34,
                    1.8,
                    8.4,
                    0.8,
                    1.1,
                    17.35,
                    24.16,
                    20.5,
                    1.8,
                    1.88,
                    1,
                    4.85,
                    10.42,
                    3.8,
                    3.35,
                    21.2,
                    20.8,
                    0.7,
                    11,
                    16.8,
                    1.34,
                    5.6,
                    0.69,
                    0.6,
                    0.6,
                    1.82,
                    0.82,
                    3.2,
                    18.8,
                    1.28,
                    8.9,
                    19.26,
                    2.29,
                    14.1,
                    10.11,
                    0.75,
                    14,
                    0.9,
                    9.8,
                    18.28,
                    30.3,
                    1.9,
                    10.75,
                    4.92,
                    1.72,
                    5.56,
                    16.71,
                    5.32,
                    18.3,
                    15.45,
                    16.9,
                    17.21,
                    4.1,
                    12.39,
                    3.19,
                    7.48,
                    7.57,
                    2.99
                  ],
                  "xaxis": "x2",
                  "y": [
                    11.722808227539062,
                    7.88236536026001,
                    7.359701538085938,
                    41.787340259552,
                    8.064161472320556,
                    8.382304668426514,
                    6.518894519805908,
                    9.882122592926025,
                    14.495198936462403,
                    7.109731884002685,
                    25.35751663208008,
                    8.609549808502198,
                    36.42435495376587,
                    27.925386714935303,
                    14.472474422454834,
                    43.78709749221802,
                    45.059670276641846,
                    8.382304668426514,
                    58.42168451309204,
                    45.19601736068726,
                    6.109853267669678,
                    30.44780776977539,
                    9.064040088653565,
                    16.17681297302246,
                    7.450599594116211,
                    8.927693004608155,
                    15.654149150848388,
                    21.971564044952395,
                    13.42714677810669,
                    40.878359699249266,
                    58.42168451309204,
                    8.15505952835083,
                    6.564343547821045,
                    7.7005692481994625,
                    41.87823831558227,
                    33.83376035690307,
                    13.222626152038574,
                    33.83376035690307,
                    6.564343547821045,
                    24.971199893951418,
                    38.37866315841675,
                    58.12626583099365,
                    9.632152938842772,
                    12.72268684387207,
                    19.267346878051757,
                    32.288493404388426,
                    7.632395706176758,
                    7.450599594116211,
                    25.425690174102783,
                    45.150568332672115,
                    9.586703910827637,
                    44.78697610855102,
                    43.83254652023316,
                    9.859398078918456,
                    10.222990303039552,
                    44.05979166030884,
                    9.154938144683838,
                    7.268803482055664,
                    6.337098407745361,
                    10.791103153228761,
                    7.7005692481994625,
                    30.652328395843508,
                    29.107061443328856,
                    40.71928810119629,
                    35.878966617584226,
                    36.356181411743165,
                    7.7005692481994625,
                    50.05906335830689,
                    13.745289974212646,
                    30.19783811569214,
                    7.973263416290283,
                    38.99222503662109,
                    34.151903553009035,
                    26.357395248413088,
                    10.382061901092529,
                    7.087007369995117,
                    30.0842155456543,
                    39.85575656890869,
                    10.08664321899414,
                    15.426904010772704,
                    10.791103153228761,
                    50.44538009643555,
                    7.246078968048096,
                    44.05979166030884,
                    7.927814388275147,
                    10.65475606918335,
                    12.540890731811523,
                    37.24243745803833,
                    36.15166078567505,
                    7.200629940032959,
                    7.0415583419799805,
                    44.74152708053589,
                    41.46919706344604,
                    42.92356595993042,
                    14.81334213256836,
                    32.311217918396,
                    7.564222164154053,
                    16.154088459014893,
                    40.99198226928711,
                    30.87957353591919,
                    45.26419090270996,
                    41.15105386734009,
                    6.609792575836181,
                    6.109853267669678,
                    17.222140617370606,
                    8.177784042358399,
                    42.241830539703365,
                    44.0143426322937,
                    6.314373893737793,
                    44.33248582839966,
                    6.814313201904297,
                    44.28703680038452,
                    17.926600551605226,
                    11.47283857345581,
                    14.81334213256836,
                    16.10863943099976,
                    16.10863943099976,
                    43.5825768661499,
                    45.87775278091431,
                    12.17729850769043,
                    35.81079307556152,
                    45.718681182861324,
                    30.356909713745118,
                    9.518530368804932,
                    9.518530368804932,
                    8.01871244430542,
                    47.24122362136841,
                    45.90047729492188,
                    27.970835742950438,
                    8.814070434570311,
                    30.288736171722412,
                    39.0603985786438,
                    8.268682098388672,
                    47.24122362136841,
                    13.15445261001587,
                    10.472959957122804,
                    49.58184856414795,
                    6.791588687896729,
                    8.677723350524902,
                    46.332243061065675,
                    6.927935771942138,
                    39.969379138946536,
                    26.198323650360106,
                    9.064040088653565,
                    24.06221933364868,
                    6.791588687896729,
                    7.47332410812378,
                    44.40065937042237,
                    59.876053409576414,
                    51.5588812828064,
                    9.064040088653565,
                    9.24583620071411,
                    7.246078968048096,
                    15.995016860961913,
                    28.65257116317749,
                    13.608942890167237,
                    12.58633975982666,
                    53.14959726333618,
                    52.240616703033446,
                    6.564343547821045,
                    29.970592975616455,
                    43.1508111000061,
                    8.01871244430542,
                    17.699355411529538,
                    6.541619033813476,
                    6.337098407745361,
                    6.337098407745361,
                    9.109489116668701,
                    6.837037715911865,
                    12.245472049713136,
                    47.695713901519774,
                    7.88236536026001,
                    25.1984450340271,
                    48.74104154586792,
                    10.177541275024414,
                    37.015192317962644,
                    27.94811122894287,
                    6.677966117858887,
                    36.78794717788696,
                    7.018833827972412,
                    27.243651294708254,
                    46.51403917312622,
                    73.8289050102234,
                    9.291285228729247,
                    29.402480125427246,
                    16.154088459014893,
                    8.882243976593017,
                    17.60845735549927,
                    42.94629047393799,
                    17.063069019317627,
                    46.559488201141356,
                    40.083001708984376,
                    43.37805624008178,
                    44.08251617431641,
                    14.290678310394286,
                    33.12930042266846,
                    12.222747535705565,
                    21.971564044952395,
                    22.176084671020508,
                    11.7682572555542
                  ],
                  "yaxis": "y2"
                },
                {
                  "hovertemplate": "x=%{x}<br>y=%{y}<extra></extra>",
                  "legendgroup": "",
                  "line": {
                    "color": "#ff0000",
                    "dash": "solid",
                    "width": 3
                  },
                  "marker": {
                    "symbol": "circle"
                  },
                  "mode": "lines",
                  "name": "",
                  "orientation": "v",
                  "showlegend": false,
                  "type": "scatter",
                  "x": [
                    0,
                    1,
                    2,
                    3,
                    4,
                    5,
                    6,
                    7,
                    8,
                    9,
                    10,
                    11,
                    12,
                    13,
                    14,
                    15,
                    16,
                    17,
                    18,
                    19
                  ],
                  "xaxis": "x",
                  "y": [
                    16.911270141601562,
                    10.164351463317871,
                    5.099634647369385,
                    4.196819305419922,
                    4.045751094818115,
                    3.9271445274353027,
                    3.844839096069336,
                    3.794402837753296,
                    3.7675933837890625,
                    3.75500750541687,
                    3.749530792236328,
                    3.7477879524230957,
                    3.746551990509033,
                    3.746098756790161,
                    3.7459311485290527,
                    3.7459568977355957,
                    3.74592924118042,
                    3.7452428340911865,
                    3.7456607818603516,
                    3.7453017234802246
                  ],
                  "yaxis": "y"
                }
              ],
              "layout": {
                "annotations": [
                  {
                    "font": {
                      "size": 16
                    },
                    "showarrow": false,
                    "text": "Loss Curve",
                    "x": 0.225,
                    "xanchor": "center",
                    "xref": "paper",
                    "y": 1,
                    "yanchor": "bottom",
                    "yref": "paper"
                  },
                  {
                    "font": {
                      "size": 16
                    },
                    "showarrow": false,
                    "text": "Model Plot",
                    "x": 0.775,
                    "xanchor": "center",
                    "xref": "paper",
                    "y": 1,
                    "yanchor": "bottom",
                    "yref": "paper"
                  }
                ],
                "template": {
                  "data": {
                    "bar": [
                      {
                        "error_x": {
                          "color": "#2a3f5f"
                        },
                        "error_y": {
                          "color": "#2a3f5f"
                        },
                        "marker": {
                          "line": {
                            "color": "#E5ECF6",
                            "width": 0.5
                          },
                          "pattern": {
                            "fillmode": "overlay",
                            "size": 10,
                            "solidity": 0.2
                          }
                        },
                        "type": "bar"
                      }
                    ],
                    "barpolar": [
                      {
                        "marker": {
                          "line": {
                            "color": "#E5ECF6",
                            "width": 0.5
                          },
                          "pattern": {
                            "fillmode": "overlay",
                            "size": 10,
                            "solidity": 0.2
                          }
                        },
                        "type": "barpolar"
                      }
                    ],
                    "carpet": [
                      {
                        "aaxis": {
                          "endlinecolor": "#2a3f5f",
                          "gridcolor": "white",
                          "linecolor": "white",
                          "minorgridcolor": "white",
                          "startlinecolor": "#2a3f5f"
                        },
                        "baxis": {
                          "endlinecolor": "#2a3f5f",
                          "gridcolor": "white",
                          "linecolor": "white",
                          "minorgridcolor": "white",
                          "startlinecolor": "#2a3f5f"
                        },
                        "type": "carpet"
                      }
                    ],
                    "choropleth": [
                      {
                        "colorbar": {
                          "outlinewidth": 0,
                          "ticks": ""
                        },
                        "type": "choropleth"
                      }
                    ],
                    "contour": [
                      {
                        "colorbar": {
                          "outlinewidth": 0,
                          "ticks": ""
                        },
                        "colorscale": [
                          [
                            0,
                            "#0d0887"
                          ],
                          [
                            0.1111111111111111,
                            "#46039f"
                          ],
                          [
                            0.2222222222222222,
                            "#7201a8"
                          ],
                          [
                            0.3333333333333333,
                            "#9c179e"
                          ],
                          [
                            0.4444444444444444,
                            "#bd3786"
                          ],
                          [
                            0.5555555555555556,
                            "#d8576b"
                          ],
                          [
                            0.6666666666666666,
                            "#ed7953"
                          ],
                          [
                            0.7777777777777778,
                            "#fb9f3a"
                          ],
                          [
                            0.8888888888888888,
                            "#fdca26"
                          ],
                          [
                            1,
                            "#f0f921"
                          ]
                        ],
                        "type": "contour"
                      }
                    ],
                    "contourcarpet": [
                      {
                        "colorbar": {
                          "outlinewidth": 0,
                          "ticks": ""
                        },
                        "type": "contourcarpet"
                      }
                    ],
                    "heatmap": [
                      {
                        "colorbar": {
                          "outlinewidth": 0,
                          "ticks": ""
                        },
                        "colorscale": [
                          [
                            0,
                            "#0d0887"
                          ],
                          [
                            0.1111111111111111,
                            "#46039f"
                          ],
                          [
                            0.2222222222222222,
                            "#7201a8"
                          ],
                          [
                            0.3333333333333333,
                            "#9c179e"
                          ],
                          [
                            0.4444444444444444,
                            "#bd3786"
                          ],
                          [
                            0.5555555555555556,
                            "#d8576b"
                          ],
                          [
                            0.6666666666666666,
                            "#ed7953"
                          ],
                          [
                            0.7777777777777778,
                            "#fb9f3a"
                          ],
                          [
                            0.8888888888888888,
                            "#fdca26"
                          ],
                          [
                            1,
                            "#f0f921"
                          ]
                        ],
                        "type": "heatmap"
                      }
                    ],
                    "heatmapgl": [
                      {
                        "colorbar": {
                          "outlinewidth": 0,
                          "ticks": ""
                        },
                        "colorscale": [
                          [
                            0,
                            "#0d0887"
                          ],
                          [
                            0.1111111111111111,
                            "#46039f"
                          ],
                          [
                            0.2222222222222222,
                            "#7201a8"
                          ],
                          [
                            0.3333333333333333,
                            "#9c179e"
                          ],
                          [
                            0.4444444444444444,
                            "#bd3786"
                          ],
                          [
                            0.5555555555555556,
                            "#d8576b"
                          ],
                          [
                            0.6666666666666666,
                            "#ed7953"
                          ],
                          [
                            0.7777777777777778,
                            "#fb9f3a"
                          ],
                          [
                            0.8888888888888888,
                            "#fdca26"
                          ],
                          [
                            1,
                            "#f0f921"
                          ]
                        ],
                        "type": "heatmapgl"
                      }
                    ],
                    "histogram": [
                      {
                        "marker": {
                          "pattern": {
                            "fillmode": "overlay",
                            "size": 10,
                            "solidity": 0.2
                          }
                        },
                        "type": "histogram"
                      }
                    ],
                    "histogram2d": [
                      {
                        "colorbar": {
                          "outlinewidth": 0,
                          "ticks": ""
                        },
                        "colorscale": [
                          [
                            0,
                            "#0d0887"
                          ],
                          [
                            0.1111111111111111,
                            "#46039f"
                          ],
                          [
                            0.2222222222222222,
                            "#7201a8"
                          ],
                          [
                            0.3333333333333333,
                            "#9c179e"
                          ],
                          [
                            0.4444444444444444,
                            "#bd3786"
                          ],
                          [
                            0.5555555555555556,
                            "#d8576b"
                          ],
                          [
                            0.6666666666666666,
                            "#ed7953"
                          ],
                          [
                            0.7777777777777778,
                            "#fb9f3a"
                          ],
                          [
                            0.8888888888888888,
                            "#fdca26"
                          ],
                          [
                            1,
                            "#f0f921"
                          ]
                        ],
                        "type": "histogram2d"
                      }
                    ],
                    "histogram2dcontour": [
                      {
                        "colorbar": {
                          "outlinewidth": 0,
                          "ticks": ""
                        },
                        "colorscale": [
                          [
                            0,
                            "#0d0887"
                          ],
                          [
                            0.1111111111111111,
                            "#46039f"
                          ],
                          [
                            0.2222222222222222,
                            "#7201a8"
                          ],
                          [
                            0.3333333333333333,
                            "#9c179e"
                          ],
                          [
                            0.4444444444444444,
                            "#bd3786"
                          ],
                          [
                            0.5555555555555556,
                            "#d8576b"
                          ],
                          [
                            0.6666666666666666,
                            "#ed7953"
                          ],
                          [
                            0.7777777777777778,
                            "#fb9f3a"
                          ],
                          [
                            0.8888888888888888,
                            "#fdca26"
                          ],
                          [
                            1,
                            "#f0f921"
                          ]
                        ],
                        "type": "histogram2dcontour"
                      }
                    ],
                    "mesh3d": [
                      {
                        "colorbar": {
                          "outlinewidth": 0,
                          "ticks": ""
                        },
                        "type": "mesh3d"
                      }
                    ],
                    "parcoords": [
                      {
                        "line": {
                          "colorbar": {
                            "outlinewidth": 0,
                            "ticks": ""
                          }
                        },
                        "type": "parcoords"
                      }
                    ],
                    "pie": [
                      {
                        "automargin": true,
                        "type": "pie"
                      }
                    ],
                    "scatter": [
                      {
                        "fillpattern": {
                          "fillmode": "overlay",
                          "size": 10,
                          "solidity": 0.2
                        },
                        "type": "scatter"
                      }
                    ],
                    "scatter3d": [
                      {
                        "line": {
                          "colorbar": {
                            "outlinewidth": 0,
                            "ticks": ""
                          }
                        },
                        "marker": {
                          "colorbar": {
                            "outlinewidth": 0,
                            "ticks": ""
                          }
                        },
                        "type": "scatter3d"
                      }
                    ],
                    "scattercarpet": [
                      {
                        "marker": {
                          "colorbar": {
                            "outlinewidth": 0,
                            "ticks": ""
                          }
                        },
                        "type": "scattercarpet"
                      }
                    ],
                    "scattergeo": [
                      {
                        "marker": {
                          "colorbar": {
                            "outlinewidth": 0,
                            "ticks": ""
                          }
                        },
                        "type": "scattergeo"
                      }
                    ],
                    "scattergl": [
                      {
                        "marker": {
                          "colorbar": {
                            "outlinewidth": 0,
                            "ticks": ""
                          }
                        },
                        "type": "scattergl"
                      }
                    ],
                    "scattermapbox": [
                      {
                        "marker": {
                          "colorbar": {
                            "outlinewidth": 0,
                            "ticks": ""
                          }
                        },
                        "type": "scattermapbox"
                      }
                    ],
                    "scatterpolar": [
                      {
                        "marker": {
                          "colorbar": {
                            "outlinewidth": 0,
                            "ticks": ""
                          }
                        },
                        "type": "scatterpolar"
                      }
                    ],
                    "scatterpolargl": [
                      {
                        "marker": {
                          "colorbar": {
                            "outlinewidth": 0,
                            "ticks": ""
                          }
                        },
                        "type": "scatterpolargl"
                      }
                    ],
                    "scatterternary": [
                      {
                        "marker": {
                          "colorbar": {
                            "outlinewidth": 0,
                            "ticks": ""
                          }
                        },
                        "type": "scatterternary"
                      }
                    ],
                    "surface": [
                      {
                        "colorbar": {
                          "outlinewidth": 0,
                          "ticks": ""
                        },
                        "colorscale": [
                          [
                            0,
                            "#0d0887"
                          ],
                          [
                            0.1111111111111111,
                            "#46039f"
                          ],
                          [
                            0.2222222222222222,
                            "#7201a8"
                          ],
                          [
                            0.3333333333333333,
                            "#9c179e"
                          ],
                          [
                            0.4444444444444444,
                            "#bd3786"
                          ],
                          [
                            0.5555555555555556,
                            "#d8576b"
                          ],
                          [
                            0.6666666666666666,
                            "#ed7953"
                          ],
                          [
                            0.7777777777777778,
                            "#fb9f3a"
                          ],
                          [
                            0.8888888888888888,
                            "#fdca26"
                          ],
                          [
                            1,
                            "#f0f921"
                          ]
                        ],
                        "type": "surface"
                      }
                    ],
                    "table": [
                      {
                        "cells": {
                          "fill": {
                            "color": "#EBF0F8"
                          },
                          "line": {
                            "color": "white"
                          }
                        },
                        "header": {
                          "fill": {
                            "color": "#C8D4E3"
                          },
                          "line": {
                            "color": "white"
                          }
                        },
                        "type": "table"
                      }
                    ]
                  },
                  "layout": {
                    "annotationdefaults": {
                      "arrowcolor": "#2a3f5f",
                      "arrowhead": 0,
                      "arrowwidth": 1
                    },
                    "autotypenumbers": "strict",
                    "coloraxis": {
                      "colorbar": {
                        "outlinewidth": 0,
                        "ticks": ""
                      }
                    },
                    "colorscale": {
                      "diverging": [
                        [
                          0,
                          "#8e0152"
                        ],
                        [
                          0.1,
                          "#c51b7d"
                        ],
                        [
                          0.2,
                          "#de77ae"
                        ],
                        [
                          0.3,
                          "#f1b6da"
                        ],
                        [
                          0.4,
                          "#fde0ef"
                        ],
                        [
                          0.5,
                          "#f7f7f7"
                        ],
                        [
                          0.6,
                          "#e6f5d0"
                        ],
                        [
                          0.7,
                          "#b8e186"
                        ],
                        [
                          0.8,
                          "#7fbc41"
                        ],
                        [
                          0.9,
                          "#4d9221"
                        ],
                        [
                          1,
                          "#276419"
                        ]
                      ],
                      "sequential": [
                        [
                          0,
                          "#0d0887"
                        ],
                        [
                          0.1111111111111111,
                          "#46039f"
                        ],
                        [
                          0.2222222222222222,
                          "#7201a8"
                        ],
                        [
                          0.3333333333333333,
                          "#9c179e"
                        ],
                        [
                          0.4444444444444444,
                          "#bd3786"
                        ],
                        [
                          0.5555555555555556,
                          "#d8576b"
                        ],
                        [
                          0.6666666666666666,
                          "#ed7953"
                        ],
                        [
                          0.7777777777777778,
                          "#fb9f3a"
                        ],
                        [
                          0.8888888888888888,
                          "#fdca26"
                        ],
                        [
                          1,
                          "#f0f921"
                        ]
                      ],
                      "sequentialminus": [
                        [
                          0,
                          "#0d0887"
                        ],
                        [
                          0.1111111111111111,
                          "#46039f"
                        ],
                        [
                          0.2222222222222222,
                          "#7201a8"
                        ],
                        [
                          0.3333333333333333,
                          "#9c179e"
                        ],
                        [
                          0.4444444444444444,
                          "#bd3786"
                        ],
                        [
                          0.5555555555555556,
                          "#d8576b"
                        ],
                        [
                          0.6666666666666666,
                          "#ed7953"
                        ],
                        [
                          0.7777777777777778,
                          "#fb9f3a"
                        ],
                        [
                          0.8888888888888888,
                          "#fdca26"
                        ],
                        [
                          1,
                          "#f0f921"
                        ]
                      ]
                    },
                    "colorway": [
                      "#636efa",
                      "#EF553B",
                      "#00cc96",
                      "#ab63fa",
                      "#FFA15A",
                      "#19d3f3",
                      "#FF6692",
                      "#B6E880",
                      "#FF97FF",
                      "#FECB52"
                    ],
                    "font": {
                      "color": "#2a3f5f"
                    },
                    "geo": {
                      "bgcolor": "white",
                      "lakecolor": "white",
                      "landcolor": "#E5ECF6",
                      "showlakes": true,
                      "showland": true,
                      "subunitcolor": "white"
                    },
                    "hoverlabel": {
                      "align": "left"
                    },
                    "hovermode": "closest",
                    "mapbox": {
                      "style": "light"
                    },
                    "paper_bgcolor": "white",
                    "plot_bgcolor": "#E5ECF6",
                    "polar": {
                      "angularaxis": {
                        "gridcolor": "white",
                        "linecolor": "white",
                        "ticks": ""
                      },
                      "bgcolor": "#E5ECF6",
                      "radialaxis": {
                        "gridcolor": "white",
                        "linecolor": "white",
                        "ticks": ""
                      }
                    },
                    "scene": {
                      "xaxis": {
                        "backgroundcolor": "#E5ECF6",
                        "gridcolor": "white",
                        "gridwidth": 2,
                        "linecolor": "white",
                        "showbackground": true,
                        "ticks": "",
                        "zerolinecolor": "white"
                      },
                      "yaxis": {
                        "backgroundcolor": "#E5ECF6",
                        "gridcolor": "white",
                        "gridwidth": 2,
                        "linecolor": "white",
                        "showbackground": true,
                        "ticks": "",
                        "zerolinecolor": "white"
                      },
                      "zaxis": {
                        "backgroundcolor": "#E5ECF6",
                        "gridcolor": "white",
                        "gridwidth": 2,
                        "linecolor": "white",
                        "showbackground": true,
                        "ticks": "",
                        "zerolinecolor": "white"
                      }
                    },
                    "shapedefaults": {
                      "line": {
                        "color": "#2a3f5f"
                      }
                    },
                    "ternary": {
                      "aaxis": {
                        "gridcolor": "white",
                        "linecolor": "white",
                        "ticks": ""
                      },
                      "baxis": {
                        "gridcolor": "white",
                        "linecolor": "white",
                        "ticks": ""
                      },
                      "bgcolor": "#E5ECF6",
                      "caxis": {
                        "gridcolor": "white",
                        "linecolor": "white",
                        "ticks": ""
                      }
                    },
                    "title": {
                      "x": 0.05
                    },
                    "xaxis": {
                      "automargin": true,
                      "gridcolor": "white",
                      "linecolor": "white",
                      "ticks": "",
                      "title": {
                        "standoff": 15
                      },
                      "zerolinecolor": "white",
                      "zerolinewidth": 2
                    },
                    "yaxis": {
                      "automargin": true,
                      "gridcolor": "white",
                      "linecolor": "white",
                      "ticks": "",
                      "title": {
                        "standoff": 15
                      },
                      "zerolinecolor": "white",
                      "zerolinewidth": 2
                    }
                  }
                },
                "xaxis": {
                  "anchor": "y",
                  "domain": [
                    0,
                    0.45
                  ],
                  "title": {
                    "text": "Epoch"
                  }
                },
                "xaxis2": {
                  "anchor": "y2",
                  "domain": [
                    0.55,
                    1
                  ],
                  "title": {
                    "text": "TRIP_MILES"
                  }
                },
                "yaxis": {
                  "anchor": "x",
                  "domain": [
                    0,
                    1
                  ],
                  "range": [
                    2.9961942672729496,
                    16.911270141601562
                  ],
                  "title": {
                    "text": "Root Mean Squared Error"
                  }
                },
                "yaxis2": {
                  "anchor": "x2",
                  "domain": [
                    0,
                    1
                  ],
                  "title": {
                    "text": "FARE"
                  }
                }
              }
            }
          },
          "metadata": {},
          "output_type": "display_data"
        }
      ],
      "source": [
        "#@title Code - Experiment 2\n",
        "\n",
        "# The following variables are the hyperparameters.\n",
        "# TODO - Adjust these hyperparameters to see how they impact a training run.\n",
        "learning_rate = 0.001\n",
        "epochs = 20\n",
        "batch_size = 50\n",
        "\n",
        "# Specify the feature and the label.\n",
        "features = ['TRIP_MILES']\n",
        "label = 'FARE'\n",
        "\n",
        "model_1 = run_experiment(training_df, features, label, learning_rate, epochs, batch_size)"
      ]
    },
    {
      "cell_type": "code",
      "execution_count": 49,
      "metadata": {
        "cellView": "form",
        "id": "Od7vJJpHiHYB"
      },
      "outputs": [
        {
          "name": "stdout",
          "output_type": "stream",
          "text": [
            "\n",
            "When the learning rate is too high, the loss curve bounces around and does not\n",
            "appear to be moving towards convergence with each iteration. Also, notice that\n",
            "the predicted model does not fit the data very well. With a learning rate that\n",
            "is too high, it is unlikely that you will be able to train a model with good\n",
            "results.\n",
            "\n",
            "\n",
            "When the learning rate is too small, it may take longer for the loss curve to\n",
            "converge. With a small learning rate the loss curve decreases slowly, but does\n",
            "not show a dramatic drop or leveling off. With a small learning rate you could\n",
            "increase the number of epochs so that your model will eventually converge, but\n",
            "it will take longer.\n",
            "\n",
            "\n",
            "Increasing the batch size makes each epoch run faster, but as with the smaller\n",
            "learning rate, the model does not converge with just 20 epochs. If you have\n",
            "time, try increasing the number of epochs and eventually you should see the\n",
            "model converge.\n",
            "\n"
          ]
        }
      ],
      "source": [
        "#@title Double-click to view answers for hyperparameter experiments\n",
        "\n",
        "# How did raising the learning rate impact your ability to train the model?\n",
        "# -----------------------------------------------------------------------------\n",
        "answer = \"\"\"\n",
        "When the learning rate is too high, the loss curve bounces around and does not\n",
        "appear to be moving towards convergence with each iteration. Also, notice that\n",
        "the predicted model does not fit the data very well. With a learning rate that\n",
        "is too high, it is unlikely that you will be able to train a model with good\n",
        "results.\n",
        "\"\"\"\n",
        "print(answer)\n",
        "\n",
        "# How did lowering the learning rate impact your ability to train the model?\n",
        "# -----------------------------------------------------------------------------\n",
        "answer = '''\n",
        "When the learning rate is too small, it may take longer for the loss curve to\n",
        "converge. With a small learning rate the loss curve decreases slowly, but does\n",
        "not show a dramatic drop or leveling off. With a small learning rate you could\n",
        "increase the number of epochs so that your model will eventually converge, but\n",
        "it will take longer.\n",
        "'''\n",
        "print(answer)\n",
        "\n",
        "# Did changing the batch size effect your training results?\n",
        "# -----------------------------------------------------------------------------\n",
        "answer = '''\n",
        "Increasing the batch size makes each epoch run faster, but as with the smaller\n",
        "learning rate, the model does not converge with just 20 epochs. If you have\n",
        "time, try increasing the number of epochs and eventually you should see the\n",
        "model converge.\n",
        "'''\n",
        "print(answer)"
      ]
    },
    {
      "cell_type": "markdown",
      "metadata": {
        "id": "o27u0JRj_gJr"
      },
      "source": [
        "## Train a model with two features\n",
        "\n",
        "The model you trained with the feature ``TOTAL_MILES`` demonstrates fairly strong predictive power, but is it possible to do better? In this step, try training the model with two features, ``TRIP_MILES`` and ``TRIP_MINUTES``, to see if you can improve the model. You may recall that the original dataset does not include a feature ``TRIP_MINUTES``, but this feature can be easily derived from ``TRIP_SECONDS`` as shown in the code below.*\n",
        "\n",
        "**Instructions**\n",
        "1. Review the code in **Experiment 3** code cell.\n",
        "1. Run the **Experiment 3** code cell.\n",
        "1. Review the output from the training run and answer these questions:\n",
        "  * Does the model with two features produce better results than one using a single feature?\n",
        "  * Does it make a difference if you use ``TRIP_SECONDS`` instead of ``TRIP_MINUTES``?\n",
        "  * How well do you think the model comes to the ground truth fare calculation for Chicago Taxi Trips?\n",
        "\n",
        "\n",
        "Notice that the scatter plot of the features vs. the label is a three dimensional (3-D) plot. This representation allows you to visualize both features and the label all together. The two features (TRIP_MILES and TRIP_MINUTES) are on the x and y axis, and the label (FARE) is on the z axis. The plot shows individual examples in the dataset as circles, and the model as a surface (plane). With this 3-D model, if the trained model is good you would expect most of the examples to land on the plane surface. The 3-D plot is interactive so you can explore the data further by clicking or dragging the plot.\n"
      ]
    },
    {
      "cell_type": "code",
      "execution_count": 50,
      "metadata": {
        "cellView": "form",
        "id": "Mg3gUYOoBAtd"
      },
      "outputs": [
        {
          "name": "stdout",
          "output_type": "stream",
          "text": [
            "INFO: starting training experiment with features=['TRIP_MILES', 'TRIP_MINUTES'] and label=FARE\n",
            "\n",
            "Epoch 1/20\n"
          ]
        },
        {
          "name": "stderr",
          "output_type": "stream",
          "text": [
            "C:\\Users\\pobit\\AppData\\Local\\Temp\\ipykernel_42408\\1351217918.py:8: SettingWithCopyWarning:\n",
            "\n",
            "\n",
            "A value is trying to be set on a copy of a slice from a DataFrame.\n",
            "Try using .loc[row_indexer,col_indexer] = value instead\n",
            "\n",
            "See the caveats in the documentation: https://pandas.pydata.org/pandas-docs/stable/user_guide/indexing.html#returning-a-view-versus-a-copy\n",
            "\n"
          ]
        },
        {
          "name": "stdout",
          "output_type": "stream",
          "text": [
            "\u001b[1m634/634\u001b[0m \u001b[32m━━━━━━━━━━━━━━━━━━━━\u001b[0m\u001b[37m\u001b[0m \u001b[1m3s\u001b[0m 3ms/step - loss: 383.4582 - root_mean_squared_error: 19.3823\n",
            "Epoch 2/20\n",
            "\u001b[1m634/634\u001b[0m \u001b[32m━━━━━━━━━━━━━━━━━━━━\u001b[0m\u001b[37m\u001b[0m \u001b[1m2s\u001b[0m 3ms/step - loss: 35.2687 - root_mean_squared_error: 5.9359\n",
            "Epoch 3/20\n",
            "\u001b[1m634/634\u001b[0m \u001b[32m━━━━━━━━━━━━━━━━━━━━\u001b[0m\u001b[37m\u001b[0m \u001b[1m1s\u001b[0m 2ms/step - loss: 21.7226 - root_mean_squared_error: 4.6525\n",
            "Epoch 4/20\n",
            "\u001b[1m634/634\u001b[0m \u001b[32m━━━━━━━━━━━━━━━━━━━━\u001b[0m\u001b[37m\u001b[0m \u001b[1m1s\u001b[0m 2ms/step - loss: 16.1532 - root_mean_squared_error: 4.0138\n",
            "Epoch 5/20\n",
            "\u001b[1m634/634\u001b[0m \u001b[32m━━━━━━━━━━━━━━━━━━━━\u001b[0m\u001b[37m\u001b[0m \u001b[1m1s\u001b[0m 2ms/step - loss: 14.2553 - root_mean_squared_error: 3.7704\n",
            "Epoch 6/20\n",
            "\u001b[1m634/634\u001b[0m \u001b[32m━━━━━━━━━━━━━━━━━━━━\u001b[0m\u001b[37m\u001b[0m \u001b[1m1s\u001b[0m 2ms/step - loss: 11.8795 - root_mean_squared_error: 3.4423\n",
            "Epoch 7/20\n",
            "\u001b[1m634/634\u001b[0m \u001b[32m━━━━━━━━━━━━━━━━━━━━\u001b[0m\u001b[37m\u001b[0m \u001b[1m1s\u001b[0m 2ms/step - loss: 11.1990 - root_mean_squared_error: 3.3344\n",
            "Epoch 8/20\n",
            "\u001b[1m634/634\u001b[0m \u001b[32m━━━━━━━━━━━━━━━━━━━━\u001b[0m\u001b[37m\u001b[0m \u001b[1m1s\u001b[0m 2ms/step - loss: 12.1196 - root_mean_squared_error: 3.4676\n",
            "Epoch 9/20\n",
            "\u001b[1m634/634\u001b[0m \u001b[32m━━━━━━━━━━━━━━━━━━━━\u001b[0m\u001b[37m\u001b[0m \u001b[1m1s\u001b[0m 2ms/step - loss: 12.4729 - root_mean_squared_error: 3.5280\n",
            "Epoch 10/20\n",
            "\u001b[1m634/634\u001b[0m \u001b[32m━━━━━━━━━━━━━━━━━━━━\u001b[0m\u001b[37m\u001b[0m \u001b[1m1s\u001b[0m 2ms/step - loss: 12.5915 - root_mean_squared_error: 3.5436\n",
            "Epoch 11/20\n",
            "\u001b[1m634/634\u001b[0m \u001b[32m━━━━━━━━━━━━━━━━━━━━\u001b[0m\u001b[37m\u001b[0m \u001b[1m1s\u001b[0m 1ms/step - loss: 10.7361 - root_mean_squared_error: 3.2697\n",
            "Epoch 12/20\n",
            "\u001b[1m634/634\u001b[0m \u001b[32m━━━━━━━━━━━━━━━━━━━━\u001b[0m\u001b[37m\u001b[0m \u001b[1m1s\u001b[0m 1ms/step - loss: 12.4711 - root_mean_squared_error: 3.5284\n",
            "Epoch 13/20\n",
            "\u001b[1m634/634\u001b[0m \u001b[32m━━━━━━━━━━━━━━━━━━━━\u001b[0m\u001b[37m\u001b[0m \u001b[1m1s\u001b[0m 2ms/step - loss: 12.5716 - root_mean_squared_error: 3.5348\n",
            "Epoch 14/20\n",
            "\u001b[1m634/634\u001b[0m \u001b[32m━━━━━━━━━━━━━━━━━━━━\u001b[0m\u001b[37m\u001b[0m \u001b[1m1s\u001b[0m 2ms/step - loss: 11.0558 - root_mean_squared_error: 3.3199\n",
            "Epoch 15/20\n",
            "\u001b[1m634/634\u001b[0m \u001b[32m━━━━━━━━━━━━━━━━━━━━\u001b[0m\u001b[37m\u001b[0m \u001b[1m1s\u001b[0m 1ms/step - loss: 13.1881 - root_mean_squared_error: 3.6210\n",
            "Epoch 16/20\n",
            "\u001b[1m634/634\u001b[0m \u001b[32m━━━━━━━━━━━━━━━━━━━━\u001b[0m\u001b[37m\u001b[0m \u001b[1m1s\u001b[0m 2ms/step - loss: 12.9238 - root_mean_squared_error: 3.5884\n",
            "Epoch 17/20\n",
            "\u001b[1m634/634\u001b[0m \u001b[32m━━━━━━━━━━━━━━━━━━━━\u001b[0m\u001b[37m\u001b[0m \u001b[1m2s\u001b[0m 3ms/step - loss: 12.7337 - root_mean_squared_error: 3.5650\n",
            "Epoch 18/20\n",
            "\u001b[1m634/634\u001b[0m \u001b[32m━━━━━━━━━━━━━━━━━━━━\u001b[0m\u001b[37m\u001b[0m \u001b[1m1s\u001b[0m 2ms/step - loss: 12.2572 - root_mean_squared_error: 3.4973\n",
            "Epoch 19/20\n",
            "\u001b[1m634/634\u001b[0m \u001b[32m━━━━━━━━━━━━━━━━━━━━\u001b[0m\u001b[37m\u001b[0m \u001b[1m1s\u001b[0m 2ms/step - loss: 12.4296 - root_mean_squared_error: 3.5215\n",
            "Epoch 20/20\n",
            "\u001b[1m634/634\u001b[0m \u001b[32m━━━━━━━━━━━━━━━━━━━━\u001b[0m\u001b[37m\u001b[0m \u001b[1m1s\u001b[0m 1ms/step - loss: 12.0309 - root_mean_squared_error: 3.4645\n",
            "\n",
            "SUCCESS: training experiment complete\n",
            "\n",
            "--------------------------------------------------------------------------------\n",
            "|                                  MODEL INFO                                  |\n",
            "--------------------------------------------------------------------------------\n",
            "Weight for feature[TRIP_MILES]: 2.035\n",
            "Weight for feature[TRIP_MINUTES]: 0.147\n",
            "Bias: 3.830\n",
            "\n",
            "FARE = 2.035 * TRIP_MILES + 0.147 * TRIP_MINUTES + 3.830\n",
            "\n"
          ]
        },
        {
          "data": {
            "application/vnd.plotly.v1+json": {
              "config": {
                "plotlyServerURL": "https://plot.ly"
              },
              "data": [
                {
                  "hovertemplate": "TRIP_MILES=%{x}<br>TRIP_MINUTES=%{y}<br>FARE=%{z}<extra></extra>",
                  "legendgroup": "",
                  "marker": {
                    "color": "#636efa",
                    "symbol": "circle"
                  },
                  "mode": "markers",
                  "name": "",
                  "scene": "scene",
                  "showlegend": false,
                  "type": "scatter3d",
                  "x": [
                    1.56,
                    19.34,
                    1.03,
                    5.17,
                    5.59,
                    5.65,
                    0.7,
                    10.8,
                    16.67,
                    17.77,
                    1.85,
                    1.08,
                    16.9,
                    8.68,
                    1.98,
                    1.24,
                    5.8,
                    0.6,
                    9.57,
                    10.14,
                    5.1,
                    6.79,
                    1.1,
                    1.42,
                    10.75,
                    0.52,
                    1.11,
                    5.83,
                    0.5,
                    17.8,
                    1.23,
                    4.9,
                    17.58,
                    11.8,
                    1.16,
                    3.68,
                    14,
                    13.19,
                    0.9,
                    13.9,
                    17.93,
                    1.07,
                    10.85,
                    11.7,
                    17.8,
                    12.54,
                    8.06,
                    0.96,
                    1.06,
                    17.3,
                    2.7,
                    8.15,
                    0.7,
                    10.8,
                    0.9,
                    14.82,
                    1.22,
                    5.23,
                    3.19,
                    1.7,
                    16.6,
                    12.43,
                    4.19,
                    1.11,
                    6.49,
                    4.9,
                    17.72,
                    2.82,
                    20.1,
                    11.06,
                    16.88,
                    6.18,
                    18.09,
                    5.17,
                    4.26,
                    0.95,
                    6.48,
                    4.15,
                    2.15,
                    18.98,
                    27.07,
                    9.82,
                    8.5,
                    4.7,
                    20.21,
                    2.64,
                    13.26,
                    0.74,
                    10.62,
                    0.93,
                    18.78,
                    15.05,
                    1.88,
                    10.56,
                    10.88,
                    3.46,
                    7.49,
                    9.1,
                    1.54,
                    3.71,
                    6.05,
                    18.83,
                    16.5,
                    8.67,
                    1.05,
                    1.54,
                    3.71,
                    20,
                    0.71,
                    17.5,
                    3.08,
                    1.1,
                    10.75,
                    17.4,
                    16.8,
                    0.5,
                    1.17,
                    0.8,
                    5.65,
                    6.7,
                    41.7,
                    13.5,
                    3.59,
                    1,
                    18.64,
                    15.47,
                    0.97,
                    2.8,
                    0.84,
                    2.25,
                    5.22,
                    3.5,
                    4.8,
                    1.5,
                    13.77,
                    5.61,
                    10.14,
                    23.75,
                    18.53,
                    8.62,
                    4.1,
                    0.94,
                    2.39,
                    3.43,
                    18.27,
                    0.98,
                    0.9,
                    13.14,
                    0.9,
                    2.13,
                    0.59,
                    3.19,
                    14.54,
                    13.08,
                    7,
                    23.6,
                    17.4,
                    17.2,
                    7.62,
                    5.47,
                    1.14,
                    14.77,
                    15.5,
                    12.3,
                    0.52,
                    15.07,
                    0.86,
                    19,
                    8.67,
                    11.33,
                    3.46,
                    1.48,
                    18.2,
                    7.76,
                    1.31,
                    1.17,
                    18.28,
                    10.71,
                    2,
                    4.23,
                    36.75,
                    1.57,
                    8.16,
                    17.17,
                    1.14,
                    3.6,
                    17.78,
                    5.05,
                    15.4,
                    22.28,
                    18.96,
                    17.63,
                    0.58,
                    6.37,
                    3.7,
                    11.97,
                    7.21,
                    1.85,
                    0.67,
                    10.93
                  ],
                  "y": [
                    21.866666666666667,
                    48.25,
                    4.216666666666667,
                    14.933333333333334,
                    17.016666666666666,
                    16.5,
                    5,
                    17,
                    33.35,
                    29.85,
                    6.666666666666667,
                    6.55,
                    28.866666666666667,
                    38.1,
                    5.55,
                    13.233333333333333,
                    32.78333333333333,
                    5.1,
                    31.4,
                    18.133333333333333,
                    27,
                    19.466666666666665,
                    7,
                    7.55,
                    27.216666666666665,
                    2.3833333333333333,
                    5.683333333333334,
                    28.166666666666668,
                    4,
                    37.53333333333333,
                    10.116666666666667,
                    32,
                    45.35,
                    32,
                    4.883333333333334,
                    11.7,
                    35,
                    18.916666666666668,
                    5,
                    50,
                    39.85,
                    6.466666666666667,
                    28.1,
                    22,
                    35.95,
                    21.6,
                    13.766666666666667,
                    5.683333333333334,
                    6.833333333333333,
                    36,
                    14,
                    26.683333333333334,
                    5,
                    40,
                    4,
                    56.833333333333336,
                    7.666666666666667,
                    9.966666666666667,
                    18.683333333333334,
                    11.416666666666666,
                    38,
                    53.1,
                    26.45,
                    4.933333333333334,
                    45.95,
                    18.383333333333333,
                    44.35,
                    15.416666666666666,
                    68.11666666666666,
                    22.316666666666666,
                    33.35,
                    31.95,
                    33.016666666666666,
                    11.183333333333334,
                    9.4,
                    5,
                    17.383333333333333,
                    22.516666666666666,
                    17.1,
                    38.833333333333336,
                    37.21666666666667,
                    41.333333333333336,
                    27,
                    28,
                    41.65,
                    11.883333333333333,
                    23.233333333333334,
                    4.516666666666667,
                    22.466666666666665,
                    6.85,
                    34.6,
                    33.916666666666664,
                    14.283333333333333,
                    24.466666666666665,
                    28.883333333333333,
                    15.3,
                    17.133333333333333,
                    16,
                    8.866666666666667,
                    14.75,
                    14.25,
                    31.233333333333334,
                    19.733333333333334,
                    21.016666666666666,
                    6.466666666666667,
                    6.733333333333333,
                    11.766666666666667,
                    49,
                    4.133333333333334,
                    56,
                    33.05,
                    5,
                    23.866666666666667,
                    29.366666666666667,
                    37,
                    3,
                    7.366666666666666,
                    4.316666666666666,
                    12.933333333333334,
                    35,
                    86,
                    43,
                    9.216666666666667,
                    4.383333333333334,
                    30.15,
                    33.36666666666667,
                    7.1,
                    7,
                    3.75,
                    14.166666666666666,
                    19.183333333333334,
                    21,
                    22,
                    7,
                    37.416666666666664,
                    9.533333333333333,
                    20.683333333333334,
                    30.633333333333333,
                    29.65,
                    20.733333333333334,
                    20,
                    4.7,
                    13.1,
                    12.783333333333333,
                    40.5,
                    6.15,
                    5.65,
                    30.983333333333334,
                    6,
                    13.083333333333334,
                    3.9166666666666665,
                    10.266666666666667,
                    22.133333333333333,
                    39.7,
                    24.033333333333335,
                    59,
                    29,
                    45,
                    20.1,
                    77.98333333333333,
                    5.483333333333333,
                    27.933333333333334,
                    28,
                    43,
                    3.55,
                    35.45,
                    7.366666666666666,
                    28,
                    25.2,
                    52.1,
                    10.583333333333334,
                    8.483333333333333,
                    32,
                    15.3,
                    8.633333333333333,
                    6.066666666666666,
                    39.13333333333333,
                    42.3,
                    9,
                    13.25,
                    46.3,
                    12.766666666666667,
                    21.183333333333334,
                    19.816666666666666,
                    4.266666666666667,
                    17,
                    29.35,
                    22.633333333333333,
                    53,
                    53.266666666666666,
                    71.96666666666667,
                    25.566666666666666,
                    4.066666666666666,
                    12.95,
                    21.966666666666665,
                    29.683333333333334,
                    25,
                    8.633333333333333,
                    2.5,
                    24.166666666666668
                  ],
                  "z": [
                    11.75,
                    50.25,
                    5.75,
                    16.25,
                    17.5,
                    17.25,
                    5.5,
                    27.75,
                    43.25,
                    44,
                    7.75,
                    6.5,
                    42.75,
                    29,
                    8,
                    8.5,
                    20.5,
                    5.25,
                    31.1,
                    27,
                    17.5,
                    20.25,
                    6.5,
                    7.25,
                    29.75,
                    4.5,
                    6.5,
                    18.43,
                    5,
                    44.75,
                    7.75,
                    18.25,
                    42.95,
                    31,
                    9,
                    12.75,
                    36.25,
                    33.25,
                    5.75,
                    37.5,
                    45,
                    6.5,
                    30.5,
                    31,
                    44.25,
                    32,
                    22.25,
                    9,
                    6.25,
                    42.75,
                    11,
                    25.25,
                    5.5,
                    31,
                    5.5,
                    44.25,
                    9,
                    15.5,
                    12.14,
                    9,
                    42,
                    35.75,
                    14.7,
                    9,
                    24.75,
                    17,
                    44.25,
                    11.5,
                    51.25,
                    28.75,
                    41.75,
                    21.25,
                    45.25,
                    15.5,
                    13,
                    5.75,
                    19.5,
                    14,
                    11,
                    47.25,
                    65.25,
                    31,
                    24.5,
                    18.25,
                    51.75,
                    13.4,
                    34,
                    5.25,
                    28.5,
                    6.25,
                    46.5,
                    38,
                    9.5,
                    28.75,
                    30.25,
                    12.25,
                    21.25,
                    24.5,
                    7.75,
                    14.16,
                    17.75,
                    46.25,
                    40.75,
                    24,
                    6.25,
                    7.25,
                    50,
                    49.5,
                    5.25,
                    45.75,
                    16.5,
                    6.25,
                    29,
                    43.5,
                    41.75,
                    4.75,
                    6.75,
                    5.5,
                    17,
                    23,
                    102,
                    36,
                    11.5,
                    5.75,
                    46.25,
                    39.75,
                    6.75,
                    9.75,
                    5.25,
                    9.78,
                    16.75,
                    14.25,
                    16.5,
                    7.5,
                    37,
                    16.25,
                    27,
                    54.72,
                    45.75,
                    25,
                    14.75,
                    5.75,
                    10.25,
                    12.25,
                    46,
                    6,
                    6,
                    37.91,
                    6.25,
                    9,
                    5,
                    11.25,
                    36,
                    37.01,
                    20.75,
                    61.75,
                    43.25,
                    43.75,
                    22.75,
                    35.75,
                    9,
                    37.75,
                    38.75,
                    35.5,
                    4.75,
                    39.75,
                    6.5,
                    47.75,
                    24.5,
                    36.5,
                    12.25,
                    9,
                    45.25,
                    21.25,
                    7.25,
                    6.75,
                    47,
                    32.75,
                    8.25,
                    14.25,
                    87.25,
                    9.5,
                    22.5,
                    43.56,
                    6.25,
                    13,
                    44,
                    17.5,
                    40.5,
                    56.33,
                    49.5,
                    43.75,
                    5,
                    18.25,
                    12.55,
                    32.5,
                    22.5,
                    8.5,
                    5,
                    29
                  ]
                },
                {
                  "colorscale": [
                    [
                      0,
                      "#89CFF0"
                    ],
                    [
                      1,
                      "#FFDB58"
                    ]
                  ],
                  "scene": "scene",
                  "type": "surface",
                  "x": [
                    0.5199999999999999,
                    18.708202916179463,
                    41.7
                  ],
                  "y": [
                    2.3833333333333333,
                    41.80833333333333,
                    86
                  ],
                  "z": [
                    [
                      5.238726178854703,
                      48.05201544262469,
                      101.34275706410409
                    ],
                    [
                      5.238726178854703,
                      48.05201544262469,
                      101.34275706410409
                    ],
                    [
                      5.238726178854703,
                      48.05201544262469,
                      101.34275706410409
                    ]
                  ]
                },
                {
                  "hovertemplate": "x=%{x}<br>y=%{y}<extra></extra>",
                  "legendgroup": "",
                  "line": {
                    "color": "#ff0000",
                    "dash": "solid",
                    "width": 3
                  },
                  "marker": {
                    "symbol": "circle"
                  },
                  "mode": "lines",
                  "name": "",
                  "orientation": "v",
                  "showlegend": false,
                  "type": "scatter",
                  "x": [
                    0,
                    1,
                    2,
                    3,
                    4,
                    5,
                    6,
                    7,
                    8,
                    9,
                    10,
                    11,
                    12,
                    13,
                    14,
                    15,
                    16,
                    17,
                    18,
                    19
                  ],
                  "xaxis": "x",
                  "y": [
                    15.077004432678223,
                    5.657285690307617,
                    4.452958583831787,
                    3.858699083328247,
                    3.639418125152588,
                    3.5560483932495117,
                    3.51676082611084,
                    3.4966747760772705,
                    3.4857046604156494,
                    3.4816036224365234,
                    3.4795353412628174,
                    3.4788413047790527,
                    3.47821307182312,
                    3.477983236312866,
                    3.4771337509155273,
                    3.4777421951293945,
                    3.477252960205078,
                    3.4789164066314697,
                    3.478041410446167,
                    3.4775261878967285
                  ],
                  "yaxis": "y"
                }
              ],
              "layout": {
                "annotations": [
                  {
                    "font": {
                      "size": 16
                    },
                    "showarrow": false,
                    "text": "Loss Curve",
                    "x": 0.225,
                    "xanchor": "center",
                    "xref": "paper",
                    "y": 1,
                    "yanchor": "bottom",
                    "yref": "paper"
                  },
                  {
                    "font": {
                      "size": 16
                    },
                    "showarrow": false,
                    "text": "Model Plot",
                    "x": 0.775,
                    "xanchor": "center",
                    "xref": "paper",
                    "y": 1,
                    "yanchor": "bottom",
                    "yref": "paper"
                  }
                ],
                "scene": {
                  "domain": {
                    "x": [
                      0.55,
                      1
                    ],
                    "y": [
                      0,
                      1
                    ]
                  },
                  "xaxis": {
                    "title": {
                      "text": "TRIP_MILES"
                    }
                  },
                  "yaxis": {
                    "title": {
                      "text": "TRIP_MINUTES"
                    }
                  },
                  "zaxis": {
                    "title": {
                      "text": "FARE"
                    }
                  }
                },
                "template": {
                  "data": {
                    "bar": [
                      {
                        "error_x": {
                          "color": "#2a3f5f"
                        },
                        "error_y": {
                          "color": "#2a3f5f"
                        },
                        "marker": {
                          "line": {
                            "color": "#E5ECF6",
                            "width": 0.5
                          },
                          "pattern": {
                            "fillmode": "overlay",
                            "size": 10,
                            "solidity": 0.2
                          }
                        },
                        "type": "bar"
                      }
                    ],
                    "barpolar": [
                      {
                        "marker": {
                          "line": {
                            "color": "#E5ECF6",
                            "width": 0.5
                          },
                          "pattern": {
                            "fillmode": "overlay",
                            "size": 10,
                            "solidity": 0.2
                          }
                        },
                        "type": "barpolar"
                      }
                    ],
                    "carpet": [
                      {
                        "aaxis": {
                          "endlinecolor": "#2a3f5f",
                          "gridcolor": "white",
                          "linecolor": "white",
                          "minorgridcolor": "white",
                          "startlinecolor": "#2a3f5f"
                        },
                        "baxis": {
                          "endlinecolor": "#2a3f5f",
                          "gridcolor": "white",
                          "linecolor": "white",
                          "minorgridcolor": "white",
                          "startlinecolor": "#2a3f5f"
                        },
                        "type": "carpet"
                      }
                    ],
                    "choropleth": [
                      {
                        "colorbar": {
                          "outlinewidth": 0,
                          "ticks": ""
                        },
                        "type": "choropleth"
                      }
                    ],
                    "contour": [
                      {
                        "colorbar": {
                          "outlinewidth": 0,
                          "ticks": ""
                        },
                        "colorscale": [
                          [
                            0,
                            "#0d0887"
                          ],
                          [
                            0.1111111111111111,
                            "#46039f"
                          ],
                          [
                            0.2222222222222222,
                            "#7201a8"
                          ],
                          [
                            0.3333333333333333,
                            "#9c179e"
                          ],
                          [
                            0.4444444444444444,
                            "#bd3786"
                          ],
                          [
                            0.5555555555555556,
                            "#d8576b"
                          ],
                          [
                            0.6666666666666666,
                            "#ed7953"
                          ],
                          [
                            0.7777777777777778,
                            "#fb9f3a"
                          ],
                          [
                            0.8888888888888888,
                            "#fdca26"
                          ],
                          [
                            1,
                            "#f0f921"
                          ]
                        ],
                        "type": "contour"
                      }
                    ],
                    "contourcarpet": [
                      {
                        "colorbar": {
                          "outlinewidth": 0,
                          "ticks": ""
                        },
                        "type": "contourcarpet"
                      }
                    ],
                    "heatmap": [
                      {
                        "colorbar": {
                          "outlinewidth": 0,
                          "ticks": ""
                        },
                        "colorscale": [
                          [
                            0,
                            "#0d0887"
                          ],
                          [
                            0.1111111111111111,
                            "#46039f"
                          ],
                          [
                            0.2222222222222222,
                            "#7201a8"
                          ],
                          [
                            0.3333333333333333,
                            "#9c179e"
                          ],
                          [
                            0.4444444444444444,
                            "#bd3786"
                          ],
                          [
                            0.5555555555555556,
                            "#d8576b"
                          ],
                          [
                            0.6666666666666666,
                            "#ed7953"
                          ],
                          [
                            0.7777777777777778,
                            "#fb9f3a"
                          ],
                          [
                            0.8888888888888888,
                            "#fdca26"
                          ],
                          [
                            1,
                            "#f0f921"
                          ]
                        ],
                        "type": "heatmap"
                      }
                    ],
                    "heatmapgl": [
                      {
                        "colorbar": {
                          "outlinewidth": 0,
                          "ticks": ""
                        },
                        "colorscale": [
                          [
                            0,
                            "#0d0887"
                          ],
                          [
                            0.1111111111111111,
                            "#46039f"
                          ],
                          [
                            0.2222222222222222,
                            "#7201a8"
                          ],
                          [
                            0.3333333333333333,
                            "#9c179e"
                          ],
                          [
                            0.4444444444444444,
                            "#bd3786"
                          ],
                          [
                            0.5555555555555556,
                            "#d8576b"
                          ],
                          [
                            0.6666666666666666,
                            "#ed7953"
                          ],
                          [
                            0.7777777777777778,
                            "#fb9f3a"
                          ],
                          [
                            0.8888888888888888,
                            "#fdca26"
                          ],
                          [
                            1,
                            "#f0f921"
                          ]
                        ],
                        "type": "heatmapgl"
                      }
                    ],
                    "histogram": [
                      {
                        "marker": {
                          "pattern": {
                            "fillmode": "overlay",
                            "size": 10,
                            "solidity": 0.2
                          }
                        },
                        "type": "histogram"
                      }
                    ],
                    "histogram2d": [
                      {
                        "colorbar": {
                          "outlinewidth": 0,
                          "ticks": ""
                        },
                        "colorscale": [
                          [
                            0,
                            "#0d0887"
                          ],
                          [
                            0.1111111111111111,
                            "#46039f"
                          ],
                          [
                            0.2222222222222222,
                            "#7201a8"
                          ],
                          [
                            0.3333333333333333,
                            "#9c179e"
                          ],
                          [
                            0.4444444444444444,
                            "#bd3786"
                          ],
                          [
                            0.5555555555555556,
                            "#d8576b"
                          ],
                          [
                            0.6666666666666666,
                            "#ed7953"
                          ],
                          [
                            0.7777777777777778,
                            "#fb9f3a"
                          ],
                          [
                            0.8888888888888888,
                            "#fdca26"
                          ],
                          [
                            1,
                            "#f0f921"
                          ]
                        ],
                        "type": "histogram2d"
                      }
                    ],
                    "histogram2dcontour": [
                      {
                        "colorbar": {
                          "outlinewidth": 0,
                          "ticks": ""
                        },
                        "colorscale": [
                          [
                            0,
                            "#0d0887"
                          ],
                          [
                            0.1111111111111111,
                            "#46039f"
                          ],
                          [
                            0.2222222222222222,
                            "#7201a8"
                          ],
                          [
                            0.3333333333333333,
                            "#9c179e"
                          ],
                          [
                            0.4444444444444444,
                            "#bd3786"
                          ],
                          [
                            0.5555555555555556,
                            "#d8576b"
                          ],
                          [
                            0.6666666666666666,
                            "#ed7953"
                          ],
                          [
                            0.7777777777777778,
                            "#fb9f3a"
                          ],
                          [
                            0.8888888888888888,
                            "#fdca26"
                          ],
                          [
                            1,
                            "#f0f921"
                          ]
                        ],
                        "type": "histogram2dcontour"
                      }
                    ],
                    "mesh3d": [
                      {
                        "colorbar": {
                          "outlinewidth": 0,
                          "ticks": ""
                        },
                        "type": "mesh3d"
                      }
                    ],
                    "parcoords": [
                      {
                        "line": {
                          "colorbar": {
                            "outlinewidth": 0,
                            "ticks": ""
                          }
                        },
                        "type": "parcoords"
                      }
                    ],
                    "pie": [
                      {
                        "automargin": true,
                        "type": "pie"
                      }
                    ],
                    "scatter": [
                      {
                        "fillpattern": {
                          "fillmode": "overlay",
                          "size": 10,
                          "solidity": 0.2
                        },
                        "type": "scatter"
                      }
                    ],
                    "scatter3d": [
                      {
                        "line": {
                          "colorbar": {
                            "outlinewidth": 0,
                            "ticks": ""
                          }
                        },
                        "marker": {
                          "colorbar": {
                            "outlinewidth": 0,
                            "ticks": ""
                          }
                        },
                        "type": "scatter3d"
                      }
                    ],
                    "scattercarpet": [
                      {
                        "marker": {
                          "colorbar": {
                            "outlinewidth": 0,
                            "ticks": ""
                          }
                        },
                        "type": "scattercarpet"
                      }
                    ],
                    "scattergeo": [
                      {
                        "marker": {
                          "colorbar": {
                            "outlinewidth": 0,
                            "ticks": ""
                          }
                        },
                        "type": "scattergeo"
                      }
                    ],
                    "scattergl": [
                      {
                        "marker": {
                          "colorbar": {
                            "outlinewidth": 0,
                            "ticks": ""
                          }
                        },
                        "type": "scattergl"
                      }
                    ],
                    "scattermapbox": [
                      {
                        "marker": {
                          "colorbar": {
                            "outlinewidth": 0,
                            "ticks": ""
                          }
                        },
                        "type": "scattermapbox"
                      }
                    ],
                    "scatterpolar": [
                      {
                        "marker": {
                          "colorbar": {
                            "outlinewidth": 0,
                            "ticks": ""
                          }
                        },
                        "type": "scatterpolar"
                      }
                    ],
                    "scatterpolargl": [
                      {
                        "marker": {
                          "colorbar": {
                            "outlinewidth": 0,
                            "ticks": ""
                          }
                        },
                        "type": "scatterpolargl"
                      }
                    ],
                    "scatterternary": [
                      {
                        "marker": {
                          "colorbar": {
                            "outlinewidth": 0,
                            "ticks": ""
                          }
                        },
                        "type": "scatterternary"
                      }
                    ],
                    "surface": [
                      {
                        "colorbar": {
                          "outlinewidth": 0,
                          "ticks": ""
                        },
                        "colorscale": [
                          [
                            0,
                            "#0d0887"
                          ],
                          [
                            0.1111111111111111,
                            "#46039f"
                          ],
                          [
                            0.2222222222222222,
                            "#7201a8"
                          ],
                          [
                            0.3333333333333333,
                            "#9c179e"
                          ],
                          [
                            0.4444444444444444,
                            "#bd3786"
                          ],
                          [
                            0.5555555555555556,
                            "#d8576b"
                          ],
                          [
                            0.6666666666666666,
                            "#ed7953"
                          ],
                          [
                            0.7777777777777778,
                            "#fb9f3a"
                          ],
                          [
                            0.8888888888888888,
                            "#fdca26"
                          ],
                          [
                            1,
                            "#f0f921"
                          ]
                        ],
                        "type": "surface"
                      }
                    ],
                    "table": [
                      {
                        "cells": {
                          "fill": {
                            "color": "#EBF0F8"
                          },
                          "line": {
                            "color": "white"
                          }
                        },
                        "header": {
                          "fill": {
                            "color": "#C8D4E3"
                          },
                          "line": {
                            "color": "white"
                          }
                        },
                        "type": "table"
                      }
                    ]
                  },
                  "layout": {
                    "annotationdefaults": {
                      "arrowcolor": "#2a3f5f",
                      "arrowhead": 0,
                      "arrowwidth": 1
                    },
                    "autotypenumbers": "strict",
                    "coloraxis": {
                      "colorbar": {
                        "outlinewidth": 0,
                        "ticks": ""
                      }
                    },
                    "colorscale": {
                      "diverging": [
                        [
                          0,
                          "#8e0152"
                        ],
                        [
                          0.1,
                          "#c51b7d"
                        ],
                        [
                          0.2,
                          "#de77ae"
                        ],
                        [
                          0.3,
                          "#f1b6da"
                        ],
                        [
                          0.4,
                          "#fde0ef"
                        ],
                        [
                          0.5,
                          "#f7f7f7"
                        ],
                        [
                          0.6,
                          "#e6f5d0"
                        ],
                        [
                          0.7,
                          "#b8e186"
                        ],
                        [
                          0.8,
                          "#7fbc41"
                        ],
                        [
                          0.9,
                          "#4d9221"
                        ],
                        [
                          1,
                          "#276419"
                        ]
                      ],
                      "sequential": [
                        [
                          0,
                          "#0d0887"
                        ],
                        [
                          0.1111111111111111,
                          "#46039f"
                        ],
                        [
                          0.2222222222222222,
                          "#7201a8"
                        ],
                        [
                          0.3333333333333333,
                          "#9c179e"
                        ],
                        [
                          0.4444444444444444,
                          "#bd3786"
                        ],
                        [
                          0.5555555555555556,
                          "#d8576b"
                        ],
                        [
                          0.6666666666666666,
                          "#ed7953"
                        ],
                        [
                          0.7777777777777778,
                          "#fb9f3a"
                        ],
                        [
                          0.8888888888888888,
                          "#fdca26"
                        ],
                        [
                          1,
                          "#f0f921"
                        ]
                      ],
                      "sequentialminus": [
                        [
                          0,
                          "#0d0887"
                        ],
                        [
                          0.1111111111111111,
                          "#46039f"
                        ],
                        [
                          0.2222222222222222,
                          "#7201a8"
                        ],
                        [
                          0.3333333333333333,
                          "#9c179e"
                        ],
                        [
                          0.4444444444444444,
                          "#bd3786"
                        ],
                        [
                          0.5555555555555556,
                          "#d8576b"
                        ],
                        [
                          0.6666666666666666,
                          "#ed7953"
                        ],
                        [
                          0.7777777777777778,
                          "#fb9f3a"
                        ],
                        [
                          0.8888888888888888,
                          "#fdca26"
                        ],
                        [
                          1,
                          "#f0f921"
                        ]
                      ]
                    },
                    "colorway": [
                      "#636efa",
                      "#EF553B",
                      "#00cc96",
                      "#ab63fa",
                      "#FFA15A",
                      "#19d3f3",
                      "#FF6692",
                      "#B6E880",
                      "#FF97FF",
                      "#FECB52"
                    ],
                    "font": {
                      "color": "#2a3f5f"
                    },
                    "geo": {
                      "bgcolor": "white",
                      "lakecolor": "white",
                      "landcolor": "#E5ECF6",
                      "showlakes": true,
                      "showland": true,
                      "subunitcolor": "white"
                    },
                    "hoverlabel": {
                      "align": "left"
                    },
                    "hovermode": "closest",
                    "mapbox": {
                      "style": "light"
                    },
                    "paper_bgcolor": "white",
                    "plot_bgcolor": "#E5ECF6",
                    "polar": {
                      "angularaxis": {
                        "gridcolor": "white",
                        "linecolor": "white",
                        "ticks": ""
                      },
                      "bgcolor": "#E5ECF6",
                      "radialaxis": {
                        "gridcolor": "white",
                        "linecolor": "white",
                        "ticks": ""
                      }
                    },
                    "scene": {
                      "xaxis": {
                        "backgroundcolor": "#E5ECF6",
                        "gridcolor": "white",
                        "gridwidth": 2,
                        "linecolor": "white",
                        "showbackground": true,
                        "ticks": "",
                        "zerolinecolor": "white"
                      },
                      "yaxis": {
                        "backgroundcolor": "#E5ECF6",
                        "gridcolor": "white",
                        "gridwidth": 2,
                        "linecolor": "white",
                        "showbackground": true,
                        "ticks": "",
                        "zerolinecolor": "white"
                      },
                      "zaxis": {
                        "backgroundcolor": "#E5ECF6",
                        "gridcolor": "white",
                        "gridwidth": 2,
                        "linecolor": "white",
                        "showbackground": true,
                        "ticks": "",
                        "zerolinecolor": "white"
                      }
                    },
                    "shapedefaults": {
                      "line": {
                        "color": "#2a3f5f"
                      }
                    },
                    "ternary": {
                      "aaxis": {
                        "gridcolor": "white",
                        "linecolor": "white",
                        "ticks": ""
                      },
                      "baxis": {
                        "gridcolor": "white",
                        "linecolor": "white",
                        "ticks": ""
                      },
                      "bgcolor": "#E5ECF6",
                      "caxis": {
                        "gridcolor": "white",
                        "linecolor": "white",
                        "ticks": ""
                      }
                    },
                    "title": {
                      "x": 0.05
                    },
                    "xaxis": {
                      "automargin": true,
                      "gridcolor": "white",
                      "linecolor": "white",
                      "ticks": "",
                      "title": {
                        "standoff": 15
                      },
                      "zerolinecolor": "white",
                      "zerolinewidth": 2
                    },
                    "yaxis": {
                      "automargin": true,
                      "gridcolor": "white",
                      "linecolor": "white",
                      "ticks": "",
                      "title": {
                        "standoff": 15
                      },
                      "zerolinecolor": "white",
                      "zerolinewidth": 2
                    }
                  }
                },
                "xaxis": {
                  "anchor": "y",
                  "domain": [
                    0,
                    0.45
                  ],
                  "title": {
                    "text": "Epoch"
                  }
                },
                "yaxis": {
                  "anchor": "x",
                  "domain": [
                    0,
                    1
                  ],
                  "range": [
                    2.781707000732422,
                    15.077004432678223
                  ],
                  "title": {
                    "text": "Root Mean Squared Error"
                  }
                }
              }
            }
          },
          "metadata": {},
          "output_type": "display_data"
        }
      ],
      "source": [
        "#@title Code - Experiment 3\n",
        "\n",
        "# The following variables are the hyperparameters.\n",
        "learning_rate = 0.001\n",
        "epochs = 20\n",
        "batch_size = 50\n",
        "\n",
        "training_df.loc[:, 'TRIP_MINUTES'] = training_df['TRIP_SECONDS']/60\n",
        "\n",
        "features = ['TRIP_MILES', 'TRIP_MINUTES']\n",
        "label = 'FARE'\n",
        "\n",
        "model_2 = run_experiment(training_df, features, label, learning_rate, epochs, batch_size)"
      ]
    },
    {
      "cell_type": "code",
      "execution_count": 51,
      "metadata": {
        "cellView": "form",
        "id": "uFkKK5t33xSX"
      },
      "outputs": [
        {
          "name": "stdout",
          "output_type": "stream",
          "text": [
            "\n",
            "To answer this question for your specific training runs, compare the RMSE for\n",
            "each model. For example, if the RMSE for the model trained with one feature was\n",
            "3.7457 and the RMSE for the model with two features is 3.4787, that means that\n",
            "on average the model with two features makes predictions that are about $0.27\n",
            "closer to the observed fare.\n",
            "\n",
            "\n",
            "\n",
            "When training a model with more than one feature, it is important that all\n",
            "numeric values are roughly on the same scale. In this case, TRIP_SECONDS and\n",
            "TRIP_MILES do not meet this criteria. The mean value for TRIP_MILES is 8.3 and\n",
            "the mean for TRIP_SECONDS is 1320; that is two orders of magnitude difference.\n",
            "Converting the trip duration to minutes helps during training because in puts\n",
            "values for both features on a more comparable scale. Of course, this is not the\n",
            "only way to scale values before training, but you will learn about that in\n",
            "another module.\n",
            "\n",
            "\n",
            "\n",
            "In reality, Chicago taxi cabs use a documented formula to determine cab fares.\n",
            "For a single passenger paying cash, the fare is calculated like this:\n",
            "\n",
            "FARE = 2.25 * TRIP_MILES + 0.12 * TRIP_MINUTES + 3.25\n",
            "\n",
            "Typically with machine learning problems you would not know the 'correct'\n",
            "formula, but in this case you can this knowledge to evaluate your model. Take a\n",
            "look at your model output (the weights and bias) and determine how well it\n",
            "matches the ground truth fare calculation. You should find that the model is\n",
            "roughly close to this formula.\n",
            "\n"
          ]
        }
      ],
      "source": [
        "#@title Double-click to view answers for training with two features\n",
        "\n",
        "# Does the model with two features produce better results than one using a\n",
        "# single feature?\n",
        "# -----------------------------------------------------------------------------\n",
        "answer = '''\n",
        "To answer this question for your specific training runs, compare the RMSE for\n",
        "each model. For example, if the RMSE for the model trained with one feature was\n",
        "3.7457 and the RMSE for the model with two features is 3.4787, that means that\n",
        "on average the model with two features makes predictions that are about $0.27\n",
        "closer to the observed fare.\n",
        "\n",
        "'''\n",
        "print(answer)\n",
        "\n",
        "# Does it make a difference if you use TRIP_SECONDS instead of TRIP_MILES?\n",
        "# -----------------------------------------------------------------------------\n",
        "answer = '''\n",
        "When training a model with more than one feature, it is important that all\n",
        "numeric values are roughly on the same scale. In this case, TRIP_SECONDS and\n",
        "TRIP_MILES do not meet this criteria. The mean value for TRIP_MILES is 8.3 and\n",
        "the mean for TRIP_SECONDS is 1320; that is two orders of magnitude difference.\n",
        "Converting the trip duration to minutes helps during training because in puts\n",
        "values for both features on a more comparable scale. Of course, this is not the\n",
        "only way to scale values before training, but you will learn about that in\n",
        "another module.\n",
        "\n",
        "'''\n",
        "print(answer)\n",
        "\n",
        "# How well do you think the model comes to the ground truth fare calculation for\n",
        "# Chicago taxi trips?\n",
        "# -----------------------------------------------------------------------------\n",
        "answer = '''\n",
        "In reality, Chicago taxi cabs use a documented formula to determine cab fares.\n",
        "For a single passenger paying cash, the fare is calculated like this:\n",
        "\n",
        "FARE = 2.25 * TRIP_MILES + 0.12 * TRIP_MINUTES + 3.25\n",
        "\n",
        "Typically with machine learning problems you would not know the 'correct'\n",
        "formula, but in this case you can this knowledge to evaluate your model. Take a\n",
        "look at your model output (the weights and bias) and determine how well it\n",
        "matches the ground truth fare calculation. You should find that the model is\n",
        "roughly close to this formula.\n",
        "'''\n",
        "print(answer)"
      ]
    },
    {
      "cell_type": "markdown",
      "metadata": {
        "id": "MzMfgxldSMGK"
      },
      "source": [
        "# Part 4 - Validate Model\n",
        "\n",
        "\n",
        "---\n",
        "\n"
      ]
    },
    {
      "cell_type": "markdown",
      "metadata": {
        "id": "_yW7nVxlO1WY"
      },
      "source": [
        "## Use the model to make predictions\n",
        "\n",
        "Now that you have a trained model, you can use the model to make predictions. In practice, you should make predictions on examples that are not used during training. However, for this exercise, you'll just work with a subset of the same training dataset. In another Colab exercise you will explore ways to make predictions on examples not used in training.\n",
        "\n",
        "**Instructions**\n",
        "\n",
        "1. Run the **Define functions to make predictions** code cell.\n",
        "1. Run the **Make predictions** code cell.\n",
        "1. Review the predictions in the output.\n",
        "1. **Check your understanding** by answering these questions:\n",
        "  * How close is the predicted value to the label value? In other words, does your model accurately predict the fare for a taxi ride?"
      ]
    },
    {
      "cell_type": "code",
      "execution_count": 52,
      "metadata": {
        "cellView": "form",
        "id": "XdNxv3j8PGnr"
      },
      "outputs": [],
      "source": [
        "#@title Code - Define functions to make predictions\n",
        "def format_currency(x):\n",
        "  return \"${:.2f}\".format(x)\n",
        "\n",
        "def build_batch(df, batch_size):\n",
        "  batch = df.sample(n=batch_size).copy()\n",
        "  batch.set_index(np.arange(batch_size), inplace=True)\n",
        "  return batch\n",
        "\n",
        "def predict_fare(model, df, features, label, batch_size=50):\n",
        "  batch = build_batch(df, batch_size)\n",
        "  predicted_values = model.predict_on_batch(x=batch.loc[:, features].values)\n",
        "\n",
        "  data = {\"PREDICTED_FARE\": [], \"OBSERVED_FARE\": [], \"L1_LOSS\": [],\n",
        "          features[0]: [], features[1]: []}\n",
        "  for i in range(batch_size):\n",
        "    predicted = predicted_values[i][0]\n",
        "    observed = batch.at[i, label]\n",
        "    data[\"PREDICTED_FARE\"].append(format_currency(predicted))\n",
        "    data[\"OBSERVED_FARE\"].append(format_currency(observed))\n",
        "    data[\"L1_LOSS\"].append(format_currency(abs(observed - predicted)))\n",
        "    data[features[0]].append(batch.at[i, features[0]])\n",
        "    data[features[1]].append(\"{:.2f}\".format(batch.at[i, features[1]]))\n",
        "\n",
        "  output_df = pd.DataFrame(data)\n",
        "  return output_df\n",
        "\n",
        "def show_predictions(output):\n",
        "  header = \"-\" * 80\n",
        "  banner = header + \"\\n\" + \"|\" + \"PREDICTIONS\".center(78) + \"|\" + \"\\n\" + header\n",
        "  print(banner)\n",
        "  print(output)\n",
        "  return"
      ]
    },
    {
      "cell_type": "code",
      "execution_count": 53,
      "metadata": {
        "cellView": "form",
        "id": "PK3oO2kYV8m0"
      },
      "outputs": [
        {
          "name": "stdout",
          "output_type": "stream",
          "text": [
            "--------------------------------------------------------------------------------\n",
            "|                                 PREDICTIONS                                  |\n",
            "--------------------------------------------------------------------------------\n",
            "   PREDICTED_FARE OBSERVED_FARE L1_LOSS  TRIP_MILES TRIP_MINUTES\n",
            "0          $29.83        $29.00   $0.83       10.31        34.15\n",
            "1          $38.55        $38.25   $0.30       14.10        41.00\n",
            "2           $9.50         $9.00   $0.50        2.23         7.67\n",
            "3          $13.59        $13.25   $0.34        3.66        15.72\n",
            "4           $9.09         $9.00   $0.09        1.63        13.22\n",
            "5          $28.93        $30.00   $1.07        9.97        32.70\n",
            "6          $25.87        $25.50   $0.37        9.60        17.00\n",
            "7          $20.46        $18.50   $1.96        6.59        21.92\n",
            "8           $9.27         $9.00   $0.27        1.88        10.95\n",
            "9           $7.27         $7.00   $0.27        1.14         7.62\n",
            "10         $32.58        $32.75   $0.17       12.39        24.07\n",
            "11         $28.59        $28.00   $0.59       10.79        19.02\n",
            "12         $28.74        $28.00   $0.74       10.53        23.63\n",
            "13         $54.18        $55.25   $1.07       22.50        31.00\n",
            "14         $48.15        $45.50   $2.65       17.82        54.80\n",
            "15         $42.13        $41.25   $0.88       15.30        48.72\n",
            "16         $25.98        $26.00   $0.02        8.67        30.65\n",
            "17         $47.40        $45.50   $1.90       17.99        47.30\n",
            "18         $45.82        $44.25   $1.57       17.29        46.23\n",
            "19          $5.93         $5.75   $0.18        0.60         6.00\n",
            "20         $44.72        $43.75   $0.97       17.71        32.98\n",
            "21         $11.11        $10.25   $0.86        3.00         8.00\n",
            "22          $6.67         $6.25   $0.42        0.99         5.60\n",
            "23         $44.58        $44.50   $0.08       17.84        30.23\n",
            "24          $9.25         $9.25   $0.00        1.79        12.08\n",
            "25         $26.72        $26.25   $0.47        9.80        20.00\n",
            "26         $29.77        $30.50   $0.73       10.43        32.08\n",
            "27         $34.22        $34.50   $0.28       13.20        24.00\n",
            "28          $9.90         $9.50   $0.40        1.90        15.00\n",
            "29          $7.72         $7.25   $0.47        1.33         8.07\n",
            "30         $42.94        $43.00   $0.06       16.41        38.87\n",
            "31         $13.12        $13.00   $0.12        3.10        20.28\n",
            "32          $5.84         $5.25   $0.59        0.63         4.93\n",
            "33         $44.51        $44.25   $0.26       17.90        28.93\n",
            "34         $11.57        $11.00   $0.57        3.15         9.05\n",
            "35          $9.26         $9.25   $0.01        1.80        12.00\n",
            "36         $32.76        $32.00   $0.76       12.56        22.93\n",
            "37         $13.96        $13.25   $0.71        3.78        16.55\n",
            "38          $7.42         $6.75   $0.67        1.31         6.32\n",
            "39          $7.92         $7.50   $0.42        1.32         9.53\n",
            "40         $10.65         $9.75   $0.90        2.56        10.98\n",
            "41         $17.71        $17.50   $0.21        5.59        17.02\n",
            "42         $15.73        $15.50   $0.23        4.66        16.45\n",
            "43         $72.68        $73.00   $0.32       30.00        53.00\n",
            "44          $8.00         $8.00   $0.00        1.40         9.00\n",
            "45         $13.97        $13.25   $0.72        3.90        15.00\n",
            "46          $9.69         $9.75   $0.06        1.93        13.15\n",
            "47         $15.88        $16.62   $0.74        4.94        13.60\n",
            "48         $33.51        $32.75   $0.76       12.80        24.72\n",
            "49          $5.39         $4.50   $0.89        0.55         3.02\n"
          ]
        }
      ],
      "source": [
        "#@title Code - Make predictions\n",
        "\n",
        "output = predict_fare(model_2, training_df, features, label)\n",
        "show_predictions(output)"
      ]
    },
    {
      "cell_type": "code",
      "execution_count": 54,
      "metadata": {
        "cellView": "form",
        "id": "6sjix7lXI7xT"
      },
      "outputs": [
        {
          "name": "stdout",
          "output_type": "stream",
          "text": [
            "\n",
            "Based on a random sampling of examples, the model seems to do pretty well\n",
            "predicting the fare for a taxi ride. Most of the predicted values do not vary\n",
            "significantly from the observed value. You should be able to see this by looking\n",
            "at the column L1_LOSS = |observed - predicted|.\n",
            "\n"
          ]
        }
      ],
      "source": [
        "#@title Double-click to view answers for validate model\n",
        "\n",
        "# How close is the predicted value to the label value?\n",
        "# -----------------------------------------------------------------------------\n",
        "answer = '''\n",
        "Based on a random sampling of examples, the model seems to do pretty well\n",
        "predicting the fare for a taxi ride. Most of the predicted values do not vary\n",
        "significantly from the observed value. You should be able to see this by looking\n",
        "at the column L1_LOSS = |observed - predicted|.\n",
        "'''\n",
        "print(answer)"
      ]
    },
    {
      "cell_type": "code",
      "execution_count": null,
      "metadata": {},
      "outputs": [],
      "source": []
    }
  ],
  "metadata": {
    "colab": {
      "collapsed_sections": [
        "sgR4YRjj5T-b"
      ],
      "provenance": []
    },
    "kernelspec": {
      "display_name": "base",
      "language": "python",
      "name": "python3"
    },
    "language_info": {
      "codemirror_mode": {
        "name": "ipython",
        "version": 3
      },
      "file_extension": ".py",
      "mimetype": "text/x-python",
      "name": "python",
      "nbconvert_exporter": "python",
      "pygments_lexer": "ipython3",
      "version": "3.11.7"
    }
  },
  "nbformat": 4,
  "nbformat_minor": 0
}
